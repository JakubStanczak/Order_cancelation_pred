{
 "cells": [
  {
   "cell_type": "code",
   "execution_count": 1,
   "metadata": {},
   "outputs": [
    {
     "name": "stderr",
     "output_type": "stream",
     "text": [
      "Using TensorFlow backend.\n"
     ]
    }
   ],
   "source": [
    "from collections import defaultdict, Counter\n",
    "import gc\n",
    "\n",
    "import pandas as pd\n",
    "import numpy as np\n",
    "\n",
    "import matplotlib.pyplot as plt\n",
    "import seaborn as sns\n",
    "import scikitplot as skplt\n",
    "\n",
    "from sklearn.model_selection import train_test_split, KFold, StratifiedKFold, cross_val_score, cross_val_predict\n",
    "from sklearn.dummy import DummyRegressor\n",
    "from sklearn.tree import DecisionTreeClassifier\n",
    "from sklearn.ensemble import RandomForestClassifier, RandomForestRegressor\n",
    "from xgboost import XGBClassifier, XGBRegressor\n",
    "from sklearn.metrics import mean_squared_error\n",
    "\n",
    "from functools import partial\n",
    "from hyperopt import hp, fmin, tpe, STATUS_OK, Trials\n",
    "\n",
    "import eli5\n",
    "from eli5.sklearn import PermutationImportance\n",
    "\n",
    "%matplotlib inline"
   ]
  },
  {
   "cell_type": "code",
   "execution_count": 2,
   "metadata": {},
   "outputs": [
    {
     "name": "stdout",
     "output_type": "stream",
     "text": [
      "<class 'pandas.core.frame.DataFrame'>\n",
      "Int64Index: 1067371 entries, 12 to 541893\n",
      "Data columns (total 11 columns):\n",
      "invoice         1067371 non-null int32\n",
      "stock_code      1067371 non-null int16\n",
      "description     1062989 non-null object\n",
      "quantity        1067371 non-null int32\n",
      "invoice_date    1067371 non-null datetime64[ns]\n",
      "price_unit      1067371 non-null float16\n",
      "price_total     1067371 non-null float32\n",
      "customer_id     1067371 non-null int16\n",
      "country         1067371 non-null object\n",
      "is_canceled     520142 non-null object\n",
      "is_test         1067371 non-null bool\n",
      "dtypes: bool(1), datetime64[ns](1), float16(1), float32(1), int16(2), int32(2), object(3)\n",
      "memory usage: 60.1+ MB\n"
     ]
    }
   ],
   "source": [
    "train = pd.read_hdf('../../../input/train_online_retail.h5')\n",
    "test = pd.read_hdf('../../../input/test_online_retail.h5')\n",
    "df_all = pd.concat([train, test], sort=False)\n",
    "del train, test\n",
    "gc.collect()\n",
    "\n",
    "df_all.info()"
   ]
  },
  {
   "cell_type": "code",
   "execution_count": 4,
   "metadata": {},
   "outputs": [],
   "source": [
    "def group_to_dict(group_key, agg_func):\n",
    "    train = df_all[ ~df_all['is_canceled'].isnull()]\n",
    "    dict_ = train.groupby(group_key)['is_canceled'].agg(agg_func).to_dict()\n",
    "    if -1 in dict_: del dict_[-1]\n",
    "        \n",
    "    mean = np.mean( list(dict_.values()) )\n",
    "    return defaultdict(lambda: mean, dict_)"
   ]
  },
  {
   "cell_type": "code",
   "execution_count": 5,
   "metadata": {},
   "outputs": [],
   "source": [
    "train = df_all[ ~df_all['is_canceled'].isnull()]\n",
    "description_canc = train.groupby(['stock_code', 'description'])['is_canceled'].agg(np.sum).reset_index()\n",
    "description_canc['is_canceled'] = description_canc['is_canceled'].astype(int)\n",
    "description_canc['description'] = description_canc['description'].map(lambda x: str(x).strip())\n",
    "description_canc['words'] = description_canc['description'].map(lambda x: x.split(' '))\n",
    "\n",
    "most_canceled_words = {}\n",
    "for i in range(description_canc.shape[0]):\n",
    "    word_lst = description_canc['words'].iloc[i]    \n",
    "    for word in word_lst:\n",
    "        curr_num = most_canceled_words.get(word, 0)\n",
    "        \n",
    "        most_canceled_words[word] = curr_num + description_canc['is_canceled'].iloc[i]\n",
    "\n",
    "sorted(most_canceled_words.items() ,  key=lambda x: x[1], reverse=True)\n",
    "\n",
    "stock_code_word_score = {}\n",
    "for i in range(description_canc.shape[0]):\n",
    "    word_lst = description_canc['words'].iloc[i]\n",
    "    stock_score = 0\n",
    "    for word in word_lst:\n",
    "        stock_score += most_canceled_words[word]\n",
    "        \n",
    "    stock_code_word_score[description_canc['stock_code'].iloc[i]] = stock_score\n",
    "    \n",
    "stock_code_word_score = defaultdict(lambda: 0, stock_code_word_score)"
   ]
  },
  {
   "cell_type": "code",
   "execution_count": 6,
   "metadata": {},
   "outputs": [],
   "source": [
    "# customer feats\n",
    "df_all['cnt_customer_orders'] = df_all['customer_id'].map(group_to_dict('customer_id', agg_func=np.size))\n",
    "df_all['cnt_customer_cancel'] = df_all['customer_id'].map(group_to_dict('customer_id', agg_func=np.sum))\n",
    "df_all['prc_customer_cancel'] = df_all[['cnt_customer_orders', 'cnt_customer_cancel']].apply(lambda x: x['cnt_customer_cancel'] / x['cnt_customer_orders'] if x['cnt_customer_orders'] != 0 else 0, axis=1)\n",
    "\n",
    "# produkt feats\n",
    "df_all['cnt_product_orders'] = df_all['stock_code'].map(group_to_dict('stock_code', agg_func=np.size))\n",
    "df_all['cnt_product_cancel'] = df_all['stock_code'].map(group_to_dict('stock_code', agg_func=np.sum))\n",
    "df_all['prc_product_cancel'] = df_all[['cnt_product_orders', 'cnt_product_cancel']].apply(lambda x: x['cnt_product_cancel'] / x['cnt_product_orders'] if x['cnt_product_orders'] != 0 else 0, axis=1)\n",
    "\n",
    "df_all['stock_word_score'] = df_all['stock_code'].map(stock_code_word_score)\n",
    "\n",
    "# date feats\n",
    "df_all['invoice_year'] = df_all['invoice_date'].dt.year\n",
    "df_all['invoice_month'] = df_all['invoice_date'].dt.month\n",
    "df_all['invoice_day_of_m'] = df_all['invoice_date'].dt.day\n",
    "df_all['invoice_day_of_y'] = df_all['invoice_date'].dt.dayofyear\n",
    "df_all['invoice_hour'] = df_all['invoice_date'].dt.hour\n",
    "\n",
    "# category feats\n",
    "df_all['country__cat'] = pd.factorize(df_all['country'])[0]"
   ]
  },
  {
   "cell_type": "code",
   "execution_count": 125,
   "metadata": {},
   "outputs": [
    {
     "data": {
      "text/plain": [
       "0"
      ]
     },
     "execution_count": 125,
     "metadata": {},
     "output_type": "execute_result"
    }
   ],
   "source": [
    "df_all['stock_word_score'].isnull().sum()"
   ]
  },
  {
   "cell_type": "code",
   "execution_count": 94,
   "metadata": {},
   "outputs": [
    {
     "data": {
      "text/html": [
       "<div>\n",
       "<style scoped>\n",
       "    .dataframe tbody tr th:only-of-type {\n",
       "        vertical-align: middle;\n",
       "    }\n",
       "\n",
       "    .dataframe tbody tr th {\n",
       "        vertical-align: top;\n",
       "    }\n",
       "\n",
       "    .dataframe thead th {\n",
       "        text-align: right;\n",
       "    }\n",
       "</style>\n",
       "<table border=\"1\" class=\"dataframe\">\n",
       "  <thead>\n",
       "    <tr style=\"text-align: right;\">\n",
       "      <th></th>\n",
       "      <th>invoice</th>\n",
       "      <th>stock_code</th>\n",
       "      <th>description</th>\n",
       "      <th>quantity</th>\n",
       "      <th>invoice_date</th>\n",
       "      <th>price_unit</th>\n",
       "      <th>price_total</th>\n",
       "      <th>customer_id</th>\n",
       "      <th>country</th>\n",
       "      <th>is_canceled</th>\n",
       "      <th>...</th>\n",
       "      <th>cnt_product_orders</th>\n",
       "      <th>cnt_product_cancel</th>\n",
       "      <th>prc_product_cancel</th>\n",
       "      <th>stock_word_score</th>\n",
       "      <th>invoice_year</th>\n",
       "      <th>invoice_month</th>\n",
       "      <th>invoice_day_of_m</th>\n",
       "      <th>invoice_day_of_y</th>\n",
       "      <th>invoice_hour</th>\n",
       "      <th>country__cat</th>\n",
       "    </tr>\n",
       "  </thead>\n",
       "  <tbody>\n",
       "    <tr>\n",
       "      <th>12</th>\n",
       "      <td>2</td>\n",
       "      <td>12</td>\n",
       "      <td>DOOR MAT BLACK FLOCK</td>\n",
       "      <td>10</td>\n",
       "      <td>2009-12-01 09:06:00</td>\n",
       "      <td>5.949219</td>\n",
       "      <td>59.500000</td>\n",
       "      <td>1</td>\n",
       "      <td>United Kingdom</td>\n",
       "      <td>False</td>\n",
       "      <td>...</td>\n",
       "      <td>242.0</td>\n",
       "      <td>1</td>\n",
       "      <td>0.004132</td>\n",
       "      <td>0.0</td>\n",
       "      <td>2009</td>\n",
       "      <td>12</td>\n",
       "      <td>1</td>\n",
       "      <td>335</td>\n",
       "      <td>9</td>\n",
       "      <td>0</td>\n",
       "    </tr>\n",
       "    <tr>\n",
       "      <th>13</th>\n",
       "      <td>2</td>\n",
       "      <td>13</td>\n",
       "      <td>LOVE BUILDING BLOCK WORD</td>\n",
       "      <td>18</td>\n",
       "      <td>2009-12-01 09:06:00</td>\n",
       "      <td>5.449219</td>\n",
       "      <td>98.099998</td>\n",
       "      <td>1</td>\n",
       "      <td>United Kingdom</td>\n",
       "      <td>False</td>\n",
       "      <td>...</td>\n",
       "      <td>890.0</td>\n",
       "      <td>11</td>\n",
       "      <td>0.012360</td>\n",
       "      <td>159.0</td>\n",
       "      <td>2009</td>\n",
       "      <td>12</td>\n",
       "      <td>1</td>\n",
       "      <td>335</td>\n",
       "      <td>9</td>\n",
       "      <td>0</td>\n",
       "    </tr>\n",
       "    <tr>\n",
       "      <th>14</th>\n",
       "      <td>2</td>\n",
       "      <td>14</td>\n",
       "      <td>HOME BUILDING BLOCK WORD</td>\n",
       "      <td>3</td>\n",
       "      <td>2009-12-01 09:06:00</td>\n",
       "      <td>5.949219</td>\n",
       "      <td>17.850000</td>\n",
       "      <td>1</td>\n",
       "      <td>United Kingdom</td>\n",
       "      <td>False</td>\n",
       "      <td>...</td>\n",
       "      <td>1081.0</td>\n",
       "      <td>11</td>\n",
       "      <td>0.010176</td>\n",
       "      <td>183.0</td>\n",
       "      <td>2009</td>\n",
       "      <td>12</td>\n",
       "      <td>1</td>\n",
       "      <td>335</td>\n",
       "      <td>9</td>\n",
       "      <td>0</td>\n",
       "    </tr>\n",
       "    <tr>\n",
       "      <th>15</th>\n",
       "      <td>2</td>\n",
       "      <td>15</td>\n",
       "      <td>ASSORTED COLOUR BIRD ORNAMENT</td>\n",
       "      <td>16</td>\n",
       "      <td>2009-12-01 09:06:00</td>\n",
       "      <td>1.690430</td>\n",
       "      <td>27.040001</td>\n",
       "      <td>1</td>\n",
       "      <td>United Kingdom</td>\n",
       "      <td>False</td>\n",
       "      <td>...</td>\n",
       "      <td>1384.0</td>\n",
       "      <td>10</td>\n",
       "      <td>0.007225</td>\n",
       "      <td>0.0</td>\n",
       "      <td>2009</td>\n",
       "      <td>12</td>\n",
       "      <td>1</td>\n",
       "      <td>335</td>\n",
       "      <td>9</td>\n",
       "      <td>0</td>\n",
       "    </tr>\n",
       "    <tr>\n",
       "      <th>16</th>\n",
       "      <td>2</td>\n",
       "      <td>16</td>\n",
       "      <td>PEACE WOODEN BLOCK LETTERS</td>\n",
       "      <td>3</td>\n",
       "      <td>2009-12-01 09:06:00</td>\n",
       "      <td>6.949219</td>\n",
       "      <td>20.850000</td>\n",
       "      <td>1</td>\n",
       "      <td>United Kingdom</td>\n",
       "      <td>False</td>\n",
       "      <td>...</td>\n",
       "      <td>185.0</td>\n",
       "      <td>3</td>\n",
       "      <td>0.016216</td>\n",
       "      <td>243.0</td>\n",
       "      <td>2009</td>\n",
       "      <td>12</td>\n",
       "      <td>1</td>\n",
       "      <td>335</td>\n",
       "      <td>9</td>\n",
       "      <td>0</td>\n",
       "    </tr>\n",
       "  </tbody>\n",
       "</table>\n",
       "<p>5 rows × 24 columns</p>\n",
       "</div>"
      ],
      "text/plain": [
       "    invoice  stock_code                    description  quantity  \\\n",
       "12        2          12          DOOR MAT BLACK FLOCK         10   \n",
       "13        2          13       LOVE BUILDING BLOCK WORD        18   \n",
       "14        2          14       HOME BUILDING BLOCK WORD         3   \n",
       "15        2          15  ASSORTED COLOUR BIRD ORNAMENT        16   \n",
       "16        2          16     PEACE WOODEN BLOCK LETTERS         3   \n",
       "\n",
       "          invoice_date  price_unit  price_total  customer_id         country  \\\n",
       "12 2009-12-01 09:06:00    5.949219    59.500000            1  United Kingdom   \n",
       "13 2009-12-01 09:06:00    5.449219    98.099998            1  United Kingdom   \n",
       "14 2009-12-01 09:06:00    5.949219    17.850000            1  United Kingdom   \n",
       "15 2009-12-01 09:06:00    1.690430    27.040001            1  United Kingdom   \n",
       "16 2009-12-01 09:06:00    6.949219    20.850000            1  United Kingdom   \n",
       "\n",
       "   is_canceled  ...  cnt_product_orders  cnt_product_cancel  \\\n",
       "12       False  ...               242.0                   1   \n",
       "13       False  ...               890.0                  11   \n",
       "14       False  ...              1081.0                  11   \n",
       "15       False  ...              1384.0                  10   \n",
       "16       False  ...               185.0                   3   \n",
       "\n",
       "   prc_product_cancel  stock_word_score  invoice_year invoice_month  \\\n",
       "12           0.004132               0.0          2009            12   \n",
       "13           0.012360             159.0          2009            12   \n",
       "14           0.010176             183.0          2009            12   \n",
       "15           0.007225               0.0          2009            12   \n",
       "16           0.016216             243.0          2009            12   \n",
       "\n",
       "    invoice_day_of_m  invoice_day_of_y  invoice_hour  country__cat  \n",
       "12                 1               335             9             0  \n",
       "13                 1               335             9             0  \n",
       "14                 1               335             9             0  \n",
       "15                 1               335             9             0  \n",
       "16                 1               335             9             0  \n",
       "\n",
       "[5 rows x 24 columns]"
      ]
     },
     "execution_count": 94,
     "metadata": {},
     "output_type": "execute_result"
    }
   ],
   "source": [
    "df_all.head()"
   ]
  },
  {
   "cell_type": "code",
   "execution_count": 171,
   "metadata": {},
   "outputs": [],
   "source": [
    "num_order_canceled = df_all['stock_code'].map(group_to_dict('stock_code', agg_func=np.sum))\n",
    "order_to_descr_dict = df_all.groupby('stock_code')['description']"
   ]
  },
  {
   "cell_type": "code",
   "execution_count": 205,
   "metadata": {},
   "outputs": [],
   "source": [
    "n = df_all['stock_code'].value_counts()\n",
    "stoc_kodes = list(n.index)\n",
    "stock_desc_dic\n",
    "for i in range(df_all.shape[0]):\n",
    "    "
   ]
  },
  {
   "cell_type": "code",
   "execution_count": 206,
   "metadata": {},
   "outputs": [
    {
     "data": {
      "text/html": [
       "<div>\n",
       "<style scoped>\n",
       "    .dataframe tbody tr th:only-of-type {\n",
       "        vertical-align: middle;\n",
       "    }\n",
       "\n",
       "    .dataframe tbody tr th {\n",
       "        vertical-align: top;\n",
       "    }\n",
       "\n",
       "    .dataframe thead th {\n",
       "        text-align: right;\n",
       "    }\n",
       "</style>\n",
       "<table border=\"1\" class=\"dataframe\">\n",
       "  <thead>\n",
       "    <tr style=\"text-align: right;\">\n",
       "      <th></th>\n",
       "      <th>invoice</th>\n",
       "      <th>stock_code</th>\n",
       "      <th>description</th>\n",
       "      <th>quantity</th>\n",
       "      <th>invoice_date</th>\n",
       "      <th>price_unit</th>\n",
       "      <th>price_total</th>\n",
       "      <th>customer_id</th>\n",
       "      <th>country</th>\n",
       "      <th>is_canceled</th>\n",
       "      <th>is_test</th>\n",
       "    </tr>\n",
       "  </thead>\n",
       "  <tbody>\n",
       "    <tr>\n",
       "      <th>764</th>\n",
       "      <td>50</td>\n",
       "      <td>188</td>\n",
       "      <td>RED CHARLIE+LOLA PERSONAL DOORSIGN</td>\n",
       "      <td>1</td>\n",
       "      <td>2009-12-01 12:13:00</td>\n",
       "      <td>2.949219</td>\n",
       "      <td>2.950000</td>\n",
       "      <td>40</td>\n",
       "      <td>United Kingdom</td>\n",
       "      <td>False</td>\n",
       "      <td>False</td>\n",
       "    </tr>\n",
       "    <tr>\n",
       "      <th>4182</th>\n",
       "      <td>225</td>\n",
       "      <td>188</td>\n",
       "      <td>RED CHARLIE+LOLA PERSONAL DOORSIGN</td>\n",
       "      <td>96</td>\n",
       "      <td>2009-12-02 12:28:00</td>\n",
       "      <td>0.379883</td>\n",
       "      <td>36.480000</td>\n",
       "      <td>164</td>\n",
       "      <td>United Kingdom</td>\n",
       "      <td>False</td>\n",
       "      <td>False</td>\n",
       "    </tr>\n",
       "    <tr>\n",
       "      <th>23206</th>\n",
       "      <td>1123</td>\n",
       "      <td>188</td>\n",
       "      <td>RED CHARLIE+LOLA PERSONAL DOORSIGN</td>\n",
       "      <td>1</td>\n",
       "      <td>2009-12-10 12:21:00</td>\n",
       "      <td>2.949219</td>\n",
       "      <td>2.950000</td>\n",
       "      <td>704</td>\n",
       "      <td>United Kingdom</td>\n",
       "      <td>False</td>\n",
       "      <td>False</td>\n",
       "    </tr>\n",
       "    <tr>\n",
       "      <th>26542</th>\n",
       "      <td>1344</td>\n",
       "      <td>188</td>\n",
       "      <td>RED CHARLIE+LOLA PERSONAL DOORSIGN</td>\n",
       "      <td>1</td>\n",
       "      <td>2009-12-13 11:23:00</td>\n",
       "      <td>2.949219</td>\n",
       "      <td>2.950000</td>\n",
       "      <td>433</td>\n",
       "      <td>United Kingdom</td>\n",
       "      <td>False</td>\n",
       "      <td>False</td>\n",
       "    </tr>\n",
       "    <tr>\n",
       "      <th>34517</th>\n",
       "      <td>1676</td>\n",
       "      <td>188</td>\n",
       "      <td>RED CHARLIE+LOLA PERSONAL DOORSIGN</td>\n",
       "      <td>6</td>\n",
       "      <td>2009-12-16 11:46:00</td>\n",
       "      <td>2.949219</td>\n",
       "      <td>17.700001</td>\n",
       "      <td>933</td>\n",
       "      <td>United Kingdom</td>\n",
       "      <td>False</td>\n",
       "      <td>False</td>\n",
       "    </tr>\n",
       "    <tr>\n",
       "      <th>...</th>\n",
       "      <td>...</td>\n",
       "      <td>...</td>\n",
       "      <td>...</td>\n",
       "      <td>...</td>\n",
       "      <td>...</td>\n",
       "      <td>...</td>\n",
       "      <td>...</td>\n",
       "      <td>...</td>\n",
       "      <td>...</td>\n",
       "      <td>...</td>\n",
       "      <td>...</td>\n",
       "    </tr>\n",
       "    <tr>\n",
       "      <th>513509</th>\n",
       "      <td>52482</td>\n",
       "      <td>188</td>\n",
       "      <td>RED CHARLIE+LOLA PERSONAL DOORSIGN</td>\n",
       "      <td>1</td>\n",
       "      <td>2011-11-30 11:08:00</td>\n",
       "      <td>0.389893</td>\n",
       "      <td>0.390000</td>\n",
       "      <td>3949</td>\n",
       "      <td>United Kingdom</td>\n",
       "      <td>NaN</td>\n",
       "      <td>True</td>\n",
       "    </tr>\n",
       "    <tr>\n",
       "      <th>517276</th>\n",
       "      <td>52703</td>\n",
       "      <td>188</td>\n",
       "      <td>RED CHARLIE+LOLA PERSONAL DOORSIGN</td>\n",
       "      <td>1</td>\n",
       "      <td>2011-12-01 12:53:00</td>\n",
       "      <td>0.389893</td>\n",
       "      <td>0.390000</td>\n",
       "      <td>385</td>\n",
       "      <td>United Kingdom</td>\n",
       "      <td>NaN</td>\n",
       "      <td>True</td>\n",
       "    </tr>\n",
       "    <tr>\n",
       "      <th>517410</th>\n",
       "      <td>52709</td>\n",
       "      <td>188</td>\n",
       "      <td>RED CHARLIE+LOLA PERSONAL DOORSIGN</td>\n",
       "      <td>8</td>\n",
       "      <td>2011-12-01 13:08:00</td>\n",
       "      <td>0.389893</td>\n",
       "      <td>3.120000</td>\n",
       "      <td>5135</td>\n",
       "      <td>United Kingdom</td>\n",
       "      <td>NaN</td>\n",
       "      <td>True</td>\n",
       "    </tr>\n",
       "    <tr>\n",
       "      <th>530627</th>\n",
       "      <td>53212</td>\n",
       "      <td>188</td>\n",
       "      <td>RED CHARLIE+LOLA PERSONAL DOORSIGN</td>\n",
       "      <td>2</td>\n",
       "      <td>2011-12-06 12:12:00</td>\n",
       "      <td>0.389893</td>\n",
       "      <td>0.780000</td>\n",
       "      <td>4718</td>\n",
       "      <td>United Kingdom</td>\n",
       "      <td>NaN</td>\n",
       "      <td>True</td>\n",
       "    </tr>\n",
       "    <tr>\n",
       "      <th>536887</th>\n",
       "      <td>53444</td>\n",
       "      <td>188</td>\n",
       "      <td>RED CHARLIE+LOLA PERSONAL DOORSIGN</td>\n",
       "      <td>24</td>\n",
       "      <td>2011-12-08 09:47:00</td>\n",
       "      <td>0.389893</td>\n",
       "      <td>9.360000</td>\n",
       "      <td>665</td>\n",
       "      <td>United Kingdom</td>\n",
       "      <td>NaN</td>\n",
       "      <td>True</td>\n",
       "    </tr>\n",
       "  </tbody>\n",
       "</table>\n",
       "<p>175 rows × 11 columns</p>\n",
       "</div>"
      ],
      "text/plain": [
       "        invoice  stock_code                         description  quantity  \\\n",
       "764          50         188  RED CHARLIE+LOLA PERSONAL DOORSIGN         1   \n",
       "4182        225         188  RED CHARLIE+LOLA PERSONAL DOORSIGN        96   \n",
       "23206      1123         188  RED CHARLIE+LOLA PERSONAL DOORSIGN         1   \n",
       "26542      1344         188  RED CHARLIE+LOLA PERSONAL DOORSIGN         1   \n",
       "34517      1676         188  RED CHARLIE+LOLA PERSONAL DOORSIGN         6   \n",
       "...         ...         ...                                 ...       ...   \n",
       "513509    52482         188  RED CHARLIE+LOLA PERSONAL DOORSIGN         1   \n",
       "517276    52703         188  RED CHARLIE+LOLA PERSONAL DOORSIGN         1   \n",
       "517410    52709         188  RED CHARLIE+LOLA PERSONAL DOORSIGN         8   \n",
       "530627    53212         188  RED CHARLIE+LOLA PERSONAL DOORSIGN         2   \n",
       "536887    53444         188  RED CHARLIE+LOLA PERSONAL DOORSIGN        24   \n",
       "\n",
       "              invoice_date  price_unit  price_total  customer_id  \\\n",
       "764    2009-12-01 12:13:00    2.949219     2.950000           40   \n",
       "4182   2009-12-02 12:28:00    0.379883    36.480000          164   \n",
       "23206  2009-12-10 12:21:00    2.949219     2.950000          704   \n",
       "26542  2009-12-13 11:23:00    2.949219     2.950000          433   \n",
       "34517  2009-12-16 11:46:00    2.949219    17.700001          933   \n",
       "...                    ...         ...          ...          ...   \n",
       "513509 2011-11-30 11:08:00    0.389893     0.390000         3949   \n",
       "517276 2011-12-01 12:53:00    0.389893     0.390000          385   \n",
       "517410 2011-12-01 13:08:00    0.389893     3.120000         5135   \n",
       "530627 2011-12-06 12:12:00    0.389893     0.780000         4718   \n",
       "536887 2011-12-08 09:47:00    0.389893     9.360000          665   \n",
       "\n",
       "               country is_canceled  is_test  \n",
       "764     United Kingdom       False    False  \n",
       "4182    United Kingdom       False    False  \n",
       "23206   United Kingdom       False    False  \n",
       "26542   United Kingdom       False    False  \n",
       "34517   United Kingdom       False    False  \n",
       "...                ...         ...      ...  \n",
       "513509  United Kingdom         NaN     True  \n",
       "517276  United Kingdom         NaN     True  \n",
       "517410  United Kingdom         NaN     True  \n",
       "530627  United Kingdom         NaN     True  \n",
       "536887  United Kingdom         NaN     True  \n",
       "\n",
       "[175 rows x 11 columns]"
      ]
     },
     "execution_count": 206,
     "metadata": {},
     "output_type": "execute_result"
    }
   ],
   "source": [
    "df_all[ df_all['stock_code'] == 188 ]"
   ]
  },
  {
   "cell_type": "markdown",
   "metadata": {},
   "source": [
    "# Train"
   ]
  },
  {
   "cell_type": "code",
   "execution_count": 7,
   "metadata": {},
   "outputs": [],
   "source": [
    "def get_feats_X_y(df, group=False):\n",
    "    \n",
    "    # select feats\n",
    "    black_list = ['is_canceled', 'is_test', 'total_return']\n",
    "    feats = df.select_dtypes([np.bool, np.number]).columns\n",
    "    feats = [x for x in feats if x not in black_list]\n",
    "                  \n",
    "    X = df[feats].values\n",
    "    \n",
    "    if group:\n",
    "        if 'total_return_log' in df.columns:\n",
    "            y = df['total_return_log'].values \n",
    "        else:\n",
    "            y = df['total_return'].values\n",
    "    else:\n",
    "        y = df['is_canceled'].values\n",
    "    \n",
    "    return X, y, feats"
   ]
  },
  {
   "cell_type": "code",
   "execution_count": 8,
   "metadata": {},
   "outputs": [],
   "source": [
    "def test_model(model, scoring='recall', check_distribution=False):\n",
    "    cv = StratifiedKFold(n_splits=3, random_state=0, shuffle=True)\n",
    "    scores = cross_val_score(model, X, y, cv=cv, scoring=scoring)\n",
    "    print('scores: {}'.format(scores))\n",
    "    print('mean: {}, std: {} \\n'.format(np.mean(scores), np.std(scores)))\n",
    "    \n",
    "    if check_distribution:\n",
    "        y_pred = pd.Series(cross_val_predict(model, X, y, cv=cv))\n",
    "        print('y_pred value_counts: \\n{}'.format(y_pred.value_counts(normalize=True)))\n",
    "\n",
    "        \n",
    "        \n",
    "def plot_model_char(model, check_confusion=True, check_feature_importance=True, check_learning_curve=True):\n",
    "    \n",
    "    if check_confusion:\n",
    "        cv = StratifiedKFold(n_splits=3, random_state=0, shuffle=True)\n",
    "        y_pred = cross_val_predict(model, X, y, cv=cv)\n",
    "        skplt.metrics.plot_confusion_matrix(y, y_pred, normalize=True, figsize=(10 ,10))\n",
    "    \n",
    "    if check_feature_importance or check_learning_curve:\n",
    "        model.fit(X, y)\n",
    "    \n",
    "    if check_feature_importance:\n",
    "        skplt.estimators.plot_feature_importances(model, feature_names=feats, x_tick_rotation=90, figsize=(15, 5))\n",
    "    \n",
    "    if check_learning_curve:\n",
    "        skplt.estimators.plot_learning_curve(model, X, y, figsize=(15, 5), cv=3, scoring='recall');"
   ]
  },
  {
   "cell_type": "code",
   "execution_count": 9,
   "metadata": {},
   "outputs": [],
   "source": [
    "# prepare to train\n",
    "train = df_all[ ~df_all['is_test'] ].copy()\n",
    "test = df_all[ df_all['is_test'] ].copy()\n",
    "\n",
    "#release memory\n",
    "del df_all\n",
    "gc.collect()\n",
    "\n",
    "train['cnt_product_cancel'] = train['cnt_product_cancel'].astype(float)\n",
    "train['cnt_customer_cancel'] = train['cnt_customer_cancel'].astype(float)\n",
    "\n",
    "test['cnt_product_cancel'] = test['cnt_product_cancel'].astype(float)\n",
    "test['cnt_customer_cancel'] = test['cnt_customer_cancel'].astype(float)\n",
    "\n",
    "train['is_canceled'] = train['is_canceled'].astype(bool)"
   ]
  },
  {
   "cell_type": "code",
   "execution_count": 58,
   "metadata": {},
   "outputs": [
    {
     "name": "stdout",
     "output_type": "stream",
     "text": [
      "<class 'pandas.core.frame.DataFrame'>\n",
      "Int64Index: 517106 entries, 12 to 541909\n",
      "Data columns (total 24 columns):\n",
      "invoice                517106 non-null int32\n",
      "stock_code             517106 non-null int16\n",
      "description            517106 non-null object\n",
      "quantity               517106 non-null int32\n",
      "invoice_date           517106 non-null datetime64[ns]\n",
      "price_unit             517106 non-null float16\n",
      "price_total            517106 non-null float32\n",
      "customer_id            517106 non-null int16\n",
      "country                517106 non-null object\n",
      "is_canceled            517106 non-null bool\n",
      "is_test                517106 non-null bool\n",
      "cnt_customer_orders    517106 non-null float64\n",
      "cnt_customer_cancel    517106 non-null float64\n",
      "prc_customer_cancel    517106 non-null float64\n",
      "cnt_product_orders     517106 non-null float64\n",
      "cnt_product_cancel     517106 non-null float64\n",
      "prc_product_cancel     517106 non-null float64\n",
      "stock_word_score       517106 non-null int64\n",
      "invoice_year           517106 non-null int64\n",
      "invoice_month          517106 non-null int64\n",
      "invoice_day_of_m       517106 non-null int64\n",
      "invoice_day_of_y       517106 non-null int64\n",
      "invoice_hour           517106 non-null int64\n",
      "country__cat           517106 non-null int64\n",
      "dtypes: bool(2), datetime64[ns](1), float16(1), float32(1), float64(6), int16(2), int32(2), int64(7), object(2)\n",
      "memory usage: 76.9+ MB\n"
     ]
    }
   ],
   "source": [
    "train.info()"
   ]
  },
  {
   "cell_type": "markdown",
   "metadata": {},
   "source": [
    "# Product aproach"
   ]
  },
  {
   "cell_type": "code",
   "execution_count": null,
   "metadata": {},
   "outputs": [],
   "source": [
    "train['is_canceled'].value_counts(normalize=True)"
   ]
  },
  {
   "cell_type": "code",
   "execution_count": null,
   "metadata": {},
   "outputs": [],
   "source": [
    "orders['is_canceled'].value_counts(normalize=True)"
   ]
  },
  {
   "cell_type": "code",
   "execution_count": 206,
   "metadata": {},
   "outputs": [
    {
     "data": {
      "text/plain": [
       "['invoice',\n",
       " 'stock_code',\n",
       " 'quantity',\n",
       " 'price_unit',\n",
       " 'price_total',\n",
       " 'customer_id',\n",
       " 'cnt_customer_orders',\n",
       " 'cnt_customer_cancel',\n",
       " 'prc_customer_cancel',\n",
       " 'cnt_product_orders',\n",
       " 'cnt_product_cancel',\n",
       " 'prc_product_cancel',\n",
       " 'stock_word_score',\n",
       " 'invoice_year',\n",
       " 'invoice_month',\n",
       " 'invoice_day_of_m',\n",
       " 'invoice_day_of_y',\n",
       " 'invoice_hour',\n",
       " 'country__cat']"
      ]
     },
     "execution_count": 206,
     "metadata": {},
     "output_type": "execute_result"
    }
   ],
   "source": [
    "X, y, feats = get_feats_X_y(train)\n",
    "feats"
   ]
  },
  {
   "cell_type": "code",
   "execution_count": 132,
   "metadata": {},
   "outputs": [
    {
     "name": "stdout",
     "output_type": "stream",
     "text": [
      "scores: [0.38248571 0.37296809 0.39253462]\n",
      "mean: 0.3826628049663167, std: 0.007988982408813907 \n",
      "\n"
     ]
    }
   ],
   "source": [
    "model = DecisionTreeClassifier(max_depth=10, random_state=0)\n",
    "test_model(model)"
   ]
  },
  {
   "cell_type": "code",
   "execution_count": null,
   "metadata": {
    "scrolled": true
   },
   "outputs": [],
   "source": [
    "plot_model_char(model)"
   ]
  },
  {
   "cell_type": "code",
   "execution_count": 207,
   "metadata": {},
   "outputs": [],
   "source": [
    "xgb_params = {\n",
    "    'max_depth' : 10,\n",
    "    'n_estimators' : 100,\n",
    "    'learning_rate': 0.3,\n",
    "    'seed': 0\n",
    "}"
   ]
  },
  {
   "cell_type": "code",
   "execution_count": 208,
   "metadata": {},
   "outputs": [
    {
     "name": "stdout",
     "output_type": "stream",
     "text": [
      "scores: [0.57869395 0.59060807 0.57796508]\n",
      "mean: 0.5824223666514903, std: 0.0057958080124974635 \n",
      "\n"
     ]
    }
   ],
   "source": [
    "model = XGBClassifier(**xgb_params)\n",
    "test_model(model)"
   ]
  },
  {
   "cell_type": "code",
   "execution_count": 209,
   "metadata": {
    "scrolled": true
   },
   "outputs": [
    {
     "data": {
      "image/png": "[encoded data removed]",
      "text/plain": [
       "<Figure size 1080x360 with 1 Axes>"
      ]
     },
     "metadata": {
      "needs_background": "light"
     },
     "output_type": "display_data"
    },
    {
     "data": {
      "image/png": "[encoded data removed]",
      "text/plain": [
       "<Figure size 1080x360 with 1 Axes>"
      ]
     },
     "metadata": {
      "needs_background": "light"
     },
     "output_type": "display_data"
    }
   ],
   "source": [
    "plot_model_char(model, False, True, True)"
   ]
  },
  {
   "cell_type": "code",
   "execution_count": 210,
   "metadata": {},
   "outputs": [],
   "source": [
    "# m = XGBClassifier(**xgb_params)\n",
    "# m.fit(X,y)\n",
    "\n",
    "# imp = PermutationImportance(m, random_state=0).fit(X,y)\n",
    "# eli5.show_weights(imp, feature_names=feats)"
   ]
  },
  {
   "cell_type": "code",
   "execution_count": 46,
   "metadata": {
    "scrolled": true
   },
   "outputs": [
    {
     "name": "stdout",
     "output_type": "stream",
     "text": [
      "100%|██████████| 30/30 [2:39:16<00:00, 318.55s/trial, best loss: 0.4029297565378622]  \n",
      "The best params:  {'x_colsample_bytree': 0.954356555198908, 'x_learning_rate': 0.16135606892076726, 'x_max_depth': 19.0, 'x_min_child_weight': 3.0, 'x_reg_alpha': 1.2169884097623032, 'x_reg_lambda': 0.9431823743243067, 'x_subsample': 0.9604521894595064}\n"
     ]
    }
   ],
   "source": [
    "def objective(space):\n",
    "    \n",
    "    xgb_params = {\n",
    "        'max_depth': int(space['max_depth']),\n",
    "        'colsample_bytree': space['colsample_bytree'],\n",
    "        'learning_rate': space['learning_rate'],\n",
    "        'subsample': space['subsample'],\n",
    "        'min_child_weight': int(space['min_child_weight']),\n",
    "        'reg_alpha': space['reg_alpha'],\n",
    "        'reg_lambda': space['reg_lambda'],\n",
    "        'n_estimators': 100,\n",
    "        'objective': 'reg:squarederror',\n",
    "        'random_state':0\n",
    "    }\n",
    "    \n",
    "    model = XGBClassifier(**xgb_params)\n",
    "    \n",
    "    cv = StratifiedKFold(n_splits=3, random_state=0, shuffle=True)\n",
    "    scores = cross_val_score(model, X, y, cv=cv, scoring='recall')\n",
    "    \n",
    "    score = 1 - np.mean(scores)\n",
    "    \n",
    "    return{'loss':score, 'status': STATUS_OK }\n",
    "    \n",
    "space ={\n",
    "    'max_depth': hp.quniform ('x_max_depth', 5, 20, 1),\n",
    "    'colsample_bytree': hp.uniform ('x_colsample_bytree', 0.8, 1.),\n",
    "    'learning_rate': hp.uniform ('x_learning_rate', 0.05, 0.2),\n",
    "    'subsample': hp.uniform ('x_subsample', 0.7, 1.),\n",
    "    'min_child_weight': hp.quniform ('x_min_child_weight', 1, 10, 1),\n",
    "    'reg_alpha': hp.loguniform ('x_reg_alpha', 0., 1.),\n",
    "    'reg_lambda': hp.uniform ('x_reg_lambda', 0.7, 1.),\n",
    "}\n",
    "\n",
    "\n",
    "trials = Trials()\n",
    "best_params = fmin(fn=objective,\n",
    "            space=space,\n",
    "            algo=partial(tpe.suggest, n_startup_jobs=1),\n",
    "            max_evals=30,\n",
    "            trials=trials)\n",
    "\n",
    "print(\"The best params: \", best_params)"
   ]
  },
  {
   "cell_type": "code",
   "execution_count": 136,
   "metadata": {},
   "outputs": [],
   "source": [
    "xgb_params = {\n",
    "    'max_depth' : 19,\n",
    "    'n_estimators' : 100,\n",
    "    'learning_rate': 0.16135606892076726,\n",
    "    'x_min_child_weight': 3.0,\n",
    "    'x_reg_alpha': 1.2169884097623032,\n",
    "    'x_reg_lambda': 0.9431823743243067,\n",
    "    'x_subsample': 0.9604521894595064,\n",
    "    'x_colsample_bytree': 0.954356555198908,\n",
    "    'seed': 0\n",
    "}"
   ]
  },
  {
   "cell_type": "code",
   "execution_count": 26,
   "metadata": {},
   "outputs": [],
   "source": [
    "#train and predict\n",
    "\n",
    "model = XGBClassifier(**xgb_params)\n",
    "model.fit(train[feats], train['is_canceled'])\n",
    "test['is_canceled'] = model.predict(test[feats])\n",
    "\n",
    "#prepare submit\n",
    "test['total_return'] = test['price_total'] * test['is_canceled']\n",
    "result = test.groupby('invoice')['total_return'].agg(np.sum).to_frame().reset_index()\n",
    "\n",
    "result[ ['invoice', 'total_return'] ].to_csv('../../../output/xgb_and_cnt_features.csv', index=False)"
   ]
  },
  {
   "cell_type": "markdown",
   "metadata": {},
   "source": [
    "# Order aproach"
   ]
  },
  {
   "cell_type": "code",
   "execution_count": 10,
   "metadata": {
    "scrolled": true
   },
   "outputs": [],
   "source": [
    "def group_orders(df, params_to_group_by, params_to_agg, agg_fun, label_in_df):\n",
    "    orders = df.groupby(params_to_group_by)[params_to_agg].agg(agg_fun).reset_index()\n",
    "    \n",
    "    if label_in_df:\n",
    "        orders['is_canceled'] = orders['is_canceled'].map(lambda x: True if x>0 else False)\n",
    "        orders['total_return'] = orders['price_total'] * orders['is_canceled']\n",
    "    return orders"
   ]
  },
  {
   "cell_type": "code",
   "execution_count": 11,
   "metadata": {},
   "outputs": [],
   "source": [
    "params_to_group_by = ['invoice', 'customer_id', 'cnt_customer_orders', 'cnt_customer_cancel', 'prc_customer_cancel', 'invoice_year', 'invoice_day_of_y']\n",
    "params_to_sum = ['price_total', 'is_canceled']\n",
    "params_to_mean = ['cnt_product_orders', 'cnt_product_cancel', 'prc_product_cancel', 'stock_word_score']"
   ]
  },
  {
   "cell_type": "code",
   "execution_count": 12,
   "metadata": {},
   "outputs": [],
   "source": [
    "train_group1 = group_orders(train, params_to_group_by, params_to_sum, np.sum, True)\n",
    "train_group2 = group_orders(train, params_to_group_by, params_to_mean, np.mean, False)\n",
    "test_group1 = group_orders(test, params_to_group_by, params_to_sum, np.sum, False)\n",
    "test_group2 = group_orders(test, params_to_group_by, params_to_mean, np.mean, False)"
   ]
  },
  {
   "cell_type": "code",
   "execution_count": 13,
   "metadata": {},
   "outputs": [
    {
     "data": {
      "text/html": [
       "<div>\n",
       "<style scoped>\n",
       "    .dataframe tbody tr th:only-of-type {\n",
       "        vertical-align: middle;\n",
       "    }\n",
       "\n",
       "    .dataframe tbody tr th {\n",
       "        vertical-align: top;\n",
       "    }\n",
       "\n",
       "    .dataframe thead th {\n",
       "        text-align: right;\n",
       "    }\n",
       "</style>\n",
       "<table border=\"1\" class=\"dataframe\">\n",
       "  <thead>\n",
       "    <tr style=\"text-align: right;\">\n",
       "      <th></th>\n",
       "      <th>invoice</th>\n",
       "      <th>customer_id</th>\n",
       "      <th>cnt_customer_orders</th>\n",
       "      <th>cnt_customer_cancel</th>\n",
       "      <th>prc_customer_cancel</th>\n",
       "      <th>invoice_year</th>\n",
       "      <th>invoice_day_of_y</th>\n",
       "      <th>price_total</th>\n",
       "      <th>is_canceled</th>\n",
       "      <th>total_return</th>\n",
       "    </tr>\n",
       "  </thead>\n",
       "  <tbody>\n",
       "    <tr>\n",
       "      <th>0</th>\n",
       "      <td>2</td>\n",
       "      <td>1</td>\n",
       "      <td>366.0</td>\n",
       "      <td>30.0</td>\n",
       "      <td>0.081967</td>\n",
       "      <td>2009</td>\n",
       "      <td>335</td>\n",
       "      <td>630.330017</td>\n",
       "      <td>False</td>\n",
       "      <td>0.0</td>\n",
       "    </tr>\n",
       "    <tr>\n",
       "      <th>1</th>\n",
       "      <td>3</td>\n",
       "      <td>2</td>\n",
       "      <td>40.0</td>\n",
       "      <td>0.0</td>\n",
       "      <td>0.000000</td>\n",
       "      <td>2009</td>\n",
       "      <td>335</td>\n",
       "      <td>310.750000</td>\n",
       "      <td>False</td>\n",
       "      <td>0.0</td>\n",
       "    </tr>\n",
       "    <tr>\n",
       "      <th>2</th>\n",
       "      <td>4</td>\n",
       "      <td>3</td>\n",
       "      <td>498.0</td>\n",
       "      <td>3.0</td>\n",
       "      <td>0.006024</td>\n",
       "      <td>2009</td>\n",
       "      <td>335</td>\n",
       "      <td>2286.239990</td>\n",
       "      <td>False</td>\n",
       "      <td>0.0</td>\n",
       "    </tr>\n",
       "    <tr>\n",
       "      <th>3</th>\n",
       "      <td>5</td>\n",
       "      <td>4</td>\n",
       "      <td>575.0</td>\n",
       "      <td>0.0</td>\n",
       "      <td>0.000000</td>\n",
       "      <td>2009</td>\n",
       "      <td>335</td>\n",
       "      <td>426.299988</td>\n",
       "      <td>False</td>\n",
       "      <td>0.0</td>\n",
       "    </tr>\n",
       "    <tr>\n",
       "      <th>4</th>\n",
       "      <td>8</td>\n",
       "      <td>6</td>\n",
       "      <td>101.0</td>\n",
       "      <td>1.0</td>\n",
       "      <td>0.009901</td>\n",
       "      <td>2009</td>\n",
       "      <td>335</td>\n",
       "      <td>382.369995</td>\n",
       "      <td>False</td>\n",
       "      <td>0.0</td>\n",
       "    </tr>\n",
       "  </tbody>\n",
       "</table>\n",
       "</div>"
      ],
      "text/plain": [
       "   invoice  customer_id  cnt_customer_orders  cnt_customer_cancel  \\\n",
       "0        2            1                366.0                 30.0   \n",
       "1        3            2                 40.0                  0.0   \n",
       "2        4            3                498.0                  3.0   \n",
       "3        5            4                575.0                  0.0   \n",
       "4        8            6                101.0                  1.0   \n",
       "\n",
       "   prc_customer_cancel  invoice_year  invoice_day_of_y  price_total  \\\n",
       "0             0.081967          2009               335   630.330017   \n",
       "1             0.000000          2009               335   310.750000   \n",
       "2             0.006024          2009               335  2286.239990   \n",
       "3             0.000000          2009               335   426.299988   \n",
       "4             0.009901          2009               335   382.369995   \n",
       "\n",
       "   is_canceled  total_return  \n",
       "0        False           0.0  \n",
       "1        False           0.0  \n",
       "2        False           0.0  \n",
       "3        False           0.0  \n",
       "4        False           0.0  "
      ]
     },
     "execution_count": 13,
     "metadata": {},
     "output_type": "execute_result"
    }
   ],
   "source": [
    "train_group1.head()"
   ]
  },
  {
   "cell_type": "code",
   "execution_count": 14,
   "metadata": {},
   "outputs": [],
   "source": [
    "train_group = train_group2\n",
    "train_group['price_total'] = train_group1['price_total']\n",
    "train_group['is_canceled'] = train_group1['is_canceled']\n",
    "train_group['total_return'] = train_group1['total_return']\n",
    "\n",
    "test_group = test_group2\n",
    "test_group['price_total'] = test_group1['price_total']\n",
    "\n",
    "del train_group1, train_group2, test_group1, test_group2\n",
    "\n",
    "# TODO how many invoices in order"
   ]
  },
  {
   "cell_type": "code",
   "execution_count": null,
   "metadata": {},
   "outputs": [],
   "source": [
    "train_group['price_total'].describe()"
   ]
  },
  {
   "cell_type": "code",
   "execution_count": 21,
   "metadata": {},
   "outputs": [
    {
     "data": {
      "text/plain": [
       "count    26634.000000\n",
       "mean       341.111664\n",
       "std        523.264160\n",
       "min          0.000000\n",
       "25%         28.877501\n",
       "50%        200.665001\n",
       "75%        403.002510\n",
       "max       4961.200195\n",
       "Name: price_total, dtype: float64"
      ]
     },
     "execution_count": 21,
     "metadata": {},
     "output_type": "execute_result"
    }
   ],
   "source": [
    "cutoff_point = 5000\n",
    "train_small = train_group[ train_group['price_total'] <= cutoff_point ]\n",
    "train_big = train_group[ train_group['price_total'] > cutoff_point ]\n",
    "train_small['price_total'].describe()"
   ]
  },
  {
   "cell_type": "code",
   "execution_count": 22,
   "metadata": {},
   "outputs": [
    {
     "data": {
      "text/plain": [
       "count       180.000000\n",
       "mean      12451.982422\n",
       "std       19011.986328\n",
       "min        5028.760254\n",
       "25%        5778.875122\n",
       "50%        7174.220215\n",
       "75%       11206.784912\n",
       "max      168469.593750\n",
       "Name: price_total, dtype: float64"
      ]
     },
     "execution_count": 22,
     "metadata": {},
     "output_type": "execute_result"
    }
   ],
   "source": [
    "train_big['price_total'].describe()"
   ]
  },
  {
   "cell_type": "code",
   "execution_count": 79,
   "metadata": {},
   "outputs": [
    {
     "data": {
      "text/plain": [
       "['invoice',\n",
       " 'customer_id',\n",
       " 'cnt_customer_orders',\n",
       " 'cnt_customer_cancel',\n",
       " 'prc_customer_cancel',\n",
       " 'invoice_year',\n",
       " 'invoice_day_of_y',\n",
       " 'cnt_product_orders',\n",
       " 'cnt_product_cancel',\n",
       " 'prc_product_cancel',\n",
       " 'stock_word_score',\n",
       " 'price_total',\n",
       " 'cnt_customer_orders_log',\n",
       " 'cnt_customer_cancel_log',\n",
       " 'cnt_product_orders_log',\n",
       " 'cnt_product_cancel_log',\n",
       " 'price_total_log',\n",
       " 'total_return_log']"
      ]
     },
     "execution_count": 79,
     "metadata": {},
     "output_type": "execute_result"
    }
   ],
   "source": [
    "X, y, feats = get_feats_X_y(train_group, True)\n",
    "feats"
   ]
  },
  {
   "cell_type": "code",
   "execution_count": 65,
   "metadata": {},
   "outputs": [
    {
     "data": {
      "image/png": "[encoded data removed]",
      "text/plain": [
       "<Figure size 1152x1296 with 12 Axes>"
      ]
     },
     "metadata": {
      "needs_background": "light"
     },
     "output_type": "display_data"
    }
   ],
   "source": [
    "train_group[feats].hist(figsize=(16,18),bins=50);"
   ]
  },
  {
   "cell_type": "code",
   "execution_count": 47,
   "metadata": {},
   "outputs": [],
   "source": [
    "feats_to_log = ['cnt_customer_orders', 'cnt_customer_cancel', 'cnt_product_orders', 'cnt_product_cancel', 'price_total', 'total_return']"
   ]
  },
  {
   "cell_type": "code",
   "execution_count": 67,
   "metadata": {},
   "outputs": [
    {
     "data": {
      "text/plain": [
       "15.000000      97\n",
       "4.950000       88\n",
       "8.500000       77\n",
       "12.750000      75\n",
       "2.950000       67\n",
       "               ..\n",
       "299.470001      1\n",
       "292.399994      1\n",
       "1640.580078     1\n",
       "301.169983      1\n",
       "176.000000      1\n",
       "Name: price_total, Length: 16863, dtype: int64"
      ]
     },
     "execution_count": 67,
     "metadata": {},
     "output_type": "execute_result"
    }
   ],
   "source": [
    "train_group['price_total'].value_counts()"
   ]
  },
  {
   "cell_type": "code",
   "execution_count": 68,
   "metadata": {
    "scrolled": true
   },
   "outputs": [
    {
     "data": {
      "image/png": "[encoded data removed]",
      "text/plain": [
       "<Figure size 1080x360 with 2 Axes>"
      ]
     },
     "metadata": {
      "needs_background": "light"
     },
     "output_type": "display_data"
    },
    {
     "data": {
      "image/png": "[encoded data removed]",
      "text/plain": [
       "<Figure size 1080x360 with 2 Axes>"
      ]
     },
     "metadata": {
      "needs_background": "light"
     },
     "output_type": "display_data"
    },
    {
     "data": {
      "image/png": "[encoded data removed]",
      "text/plain": [
       "<Figure size 1080x360 with 2 Axes>"
      ]
     },
     "metadata": {
      "needs_background": "light"
     },
     "output_type": "display_data"
    },
    {
     "data": {
      "image/png": "[encoded data removed]",
      "text/plain": [
       "<Figure size 1080x360 with 2 Axes>"
      ]
     },
     "metadata": {
      "needs_background": "light"
     },
     "output_type": "display_data"
    },
    {
     "data": {
      "image/png": "[encoded data removed]",
      "text/plain": [
       "<Figure size 1080x360 with 2 Axes>"
      ]
     },
     "metadata": {
      "needs_background": "light"
     },
     "output_type": "display_data"
    },
    {
     "data": {
      "image/png": "[encoded data removed]",
      "text/plain": [
       "<Figure size 1080x360 with 2 Axes>"
      ]
     },
     "metadata": {
      "needs_background": "light"
     },
     "output_type": "display_data"
    }
   ],
   "source": [
    "for feat in feats_to_log:\n",
    "    plt.figure(figsize=(15,5))\n",
    "    \n",
    "    plt.subplot(1,2,1)\n",
    "    train_group[feat].hist(bins=50)\n",
    "    \n",
    "    plt.subplot(1,2,2)\n",
    "    np.log1p(train_group[feat]).hist(bins=50)\n",
    "    \n",
    "    plt.title(feat)\n",
    "    plt.show()"
   ]
  },
  {
   "cell_type": "code",
   "execution_count": 70,
   "metadata": {},
   "outputs": [],
   "source": [
    "for feat in feats_to_log:\n",
    "    train_group[feat + '_log'] = np.log1p(train_group[feat])\n",
    "    if feat != 'total_return':\n",
    "        test_group[feat + '_log'] = np.log1p(test_group[feat])"
   ]
  },
  {
   "cell_type": "code",
   "execution_count": 71,
   "metadata": {},
   "outputs": [
    {
     "data": {
      "text/html": [
       "<div>\n",
       "<style scoped>\n",
       "    .dataframe tbody tr th:only-of-type {\n",
       "        vertical-align: middle;\n",
       "    }\n",
       "\n",
       "    .dataframe tbody tr th {\n",
       "        vertical-align: top;\n",
       "    }\n",
       "\n",
       "    .dataframe thead th {\n",
       "        text-align: right;\n",
       "    }\n",
       "</style>\n",
       "<table border=\"1\" class=\"dataframe\">\n",
       "  <thead>\n",
       "    <tr style=\"text-align: right;\">\n",
       "      <th></th>\n",
       "      <th>invoice</th>\n",
       "      <th>customer_id</th>\n",
       "      <th>cnt_customer_orders</th>\n",
       "      <th>cnt_customer_cancel</th>\n",
       "      <th>prc_customer_cancel</th>\n",
       "      <th>invoice_year</th>\n",
       "      <th>invoice_day_of_y</th>\n",
       "      <th>cnt_product_orders</th>\n",
       "      <th>cnt_product_cancel</th>\n",
       "      <th>prc_product_cancel</th>\n",
       "      <th>stock_word_score</th>\n",
       "      <th>price_total</th>\n",
       "      <th>cnt_customer_orders_log</th>\n",
       "      <th>cnt_customer_cancel_log</th>\n",
       "      <th>cnt_product_orders_log</th>\n",
       "      <th>cnt_product_cancel_log</th>\n",
       "      <th>price_total_log</th>\n",
       "    </tr>\n",
       "  </thead>\n",
       "  <tbody>\n",
       "    <tr>\n",
       "      <th>0</th>\n",
       "      <td>0</td>\n",
       "      <td>0</td>\n",
       "      <td>21.0</td>\n",
       "      <td>8.0</td>\n",
       "      <td>0.380952</td>\n",
       "      <td>2009</td>\n",
       "      <td>335</td>\n",
       "      <td>461.250000</td>\n",
       "      <td>30.500000</td>\n",
       "      <td>0.086465</td>\n",
       "      <td>571.375000</td>\n",
       "      <td>505.299988</td>\n",
       "      <td>3.091042</td>\n",
       "      <td>2.197225</td>\n",
       "      <td>6.136106</td>\n",
       "      <td>3.449988</td>\n",
       "      <td>6.227129</td>\n",
       "    </tr>\n",
       "    <tr>\n",
       "      <th>1</th>\n",
       "      <td>1</td>\n",
       "      <td>0</td>\n",
       "      <td>21.0</td>\n",
       "      <td>8.0</td>\n",
       "      <td>0.380952</td>\n",
       "      <td>2009</td>\n",
       "      <td>335</td>\n",
       "      <td>255.750000</td>\n",
       "      <td>3.500000</td>\n",
       "      <td>0.016260</td>\n",
       "      <td>566.250000</td>\n",
       "      <td>145.800003</td>\n",
       "      <td>3.091042</td>\n",
       "      <td>2.197225</td>\n",
       "      <td>5.548103</td>\n",
       "      <td>1.504077</td>\n",
       "      <td>4.989071</td>\n",
       "    </tr>\n",
       "    <tr>\n",
       "      <th>2</th>\n",
       "      <td>6</td>\n",
       "      <td>5</td>\n",
       "      <td>51.0</td>\n",
       "      <td>1.0</td>\n",
       "      <td>0.019608</td>\n",
       "      <td>2009</td>\n",
       "      <td>335</td>\n",
       "      <td>173.500000</td>\n",
       "      <td>4.000000</td>\n",
       "      <td>0.022038</td>\n",
       "      <td>449.000000</td>\n",
       "      <td>50.400002</td>\n",
       "      <td>3.951244</td>\n",
       "      <td>0.693147</td>\n",
       "      <td>5.161925</td>\n",
       "      <td>1.609438</td>\n",
       "      <td>3.939638</td>\n",
       "    </tr>\n",
       "    <tr>\n",
       "      <th>3</th>\n",
       "      <td>7</td>\n",
       "      <td>5</td>\n",
       "      <td>51.0</td>\n",
       "      <td>1.0</td>\n",
       "      <td>0.019608</td>\n",
       "      <td>2009</td>\n",
       "      <td>335</td>\n",
       "      <td>701.500000</td>\n",
       "      <td>30.750000</td>\n",
       "      <td>0.029385</td>\n",
       "      <td>758.250000</td>\n",
       "      <td>344.339996</td>\n",
       "      <td>3.951244</td>\n",
       "      <td>0.693147</td>\n",
       "      <td>6.554645</td>\n",
       "      <td>3.457893</td>\n",
       "      <td>5.844530</td>\n",
       "    </tr>\n",
       "    <tr>\n",
       "      <th>4</th>\n",
       "      <td>11</td>\n",
       "      <td>9</td>\n",
       "      <td>76.0</td>\n",
       "      <td>0.0</td>\n",
       "      <td>0.000000</td>\n",
       "      <td>2009</td>\n",
       "      <td>335</td>\n",
       "      <td>231.210526</td>\n",
       "      <td>8.368421</td>\n",
       "      <td>0.024647</td>\n",
       "      <td>875.736842</td>\n",
       "      <td>308.440002</td>\n",
       "      <td>4.343805</td>\n",
       "      <td>0.000000</td>\n",
       "      <td>5.447644</td>\n",
       "      <td>2.237345</td>\n",
       "      <td>5.734764</td>\n",
       "    </tr>\n",
       "  </tbody>\n",
       "</table>\n",
       "</div>"
      ],
      "text/plain": [
       "   invoice  customer_id  cnt_customer_orders  cnt_customer_cancel  \\\n",
       "0        0            0                 21.0                  8.0   \n",
       "1        1            0                 21.0                  8.0   \n",
       "2        6            5                 51.0                  1.0   \n",
       "3        7            5                 51.0                  1.0   \n",
       "4       11            9                 76.0                  0.0   \n",
       "\n",
       "   prc_customer_cancel  invoice_year  invoice_day_of_y  cnt_product_orders  \\\n",
       "0             0.380952          2009               335          461.250000   \n",
       "1             0.380952          2009               335          255.750000   \n",
       "2             0.019608          2009               335          173.500000   \n",
       "3             0.019608          2009               335          701.500000   \n",
       "4             0.000000          2009               335          231.210526   \n",
       "\n",
       "   cnt_product_cancel  prc_product_cancel  stock_word_score  price_total  \\\n",
       "0           30.500000            0.086465        571.375000   505.299988   \n",
       "1            3.500000            0.016260        566.250000   145.800003   \n",
       "2            4.000000            0.022038        449.000000    50.400002   \n",
       "3           30.750000            0.029385        758.250000   344.339996   \n",
       "4            8.368421            0.024647        875.736842   308.440002   \n",
       "\n",
       "   cnt_customer_orders_log  cnt_customer_cancel_log  cnt_product_orders_log  \\\n",
       "0                 3.091042                 2.197225                6.136106   \n",
       "1                 3.091042                 2.197225                5.548103   \n",
       "2                 3.951244                 0.693147                5.161925   \n",
       "3                 3.951244                 0.693147                6.554645   \n",
       "4                 4.343805                 0.000000                5.447644   \n",
       "\n",
       "   cnt_product_cancel_log  price_total_log  \n",
       "0                3.449988         6.227129  \n",
       "1                1.504077         4.989071  \n",
       "2                1.609438         3.939638  \n",
       "3                3.457893         5.844530  \n",
       "4                2.237345         5.734764  "
      ]
     },
     "execution_count": 71,
     "metadata": {},
     "output_type": "execute_result"
    }
   ],
   "source": [
    "test_group.head()"
   ]
  },
  {
   "cell_type": "code",
   "execution_count": 72,
   "metadata": {},
   "outputs": [],
   "source": [
    "xgb_params = {\n",
    "    'max_depth' : 10,\n",
    "    'n_estimators' : 100,\n",
    "    'learning_rate': 0.1,\n",
    "    'seed': 0\n",
    "}\n",
    "\n",
    "model = XGBRegressor(**xgb_params)"
   ]
  },
  {
   "cell_type": "code",
   "execution_count": 80,
   "metadata": {
    "scrolled": true
   },
   "outputs": [
    {
     "name": "stdout",
     "output_type": "stream",
     "text": [
      "scores: [-0.00022635 -0.00018362 -0.00013254]\n",
      "mean: -0.00018083509348798543, std: 3.834673692041194e-05 \n",
      "\n"
     ]
    }
   ],
   "source": [
    "cv = StratifiedKFold(n_splits=4, random_state=0, shuffle=True)\n",
    "scores = cross_val_score(model, X, y, cv=3, scoring='neg_mean_squared_error')\n",
    "print('scores: {}'.format(scores))\n",
    "print('mean: {}, std: {} \\n'.format(np.mean(scores), np.std(scores)))"
   ]
  },
  {
   "cell_type": "code",
   "execution_count": 89,
   "metadata": {},
   "outputs": [
    {
     "data": {
      "text/plain": [
       "493336.8"
      ]
     },
     "execution_count": 89,
     "metadata": {},
     "output_type": "execute_result"
    }
   ],
   "source": [
    "cv = StratifiedKFold(n_splits=4, random_state=0, shuffle=True)\n",
    "y_pred = cross_val_predict(model, X, y, cv=3)\n",
    "score = mean_squared_error(np.expm1(y_pred), np.expm1(y))\n",
    "score"
   ]
  },
  {
   "cell_type": "code",
   "execution_count": 77,
   "metadata": {},
   "outputs": [
    {
     "data": {
      "image/png": "[encoded data removed]",
      "text/plain": [
       "<Figure size 1080x360 with 1 Axes>"
      ]
     },
     "metadata": {
      "needs_background": "light"
     },
     "output_type": "display_data"
    },
    {
     "data": {
      "image/png": "[encoded data removed]",
      "text/plain": [
       "<Figure size 1080x360 with 1 Axes>"
      ]
     },
     "metadata": {
      "needs_background": "light"
     },
     "output_type": "display_data"
    }
   ],
   "source": [
    "model.fit(X, y)\n",
    "skplt.estimators.plot_feature_importances(model, feature_names=feats, x_tick_rotation=90, figsize=(15, 5))\n",
    "skplt.estimators.plot_learning_curve(model, X, y, figsize=(15, 5), cv=3, scoring='neg_mean_squared_error');"
   ]
  },
  {
   "cell_type": "code",
   "execution_count": 264,
   "metadata": {},
   "outputs": [
    {
     "name": "stdout",
     "output_type": "stream",
     "text": [
      "  0%|          | 0/20 [01:59<?, ?trial/s, best loss=?]\n"
     ]
    },
    {
     "ename": "KeyboardInterrupt",
     "evalue": "",
     "output_type": "error",
     "traceback": [
      "\u001b[0;31m---------------------------------------------------------------------------\u001b[0m",
      "\u001b[0;31mKeyboardInterrupt\u001b[0m                         Traceback (most recent call last)",
      "\u001b[0;32m<ipython-input-264-5a4b37d7737c>\u001b[0m in \u001b[0;36m<module>\u001b[0;34m\u001b[0m\n\u001b[1;32m     52\u001b[0m             \u001b[0malgo\u001b[0m\u001b[0;34m=\u001b[0m\u001b[0mpartial\u001b[0m\u001b[0;34m(\u001b[0m\u001b[0mtpe\u001b[0m\u001b[0;34m.\u001b[0m\u001b[0msuggest\u001b[0m\u001b[0;34m,\u001b[0m \u001b[0mn_startup_jobs\u001b[0m\u001b[0;34m=\u001b[0m\u001b[0;36m1\u001b[0m\u001b[0;34m)\u001b[0m\u001b[0;34m,\u001b[0m\u001b[0;34m\u001b[0m\u001b[0;34m\u001b[0m\u001b[0m\n\u001b[1;32m     53\u001b[0m             \u001b[0mmax_evals\u001b[0m\u001b[0;34m=\u001b[0m\u001b[0;36m20\u001b[0m\u001b[0;34m,\u001b[0m\u001b[0;34m\u001b[0m\u001b[0;34m\u001b[0m\u001b[0m\n\u001b[0;32m---> 54\u001b[0;31m             trials=trials)\n\u001b[0m\u001b[1;32m     55\u001b[0m \u001b[0;34m\u001b[0m\u001b[0m\n\u001b[1;32m     56\u001b[0m \u001b[0mprint\u001b[0m\u001b[0;34m(\u001b[0m\u001b[0;34m\"The best params: \"\u001b[0m\u001b[0;34m,\u001b[0m \u001b[0mbest_params\u001b[0m\u001b[0;34m)\u001b[0m\u001b[0;34m\u001b[0m\u001b[0;34m\u001b[0m\u001b[0m\n",
      "\u001b[0;32m/home/jupyter/anaconda3/lib/python3.7/site-packages/hyperopt/fmin.py\u001b[0m in \u001b[0;36mfmin\u001b[0;34m(fn, space, algo, max_evals, timeout, loss_threshold, trials, rstate, allow_trials_fmin, pass_expr_memo_ctrl, catch_eval_exceptions, verbose, return_argmin, points_to_evaluate, max_queue_len, show_progressbar)\u001b[0m\n\u001b[1;32m    480\u001b[0m             \u001b[0mcatch_eval_exceptions\u001b[0m\u001b[0;34m=\u001b[0m\u001b[0mcatch_eval_exceptions\u001b[0m\u001b[0;34m,\u001b[0m\u001b[0;34m\u001b[0m\u001b[0;34m\u001b[0m\u001b[0m\n\u001b[1;32m    481\u001b[0m             \u001b[0mreturn_argmin\u001b[0m\u001b[0;34m=\u001b[0m\u001b[0mreturn_argmin\u001b[0m\u001b[0;34m,\u001b[0m\u001b[0;34m\u001b[0m\u001b[0;34m\u001b[0m\u001b[0m\n\u001b[0;32m--> 482\u001b[0;31m             \u001b[0mshow_progressbar\u001b[0m\u001b[0;34m=\u001b[0m\u001b[0mshow_progressbar\u001b[0m\u001b[0;34m,\u001b[0m\u001b[0;34m\u001b[0m\u001b[0;34m\u001b[0m\u001b[0m\n\u001b[0m\u001b[1;32m    483\u001b[0m         )\n\u001b[1;32m    484\u001b[0m \u001b[0;34m\u001b[0m\u001b[0m\n",
      "\u001b[0;32m/home/jupyter/anaconda3/lib/python3.7/site-packages/hyperopt/base.py\u001b[0m in \u001b[0;36mfmin\u001b[0;34m(self, fn, space, algo, max_evals, timeout, loss_threshold, max_queue_len, rstate, verbose, pass_expr_memo_ctrl, catch_eval_exceptions, return_argmin, show_progressbar)\u001b[0m\n\u001b[1;32m    684\u001b[0m             \u001b[0mcatch_eval_exceptions\u001b[0m\u001b[0;34m=\u001b[0m\u001b[0mcatch_eval_exceptions\u001b[0m\u001b[0;34m,\u001b[0m\u001b[0;34m\u001b[0m\u001b[0;34m\u001b[0m\u001b[0m\n\u001b[1;32m    685\u001b[0m             \u001b[0mreturn_argmin\u001b[0m\u001b[0;34m=\u001b[0m\u001b[0mreturn_argmin\u001b[0m\u001b[0;34m,\u001b[0m\u001b[0;34m\u001b[0m\u001b[0;34m\u001b[0m\u001b[0m\n\u001b[0;32m--> 686\u001b[0;31m             \u001b[0mshow_progressbar\u001b[0m\u001b[0;34m=\u001b[0m\u001b[0mshow_progressbar\u001b[0m\u001b[0;34m,\u001b[0m\u001b[0;34m\u001b[0m\u001b[0;34m\u001b[0m\u001b[0m\n\u001b[0m\u001b[1;32m    687\u001b[0m         )\n\u001b[1;32m    688\u001b[0m \u001b[0;34m\u001b[0m\u001b[0m\n",
      "\u001b[0;32m/home/jupyter/anaconda3/lib/python3.7/site-packages/hyperopt/fmin.py\u001b[0m in \u001b[0;36mfmin\u001b[0;34m(fn, space, algo, max_evals, timeout, loss_threshold, trials, rstate, allow_trials_fmin, pass_expr_memo_ctrl, catch_eval_exceptions, verbose, return_argmin, points_to_evaluate, max_queue_len, show_progressbar)\u001b[0m\n\u001b[1;32m    507\u001b[0m \u001b[0;34m\u001b[0m\u001b[0m\n\u001b[1;32m    508\u001b[0m     \u001b[0;31m# next line is where the fmin is actually executed\u001b[0m\u001b[0;34m\u001b[0m\u001b[0;34m\u001b[0m\u001b[0;34m\u001b[0m\u001b[0m\n\u001b[0;32m--> 509\u001b[0;31m     \u001b[0mrval\u001b[0m\u001b[0;34m.\u001b[0m\u001b[0mexhaust\u001b[0m\u001b[0;34m(\u001b[0m\u001b[0;34m)\u001b[0m\u001b[0;34m\u001b[0m\u001b[0;34m\u001b[0m\u001b[0m\n\u001b[0m\u001b[1;32m    510\u001b[0m \u001b[0;34m\u001b[0m\u001b[0m\n\u001b[1;32m    511\u001b[0m     \u001b[0;32mif\u001b[0m \u001b[0mreturn_argmin\u001b[0m\u001b[0;34m:\u001b[0m\u001b[0;34m\u001b[0m\u001b[0;34m\u001b[0m\u001b[0m\n",
      "\u001b[0;32m/home/jupyter/anaconda3/lib/python3.7/site-packages/hyperopt/fmin.py\u001b[0m in \u001b[0;36mexhaust\u001b[0;34m(self)\u001b[0m\n\u001b[1;32m    328\u001b[0m     \u001b[0;32mdef\u001b[0m \u001b[0mexhaust\u001b[0m\u001b[0;34m(\u001b[0m\u001b[0mself\u001b[0m\u001b[0;34m)\u001b[0m\u001b[0;34m:\u001b[0m\u001b[0;34m\u001b[0m\u001b[0;34m\u001b[0m\u001b[0m\n\u001b[1;32m    329\u001b[0m         \u001b[0mn_done\u001b[0m \u001b[0;34m=\u001b[0m \u001b[0mlen\u001b[0m\u001b[0;34m(\u001b[0m\u001b[0mself\u001b[0m\u001b[0;34m.\u001b[0m\u001b[0mtrials\u001b[0m\u001b[0;34m)\u001b[0m\u001b[0;34m\u001b[0m\u001b[0;34m\u001b[0m\u001b[0m\n\u001b[0;32m--> 330\u001b[0;31m         \u001b[0mself\u001b[0m\u001b[0;34m.\u001b[0m\u001b[0mrun\u001b[0m\u001b[0;34m(\u001b[0m\u001b[0mself\u001b[0m\u001b[0;34m.\u001b[0m\u001b[0mmax_evals\u001b[0m \u001b[0;34m-\u001b[0m \u001b[0mn_done\u001b[0m\u001b[0;34m,\u001b[0m \u001b[0mblock_until_done\u001b[0m\u001b[0;34m=\u001b[0m\u001b[0mself\u001b[0m\u001b[0;34m.\u001b[0m\u001b[0masynchronous\u001b[0m\u001b[0;34m)\u001b[0m\u001b[0;34m\u001b[0m\u001b[0;34m\u001b[0m\u001b[0m\n\u001b[0m\u001b[1;32m    331\u001b[0m         \u001b[0mself\u001b[0m\u001b[0;34m.\u001b[0m\u001b[0mtrials\u001b[0m\u001b[0;34m.\u001b[0m\u001b[0mrefresh\u001b[0m\u001b[0;34m(\u001b[0m\u001b[0;34m)\u001b[0m\u001b[0;34m\u001b[0m\u001b[0;34m\u001b[0m\u001b[0m\n\u001b[1;32m    332\u001b[0m         \u001b[0;32mreturn\u001b[0m \u001b[0mself\u001b[0m\u001b[0;34m\u001b[0m\u001b[0;34m\u001b[0m\u001b[0m\n",
      "\u001b[0;32m/home/jupyter/anaconda3/lib/python3.7/site-packages/hyperopt/fmin.py\u001b[0m in \u001b[0;36mrun\u001b[0;34m(self, N, block_until_done)\u001b[0m\n\u001b[1;32m    284\u001b[0m                 \u001b[0;32melse\u001b[0m\u001b[0;34m:\u001b[0m\u001b[0;34m\u001b[0m\u001b[0;34m\u001b[0m\u001b[0m\n\u001b[1;32m    285\u001b[0m                     \u001b[0;31m# -- loop over trials and do the jobs directly\u001b[0m\u001b[0;34m\u001b[0m\u001b[0;34m\u001b[0m\u001b[0;34m\u001b[0m\u001b[0m\n\u001b[0;32m--> 286\u001b[0;31m                     \u001b[0mself\u001b[0m\u001b[0;34m.\u001b[0m\u001b[0mserial_evaluate\u001b[0m\u001b[0;34m(\u001b[0m\u001b[0;34m)\u001b[0m\u001b[0;34m\u001b[0m\u001b[0;34m\u001b[0m\u001b[0m\n\u001b[0m\u001b[1;32m    287\u001b[0m \u001b[0;34m\u001b[0m\u001b[0m\n\u001b[1;32m    288\u001b[0m                 \u001b[0mself\u001b[0m\u001b[0;34m.\u001b[0m\u001b[0mtrials\u001b[0m\u001b[0;34m.\u001b[0m\u001b[0mrefresh\u001b[0m\u001b[0;34m(\u001b[0m\u001b[0;34m)\u001b[0m\u001b[0;34m\u001b[0m\u001b[0;34m\u001b[0m\u001b[0m\n",
      "\u001b[0;32m/home/jupyter/anaconda3/lib/python3.7/site-packages/hyperopt/fmin.py\u001b[0m in \u001b[0;36mserial_evaluate\u001b[0;34m(self, N)\u001b[0m\n\u001b[1;32m    163\u001b[0m                 \u001b[0mctrl\u001b[0m \u001b[0;34m=\u001b[0m \u001b[0mbase\u001b[0m\u001b[0;34m.\u001b[0m\u001b[0mCtrl\u001b[0m\u001b[0;34m(\u001b[0m\u001b[0mself\u001b[0m\u001b[0;34m.\u001b[0m\u001b[0mtrials\u001b[0m\u001b[0;34m,\u001b[0m \u001b[0mcurrent_trial\u001b[0m\u001b[0;34m=\u001b[0m\u001b[0mtrial\u001b[0m\u001b[0;34m)\u001b[0m\u001b[0;34m\u001b[0m\u001b[0;34m\u001b[0m\u001b[0m\n\u001b[1;32m    164\u001b[0m                 \u001b[0;32mtry\u001b[0m\u001b[0;34m:\u001b[0m\u001b[0;34m\u001b[0m\u001b[0;34m\u001b[0m\u001b[0m\n\u001b[0;32m--> 165\u001b[0;31m                     \u001b[0mresult\u001b[0m \u001b[0;34m=\u001b[0m \u001b[0mself\u001b[0m\u001b[0;34m.\u001b[0m\u001b[0mdomain\u001b[0m\u001b[0;34m.\u001b[0m\u001b[0mevaluate\u001b[0m\u001b[0;34m(\u001b[0m\u001b[0mspec\u001b[0m\u001b[0;34m,\u001b[0m \u001b[0mctrl\u001b[0m\u001b[0;34m)\u001b[0m\u001b[0;34m\u001b[0m\u001b[0;34m\u001b[0m\u001b[0m\n\u001b[0m\u001b[1;32m    166\u001b[0m                 \u001b[0;32mexcept\u001b[0m \u001b[0mException\u001b[0m \u001b[0;32mas\u001b[0m \u001b[0me\u001b[0m\u001b[0;34m:\u001b[0m\u001b[0;34m\u001b[0m\u001b[0;34m\u001b[0m\u001b[0m\n\u001b[1;32m    167\u001b[0m                     \u001b[0mlogger\u001b[0m\u001b[0;34m.\u001b[0m\u001b[0merror\u001b[0m\u001b[0;34m(\u001b[0m\u001b[0;34m\"job exception: %s\"\u001b[0m \u001b[0;34m%\u001b[0m \u001b[0mstr\u001b[0m\u001b[0;34m(\u001b[0m\u001b[0me\u001b[0m\u001b[0;34m)\u001b[0m\u001b[0;34m)\u001b[0m\u001b[0;34m\u001b[0m\u001b[0;34m\u001b[0m\u001b[0m\n",
      "\u001b[0;32m/home/jupyter/anaconda3/lib/python3.7/site-packages/hyperopt/base.py\u001b[0m in \u001b[0;36mevaluate\u001b[0;34m(self, config, ctrl, attach_attachments)\u001b[0m\n\u001b[1;32m    892\u001b[0m                 \u001b[0mprint_node_on_error\u001b[0m\u001b[0;34m=\u001b[0m\u001b[0mself\u001b[0m\u001b[0;34m.\u001b[0m\u001b[0mrec_eval_print_node_on_error\u001b[0m\u001b[0;34m,\u001b[0m\u001b[0;34m\u001b[0m\u001b[0;34m\u001b[0m\u001b[0m\n\u001b[1;32m    893\u001b[0m             )\n\u001b[0;32m--> 894\u001b[0;31m             \u001b[0mrval\u001b[0m \u001b[0;34m=\u001b[0m \u001b[0mself\u001b[0m\u001b[0;34m.\u001b[0m\u001b[0mfn\u001b[0m\u001b[0;34m(\u001b[0m\u001b[0mpyll_rval\u001b[0m\u001b[0;34m)\u001b[0m\u001b[0;34m\u001b[0m\u001b[0;34m\u001b[0m\u001b[0m\n\u001b[0m\u001b[1;32m    895\u001b[0m \u001b[0;34m\u001b[0m\u001b[0m\n\u001b[1;32m    896\u001b[0m         \u001b[0;32mif\u001b[0m \u001b[0misinstance\u001b[0m\u001b[0;34m(\u001b[0m\u001b[0mrval\u001b[0m\u001b[0;34m,\u001b[0m \u001b[0;34m(\u001b[0m\u001b[0mfloat\u001b[0m\u001b[0;34m,\u001b[0m \u001b[0mint\u001b[0m\u001b[0;34m,\u001b[0m \u001b[0mnp\u001b[0m\u001b[0;34m.\u001b[0m\u001b[0mnumber\u001b[0m\u001b[0;34m)\u001b[0m\u001b[0;34m)\u001b[0m\u001b[0;34m:\u001b[0m\u001b[0;34m\u001b[0m\u001b[0;34m\u001b[0m\u001b[0m\n",
      "\u001b[0;32m<ipython-input-264-5a4b37d7737c>\u001b[0m in \u001b[0;36mobjective\u001b[0;34m(space)\u001b[0m\n\u001b[1;32m     26\u001b[0m     \u001b[0;32mfor\u001b[0m \u001b[0mtrain_idx\u001b[0m\u001b[0;34m,\u001b[0m \u001b[0mtest_idx\u001b[0m \u001b[0;32min\u001b[0m \u001b[0mcv\u001b[0m\u001b[0;34m.\u001b[0m\u001b[0msplit\u001b[0m\u001b[0;34m(\u001b[0m\u001b[0my\u001b[0m\u001b[0;34m)\u001b[0m\u001b[0;34m:\u001b[0m\u001b[0;34m\u001b[0m\u001b[0;34m\u001b[0m\u001b[0m\n\u001b[1;32m     27\u001b[0m \u001b[0;34m\u001b[0m\u001b[0m\n\u001b[0;32m---> 28\u001b[0;31m         \u001b[0mmodel\u001b[0m\u001b[0;34m.\u001b[0m\u001b[0mfit\u001b[0m\u001b[0;34m(\u001b[0m\u001b[0mX\u001b[0m\u001b[0;34m[\u001b[0m\u001b[0mtrain_idx\u001b[0m\u001b[0;34m]\u001b[0m\u001b[0;34m,\u001b[0m \u001b[0my\u001b[0m\u001b[0;34m[\u001b[0m\u001b[0mtrain_idx\u001b[0m\u001b[0;34m]\u001b[0m\u001b[0;34m)\u001b[0m\u001b[0;34m\u001b[0m\u001b[0;34m\u001b[0m\u001b[0m\n\u001b[0m\u001b[1;32m     29\u001b[0m         \u001b[0my_pred\u001b[0m \u001b[0;34m=\u001b[0m \u001b[0mmodel\u001b[0m\u001b[0;34m.\u001b[0m\u001b[0mpredict\u001b[0m\u001b[0;34m(\u001b[0m\u001b[0mX\u001b[0m\u001b[0;34m[\u001b[0m\u001b[0mtest_idx\u001b[0m\u001b[0;34m]\u001b[0m\u001b[0;34m)\u001b[0m\u001b[0;34m\u001b[0m\u001b[0;34m\u001b[0m\u001b[0m\n\u001b[1;32m     30\u001b[0m         \u001b[0mscore\u001b[0m \u001b[0;34m=\u001b[0m \u001b[0mmean_squared_error\u001b[0m\u001b[0;34m(\u001b[0m\u001b[0my\u001b[0m\u001b[0;34m[\u001b[0m\u001b[0mtest_idx\u001b[0m\u001b[0;34m]\u001b[0m\u001b[0;34m,\u001b[0m \u001b[0my_pred\u001b[0m \u001b[0;34m)\u001b[0m\u001b[0;34m\u001b[0m\u001b[0;34m\u001b[0m\u001b[0m\n",
      "\u001b[0;32m/home/jupyter/anaconda3/lib/python3.7/site-packages/xgboost/sklearn.py\u001b[0m in \u001b[0;36mfit\u001b[0;34m(self, X, y, sample_weight, base_margin, eval_set, eval_metric, early_stopping_rounds, verbose, xgb_model, sample_weight_eval_set, callbacks)\u001b[0m\n\u001b[1;32m    810\u001b[0m                               \u001b[0mevals_result\u001b[0m\u001b[0;34m=\u001b[0m\u001b[0mevals_result\u001b[0m\u001b[0;34m,\u001b[0m \u001b[0mobj\u001b[0m\u001b[0;34m=\u001b[0m\u001b[0mobj\u001b[0m\u001b[0;34m,\u001b[0m \u001b[0mfeval\u001b[0m\u001b[0;34m=\u001b[0m\u001b[0mfeval\u001b[0m\u001b[0;34m,\u001b[0m\u001b[0;34m\u001b[0m\u001b[0;34m\u001b[0m\u001b[0m\n\u001b[1;32m    811\u001b[0m                               \u001b[0mverbose_eval\u001b[0m\u001b[0;34m=\u001b[0m\u001b[0mverbose\u001b[0m\u001b[0;34m,\u001b[0m \u001b[0mxgb_model\u001b[0m\u001b[0;34m=\u001b[0m\u001b[0mxgb_model\u001b[0m\u001b[0;34m,\u001b[0m\u001b[0;34m\u001b[0m\u001b[0;34m\u001b[0m\u001b[0m\n\u001b[0;32m--> 812\u001b[0;31m                               callbacks=callbacks)\n\u001b[0m\u001b[1;32m    813\u001b[0m \u001b[0;34m\u001b[0m\u001b[0m\n\u001b[1;32m    814\u001b[0m         \u001b[0mself\u001b[0m\u001b[0;34m.\u001b[0m\u001b[0mobjective\u001b[0m \u001b[0;34m=\u001b[0m \u001b[0mxgb_options\u001b[0m\u001b[0;34m[\u001b[0m\u001b[0;34m\"objective\"\u001b[0m\u001b[0;34m]\u001b[0m\u001b[0;34m\u001b[0m\u001b[0;34m\u001b[0m\u001b[0m\n",
      "\u001b[0;32m/home/jupyter/anaconda3/lib/python3.7/site-packages/xgboost/training.py\u001b[0m in \u001b[0;36mtrain\u001b[0;34m(params, dtrain, num_boost_round, evals, obj, feval, maximize, early_stopping_rounds, evals_result, verbose_eval, xgb_model, callbacks)\u001b[0m\n\u001b[1;32m    207\u001b[0m                            \u001b[0mevals\u001b[0m\u001b[0;34m=\u001b[0m\u001b[0mevals\u001b[0m\u001b[0;34m,\u001b[0m\u001b[0;34m\u001b[0m\u001b[0;34m\u001b[0m\u001b[0m\n\u001b[1;32m    208\u001b[0m                            \u001b[0mobj\u001b[0m\u001b[0;34m=\u001b[0m\u001b[0mobj\u001b[0m\u001b[0;34m,\u001b[0m \u001b[0mfeval\u001b[0m\u001b[0;34m=\u001b[0m\u001b[0mfeval\u001b[0m\u001b[0;34m,\u001b[0m\u001b[0;34m\u001b[0m\u001b[0;34m\u001b[0m\u001b[0m\n\u001b[0;32m--> 209\u001b[0;31m                            xgb_model=xgb_model, callbacks=callbacks)\n\u001b[0m\u001b[1;32m    210\u001b[0m \u001b[0;34m\u001b[0m\u001b[0m\n\u001b[1;32m    211\u001b[0m \u001b[0;34m\u001b[0m\u001b[0m\n",
      "\u001b[0;32m/home/jupyter/anaconda3/lib/python3.7/site-packages/xgboost/training.py\u001b[0m in \u001b[0;36m_train_internal\u001b[0;34m(params, dtrain, num_boost_round, evals, obj, feval, xgb_model, callbacks)\u001b[0m\n\u001b[1;32m     72\u001b[0m         \u001b[0;31m# Skip the first update if it is a recovery step.\u001b[0m\u001b[0;34m\u001b[0m\u001b[0;34m\u001b[0m\u001b[0;34m\u001b[0m\u001b[0m\n\u001b[1;32m     73\u001b[0m         \u001b[0;32mif\u001b[0m \u001b[0mversion\u001b[0m \u001b[0;34m%\u001b[0m \u001b[0;36m2\u001b[0m \u001b[0;34m==\u001b[0m \u001b[0;36m0\u001b[0m\u001b[0;34m:\u001b[0m\u001b[0;34m\u001b[0m\u001b[0;34m\u001b[0m\u001b[0m\n\u001b[0;32m---> 74\u001b[0;31m             \u001b[0mbst\u001b[0m\u001b[0;34m.\u001b[0m\u001b[0mupdate\u001b[0m\u001b[0;34m(\u001b[0m\u001b[0mdtrain\u001b[0m\u001b[0;34m,\u001b[0m \u001b[0mi\u001b[0m\u001b[0;34m,\u001b[0m \u001b[0mobj\u001b[0m\u001b[0;34m)\u001b[0m\u001b[0;34m\u001b[0m\u001b[0;34m\u001b[0m\u001b[0m\n\u001b[0m\u001b[1;32m     75\u001b[0m             \u001b[0mbst\u001b[0m\u001b[0;34m.\u001b[0m\u001b[0msave_rabit_checkpoint\u001b[0m\u001b[0;34m(\u001b[0m\u001b[0;34m)\u001b[0m\u001b[0;34m\u001b[0m\u001b[0;34m\u001b[0m\u001b[0m\n\u001b[1;32m     76\u001b[0m             \u001b[0mversion\u001b[0m \u001b[0;34m+=\u001b[0m \u001b[0;36m1\u001b[0m\u001b[0;34m\u001b[0m\u001b[0;34m\u001b[0m\u001b[0m\n",
      "\u001b[0;32m/home/jupyter/anaconda3/lib/python3.7/site-packages/xgboost/core.py\u001b[0m in \u001b[0;36mupdate\u001b[0;34m(self, dtrain, iteration, fobj)\u001b[0m\n\u001b[1;32m   1247\u001b[0m             _check_call(_LIB.XGBoosterUpdateOneIter(self.handle,\n\u001b[1;32m   1248\u001b[0m                                                     \u001b[0mctypes\u001b[0m\u001b[0;34m.\u001b[0m\u001b[0mc_int\u001b[0m\u001b[0;34m(\u001b[0m\u001b[0miteration\u001b[0m\u001b[0;34m)\u001b[0m\u001b[0;34m,\u001b[0m\u001b[0;34m\u001b[0m\u001b[0;34m\u001b[0m\u001b[0m\n\u001b[0;32m-> 1249\u001b[0;31m                                                     dtrain.handle))\n\u001b[0m\u001b[1;32m   1250\u001b[0m         \u001b[0;32melse\u001b[0m\u001b[0;34m:\u001b[0m\u001b[0;34m\u001b[0m\u001b[0;34m\u001b[0m\u001b[0m\n\u001b[1;32m   1251\u001b[0m             \u001b[0mpred\u001b[0m \u001b[0;34m=\u001b[0m \u001b[0mself\u001b[0m\u001b[0;34m.\u001b[0m\u001b[0mpredict\u001b[0m\u001b[0;34m(\u001b[0m\u001b[0mdtrain\u001b[0m\u001b[0;34m,\u001b[0m \u001b[0mtraining\u001b[0m\u001b[0;34m=\u001b[0m\u001b[0;32mTrue\u001b[0m\u001b[0;34m)\u001b[0m\u001b[0;34m\u001b[0m\u001b[0;34m\u001b[0m\u001b[0m\n",
      "\u001b[0;31mKeyboardInterrupt\u001b[0m: "
     ]
    }
   ],
   "source": [
    "X, y, feats = get_feats_X_y(train_group, True)\n",
    "\n",
    "X = X.values\n",
    "y = y\n",
    "\n",
    "def objective(space):\n",
    "    \n",
    "    xgb_params = {\n",
    "        'max_depth': int(space['max_depth']),\n",
    "        'colsample_bytree': space['colsample_bytree'],\n",
    "        'learning_rate': space['learning_rate'],\n",
    "        'subsample': space['subsample'],\n",
    "        'min_child_weight': int(space['min_child_weight']),\n",
    "        'reg_alpha': space['reg_alpha'],\n",
    "        'reg_lambda': space['reg_lambda'],\n",
    "        'n_estimators': 100,\n",
    "        'objective': 'reg:squarederror',\n",
    "        'random_state':0\n",
    "    }\n",
    "\n",
    "    model = XGBClassifier(**xgb_params)\n",
    "    \n",
    "    cv = KFold(n_splits=3, random_state=0, shuffle=True)\n",
    "    \n",
    "    scores = []\n",
    "    for train_idx, test_idx in cv.split(y):\n",
    "        \n",
    "        model.fit(X[train_idx], y[train_idx])\n",
    "        y_pred = model.predict(X[test_idx])\n",
    "        score = mean_squared_error(y[test_idx], y_pred )\n",
    "        scores.append(score)\n",
    "    \n",
    "    score = np.mean(scores)\n",
    "    print('score: {}'.format(score))\n",
    "    \n",
    "    return{'loss':score, 'status': STATUS_OK }\n",
    "    \n",
    "space ={\n",
    "    'max_depth': hp.quniform ('x_max_depth', 5, 20, 1),\n",
    "    'colsample_bytree': hp.uniform ('x_colsample_bytree', 0.8, 1.),\n",
    "    'learning_rate': hp.uniform ('x_learning_rate', 0.05, 0.3),\n",
    "    'subsample': hp.uniform ('x_subsample', 0.7, 1.),\n",
    "    'min_child_weight': hp.quniform ('x_min_child_weight', 1, 10, 1),\n",
    "    'reg_alpha': hp.loguniform ('x_reg_alpha', 0., 1.),\n",
    "    'reg_lambda': hp.uniform ('x_reg_lambda', 0.7, 1.),\n",
    "}\n",
    "\n",
    "\n",
    "trials = Trials()\n",
    "best_params = fmin(fn=objective,\n",
    "            space=space,\n",
    "            algo=partial(tpe.suggest, n_startup_jobs=1),\n",
    "            max_evals=20,\n",
    "            trials=trials)\n",
    "\n",
    "print(\"The best params: \", best_params)"
   ]
  },
  {
   "cell_type": "code",
   "execution_count": 266,
   "metadata": {},
   "outputs": [],
   "source": [
    "model = XGBRegressor(**xgb_params)\n",
    "model.fit(train_group[feats], train_group['total_return'])\n",
    "test_group['total_return'] = model.predict(test_group[feats])\n",
    "\n",
    "#prepare submit\n",
    "test_group[ ['invoice', 'total_return'] ].to_csv('../../../output/xgb_and_cnt_features.csv', index=False)"
   ]
  },
  {
   "cell_type": "code",
   "execution_count": 267,
   "metadata": {},
   "outputs": [
    {
     "data": {
      "text/html": [
       "<div>\n",
       "<style scoped>\n",
       "    .dataframe tbody tr th:only-of-type {\n",
       "        vertical-align: middle;\n",
       "    }\n",
       "\n",
       "    .dataframe tbody tr th {\n",
       "        vertical-align: top;\n",
       "    }\n",
       "\n",
       "    .dataframe thead th {\n",
       "        text-align: right;\n",
       "    }\n",
       "</style>\n",
       "<table border=\"1\" class=\"dataframe\">\n",
       "  <thead>\n",
       "    <tr style=\"text-align: right;\">\n",
       "      <th></th>\n",
       "      <th>invoice</th>\n",
       "      <th>total_return</th>\n",
       "    </tr>\n",
       "  </thead>\n",
       "  <tbody>\n",
       "    <tr>\n",
       "      <th>0</th>\n",
       "      <td>0</td>\n",
       "      <td>144.702469</td>\n",
       "    </tr>\n",
       "    <tr>\n",
       "      <th>1</th>\n",
       "      <td>1</td>\n",
       "      <td>107.055733</td>\n",
       "    </tr>\n",
       "    <tr>\n",
       "      <th>2</th>\n",
       "      <td>6</td>\n",
       "      <td>2.616042</td>\n",
       "    </tr>\n",
       "    <tr>\n",
       "      <th>3</th>\n",
       "      <td>7</td>\n",
       "      <td>-2.490009</td>\n",
       "    </tr>\n",
       "    <tr>\n",
       "      <th>4</th>\n",
       "      <td>11</td>\n",
       "      <td>-0.885367</td>\n",
       "    </tr>\n",
       "    <tr>\n",
       "      <th>...</th>\n",
       "      <td>...</td>\n",
       "      <td>...</td>\n",
       "    </tr>\n",
       "    <tr>\n",
       "      <th>26809</th>\n",
       "      <td>53617</td>\n",
       "      <td>0.947440</td>\n",
       "    </tr>\n",
       "    <tr>\n",
       "      <th>26810</th>\n",
       "      <td>53618</td>\n",
       "      <td>0.041877</td>\n",
       "    </tr>\n",
       "    <tr>\n",
       "      <th>26811</th>\n",
       "      <td>53619</td>\n",
       "      <td>1.313525</td>\n",
       "    </tr>\n",
       "    <tr>\n",
       "      <th>26812</th>\n",
       "      <td>53622</td>\n",
       "      <td>1.059473</td>\n",
       "    </tr>\n",
       "    <tr>\n",
       "      <th>26813</th>\n",
       "      <td>53626</td>\n",
       "      <td>133.758728</td>\n",
       "    </tr>\n",
       "  </tbody>\n",
       "</table>\n",
       "<p>26814 rows × 2 columns</p>\n",
       "</div>"
      ],
      "text/plain": [
       "       invoice  total_return\n",
       "0            0    144.702469\n",
       "1            1    107.055733\n",
       "2            6      2.616042\n",
       "3            7     -2.490009\n",
       "4           11     -0.885367\n",
       "...        ...           ...\n",
       "26809    53617      0.947440\n",
       "26810    53618      0.041877\n",
       "26811    53619      1.313525\n",
       "26812    53622      1.059473\n",
       "26813    53626    133.758728\n",
       "\n",
       "[26814 rows x 2 columns]"
      ]
     },
     "execution_count": 267,
     "metadata": {},
     "output_type": "execute_result"
    }
   ],
   "source": [
    "test_group[ ['invoice', 'total_return'] ]"
   ]
  },
  {
   "cell_type": "code",
   "execution_count": null,
   "metadata": {},
   "outputs": [],
   "source": []
  }
 ],
 "metadata": {
  "kernelspec": {
   "display_name": "Python 3",
   "language": "python",
   "name": "python3"
  },
  "language_info": {
   "codemirror_mode": {
    "name": "ipython",
    "version": 3
   },
   "file_extension": ".py",
   "mimetype": "text/x-python",
   "name": "python",
   "nbconvert_exporter": "python",
   "pygments_lexer": "ipython3",
   "version": "3.7.4"
  }
 },
 "nbformat": 4,
 "nbformat_minor": 2
}
