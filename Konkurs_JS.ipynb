{
 "cells": [
  {
   "cell_type": "code",
   "execution_count": null,
   "metadata": {},
   "outputs": [],
   "source": [
    "import gc\n",
    "\n",
    "import pandas as pd\n",
    "import numpy as np\n",
    "\n",
    "import matplotlib.pyplot as plt\n",
    "import seaborn as sns\n",
    "import scikitplot as skplt\n",
    "\n",
    "from sklearn.model_selection import train_test_split, KFold, StratifiedKFold, cross_val_score, cross_val_predict\n",
    "from sklearn.dummy import DummyRegressor\n",
    "from sklearn.tree import DecisionTreeClassifier\n",
    "from sklearn.ensemble import RandomForestClassifier, RandomForestRegressor\n",
    "from xgboost import XGBClassifier\n",
    "from sklearn.metrics import mean_squared_error\n",
    "\n",
    "import eli5\n",
    "from eli5.sklearn import PermutationImportance\n",
    "\n",
    "%matplotlib inline"
   ]
  },
  {
   "cell_type": "code",
   "execution_count": 305,
   "metadata": {},
   "outputs": [
    {
     "name": "stdout",
     "output_type": "stream",
     "text": [
      "<class 'pandas.core.frame.DataFrame'>\n",
      "Int64Index: 1067371 entries, 12 to 541893\n",
      "Data columns (total 11 columns):\n",
      "invoice         1067371 non-null int32\n",
      "stock_code      1067371 non-null int16\n",
      "description     1062989 non-null object\n",
      "quantity        1067371 non-null int32\n",
      "invoice_date    1067371 non-null datetime64[ns]\n",
      "price_unit      1067371 non-null float16\n",
      "price_total     1067371 non-null float32\n",
      "customer_id     1067371 non-null int16\n",
      "country         1067371 non-null object\n",
      "is_canceled     520142 non-null object\n",
      "is_test         1067371 non-null bool\n",
      "dtypes: bool(1), datetime64[ns](1), float16(1), float32(1), int16(2), int32(2), object(3)\n",
      "memory usage: 60.1+ MB\n"
     ]
    }
   ],
   "source": [
    "train = pd.read_hdf('../input/train_online_retail.h5')\n",
    "test = pd.read_hdf('../input/test_online_retail.h5')\n",
    "df_all = pd.concat([train, test], sort=False)\n",
    "del train, test\n",
    "gc.collect()\n",
    "\n",
    "df_all.info()"
   ]
  },
  {
   "cell_type": "code",
   "execution_count": null,
   "metadata": {},
   "outputs": [],
   "source": [
    "df_all['is_canceled'].count_"
   ]
  },
  {
   "cell_type": "code",
   "execution_count": 263,
   "metadata": {},
   "outputs": [
    {
     "data": {
      "text/plain": [
       "customer_id\n",
       "-1       305.0\n",
       " 0         8.0\n",
       " 1        30.0\n",
       " 2         0.0\n",
       " 3         3.0\n",
       "         ...  \n",
       " 5930      0.0\n",
       " 5935      0.0\n",
       " 5936      0.0\n",
       " 5938      0.0\n",
       " 5940      0.0\n",
       "Name: is_canceled, Length: 4880, dtype: float64"
      ]
     },
     "execution_count": 263,
     "metadata": {},
     "output_type": "execute_result"
    }
   ],
   "source": [
    "df_all[ ~df_all['is_test'] ].groupby('customer_id')['is_canceled'].agg(np.sum)"
   ]
  },
  {
   "cell_type": "code",
   "execution_count": 383,
   "metadata": {},
   "outputs": [
    {
     "data": {
      "text/plain": [
       "customer_id\n",
       "-1       305\n",
       " 0         8\n",
       " 1        30\n",
       " 2         0\n",
       " 3         3\n",
       "        ... \n",
       " 5930      0\n",
       " 5935      0\n",
       " 5936      0\n",
       " 5938      0\n",
       " 5940      0\n",
       "Name: is_canceled, Length: 4880, dtype: object"
      ]
     },
     "execution_count": 383,
     "metadata": {},
     "output_type": "execute_result"
    }
   ],
   "source": [
    "df_all[ ~df_all['is_test'] ].groupby('customer_id')['is_canceled'].agg(np.sum)"
   ]
  },
  {
   "cell_type": "code",
   "execution_count": 389,
   "metadata": {},
   "outputs": [],
   "source": [
    "def group_to_dict(group_key, agg_func):\n",
    "    train = df_all[ ~df_all['is_canceled'].isnull()]\n",
    "    dict_ = train.groupby(group_key)['is_canceled'].agg(agg_func).to_dict()\n",
    "    if -1 in dict_: del dict_[-1]\n",
    "    \n",
    "    val = [x for x in dict_.values()]\n",
    "    dict_['mean'] = np.mean(val)\n",
    "    print(dict_['mean'])\n",
    "    return dict_"
   ]
  },
  {
   "cell_type": "code",
   "execution_count": 390,
   "metadata": {},
   "outputs": [
    {
     "name": "stdout",
     "output_type": "stream",
     "text": [
      "83.69419963107194\n",
      "1.980323836851814\n",
      "103.08006341656758\n",
      "1.9752279032897344\n"
     ]
    }
   ],
   "source": [
    "# customer feats dicts\n",
    "cnt_customer_orders_dict = group_to_dict('customer_id', np.size)\n",
    "cnt_customer_cancel_dic = group_to_dict('customer_id', np.sum)\n",
    "\n",
    "# product feats dicts\n",
    "cnt_product_orders_dict = group_to_dict('stock_code', np.size)\n",
    "cnt_product_cancel_dic = group_to_dict('stock_code', np.sum)"
   ]
  },
  {
   "cell_type": "code",
   "execution_count": 382,
   "metadata": {},
   "outputs": [],
   "source": [
    "# customer feats\n",
    "df_all['cnt_customer_orders'] = df_all['customer_id'].map(lambda x: int(cnt_customer_orders_dict.get(x, cnt_customer_orders_dict['mean'])))\n",
    "df_all['cnt_customer_cancel'] = df_all['customer_id'].map(lambda x: int(cnt_customer_cancel_dic.get(x, cnt_customer_cancel_dic['mean'])))\n",
    "df_all['prc_customer_cancel'] = df_all[['cnt_customer_orders', 'cnt_customer_cancel']].apply(lambda x: x['cnt_customer_cancel'] / x['cnt_customer_orders'] if x['cnt_customer_orders'] != 0 else 0, axis=1)\n",
    "\n",
    "# produkt feats\n",
    "df_all['cnt_product_orders'] = df_all['stock_code'].map(lambda x: int(cnt_product_orders_dict.get(x, cnt_product_orders_dict['mean'])))\n",
    "df_all['cnt_product_cancel'] = df_all['stock_code'].map(lambda x: int(cnt_product_cancel_dic.get(x, cnt_product_cancel_dic['mean'])))\n",
    "df_all['prc_product_cancel'] = df_all[['cnt_product_orders', 'cnt_product_cancel']].apply(lambda x: x['cnt_product_cancel'] / x['cnt_product_orders'] if x['cnt_product_orders'] != 0 else 0, axis=1)\n",
    "\n",
    "# date feats"
   ]
  },
  {
   "cell_type": "code",
   "execution_count": 322,
   "metadata": {},
   "outputs": [],
   "source": [
    "# tested feats\n"
   ]
  },
  {
   "cell_type": "code",
   "execution_count": 406,
   "metadata": {},
   "outputs": [
    {
     "data": {
      "text/html": [
       "<div>\n",
       "<style scoped>\n",
       "    .dataframe tbody tr th:only-of-type {\n",
       "        vertical-align: middle;\n",
       "    }\n",
       "\n",
       "    .dataframe tbody tr th {\n",
       "        vertical-align: top;\n",
       "    }\n",
       "\n",
       "    .dataframe thead th {\n",
       "        text-align: right;\n",
       "    }\n",
       "</style>\n",
       "<table border=\"1\" class=\"dataframe\">\n",
       "  <thead>\n",
       "    <tr style=\"text-align: right;\">\n",
       "      <th></th>\n",
       "      <th>invoice</th>\n",
       "      <th>stock_code</th>\n",
       "      <th>description</th>\n",
       "      <th>quantity</th>\n",
       "      <th>invoice_date</th>\n",
       "      <th>price_unit</th>\n",
       "      <th>price_total</th>\n",
       "      <th>customer_id</th>\n",
       "      <th>country</th>\n",
       "      <th>is_canceled</th>\n",
       "      <th>is_test</th>\n",
       "      <th>cnt_customer_orders</th>\n",
       "      <th>cnt_customer_cancel</th>\n",
       "      <th>prc_customer_cancel</th>\n",
       "      <th>cnt_product_orders</th>\n",
       "      <th>cnt_product_cancel</th>\n",
       "      <th>prc_product_cancel</th>\n",
       "    </tr>\n",
       "  </thead>\n",
       "  <tbody>\n",
       "    <tr>\n",
       "      <th>36954</th>\n",
       "      <td>1756</td>\n",
       "      <td>6</td>\n",
       "      <td>SAVE THE PLANET MUG</td>\n",
       "      <td>2</td>\n",
       "      <td>2009-12-16 17:58:00</td>\n",
       "      <td>3.429688</td>\n",
       "      <td>6.86</td>\n",
       "      <td>-1</td>\n",
       "      <td>United Kingdom</td>\n",
       "      <td>False</td>\n",
       "      <td>False</td>\n",
       "      <td>83</td>\n",
       "      <td>1</td>\n",
       "      <td>0.012048</td>\n",
       "      <td>411</td>\n",
       "      <td>18</td>\n",
       "      <td>0.043796</td>\n",
       "    </tr>\n",
       "    <tr>\n",
       "      <th>52120</th>\n",
       "      <td>2691</td>\n",
       "      <td>637</td>\n",
       "      <td>RED LOVE HEART SHAPE CUP</td>\n",
       "      <td>1</td>\n",
       "      <td>2010-01-11 14:39:00</td>\n",
       "      <td>1.660156</td>\n",
       "      <td>1.66</td>\n",
       "      <td>-1</td>\n",
       "      <td>United Kingdom</td>\n",
       "      <td>NaN</td>\n",
       "      <td>True</td>\n",
       "      <td>83</td>\n",
       "      <td>1</td>\n",
       "      <td>0.012048</td>\n",
       "      <td>173</td>\n",
       "      <td>0</td>\n",
       "      <td>0.000000</td>\n",
       "    </tr>\n",
       "    <tr>\n",
       "      <th>343606</th>\n",
       "      <td>45261</td>\n",
       "      <td>4165</td>\n",
       "      <td>CARD CIRCUS PARADE</td>\n",
       "      <td>1</td>\n",
       "      <td>2011-09-15 16:37:00</td>\n",
       "      <td>0.830078</td>\n",
       "      <td>0.83</td>\n",
       "      <td>-1</td>\n",
       "      <td>United Kingdom</td>\n",
       "      <td>NaN</td>\n",
       "      <td>True</td>\n",
       "      <td>83</td>\n",
       "      <td>1</td>\n",
       "      <td>0.012048</td>\n",
       "      <td>226</td>\n",
       "      <td>1</td>\n",
       "      <td>0.004425</td>\n",
       "    </tr>\n",
       "    <tr>\n",
       "      <th>440440</th>\n",
       "      <td>24952</td>\n",
       "      <td>3937</td>\n",
       "      <td>WOODEN SCHOOL COLOURING SET</td>\n",
       "      <td>2</td>\n",
       "      <td>2010-11-08 09:20:00</td>\n",
       "      <td>3.359375</td>\n",
       "      <td>6.72</td>\n",
       "      <td>-1</td>\n",
       "      <td>United Kingdom</td>\n",
       "      <td>NaN</td>\n",
       "      <td>True</td>\n",
       "      <td>83</td>\n",
       "      <td>1</td>\n",
       "      <td>0.012048</td>\n",
       "      <td>473</td>\n",
       "      <td>7</td>\n",
       "      <td>0.014799</td>\n",
       "    </tr>\n",
       "    <tr>\n",
       "      <th>361512</th>\n",
       "      <td>20801</td>\n",
       "      <td>324</td>\n",
       "      <td>NO SINGING METAL SIGN</td>\n",
       "      <td>1</td>\n",
       "      <td>2010-09-28 17:18:00</td>\n",
       "      <td>4.210938</td>\n",
       "      <td>4.21</td>\n",
       "      <td>-1</td>\n",
       "      <td>United Kingdom</td>\n",
       "      <td>False</td>\n",
       "      <td>False</td>\n",
       "      <td>83</td>\n",
       "      <td>1</td>\n",
       "      <td>0.012048</td>\n",
       "      <td>641</td>\n",
       "      <td>5</td>\n",
       "      <td>0.007800</td>\n",
       "    </tr>\n",
       "  </tbody>\n",
       "</table>\n",
       "</div>"
      ],
      "text/plain": [
       "        invoice  stock_code                  description  quantity  \\\n",
       "36954      1756           6          SAVE THE PLANET MUG         2   \n",
       "52120      2691         637     RED LOVE HEART SHAPE CUP         1   \n",
       "343606    45261        4165           CARD CIRCUS PARADE         1   \n",
       "440440    24952        3937  WOODEN SCHOOL COLOURING SET         2   \n",
       "361512    20801         324        NO SINGING METAL SIGN         1   \n",
       "\n",
       "              invoice_date  price_unit  price_total  customer_id  \\\n",
       "36954  2009-12-16 17:58:00    3.429688         6.86           -1   \n",
       "52120  2010-01-11 14:39:00    1.660156         1.66           -1   \n",
       "343606 2011-09-15 16:37:00    0.830078         0.83           -1   \n",
       "440440 2010-11-08 09:20:00    3.359375         6.72           -1   \n",
       "361512 2010-09-28 17:18:00    4.210938         4.21           -1   \n",
       "\n",
       "               country is_canceled  is_test  cnt_customer_orders  \\\n",
       "36954   United Kingdom       False    False                   83   \n",
       "52120   United Kingdom         NaN     True                   83   \n",
       "343606  United Kingdom         NaN     True                   83   \n",
       "440440  United Kingdom         NaN     True                   83   \n",
       "361512  United Kingdom       False    False                   83   \n",
       "\n",
       "        cnt_customer_cancel  prc_customer_cancel  cnt_product_orders  \\\n",
       "36954                     1             0.012048                 411   \n",
       "52120                     1             0.012048                 173   \n",
       "343606                    1             0.012048                 226   \n",
       "440440                    1             0.012048                 473   \n",
       "361512                    1             0.012048                 641   \n",
       "\n",
       "        cnt_product_cancel  prc_product_cancel  \n",
       "36954                   18            0.043796  \n",
       "52120                    0            0.000000  \n",
       "343606                   1            0.004425  \n",
       "440440                   7            0.014799  \n",
       "361512                   5            0.007800  "
      ]
     },
     "execution_count": 406,
     "metadata": {},
     "output_type": "execute_result"
    }
   ],
   "source": [
    "df_all[ df_all['customer_id'] == -1 ].sample(5)"
   ]
  },
  {
   "cell_type": "code",
   "execution_count": 209,
   "metadata": {
    "scrolled": true
   },
   "outputs": [],
   "source": [
    "def group_orders(df):\n",
    "    orders = df.groupby('invoice')['is_canceled', 'price_total'].sum()\n",
    "    orders['is_canceled'] = orders['is_canceled'].map(lambda x: True if x>0 else False)\n",
    "    orders['price_canceled'] = orders['is_canceled'] * orders['price_total']\n",
    "    return orders"
   ]
  },
  {
   "cell_type": "code",
   "execution_count": 172,
   "metadata": {},
   "outputs": [],
   "source": [
    "def get_feats_X_y(df):\n",
    "    \n",
    "    # select feats\n",
    "    black_list = ['is_canceled', 'is_test']\n",
    "    feats = df.select_dtypes([np.bool, np.number]).columns\n",
    "    feats = [x for x in feats if x not in black_list]\n",
    "                  \n",
    "    X = df[feats]\n",
    "    y = df['is_canceled']\n",
    "    \n",
    "    return X, y, feats"
   ]
  },
  {
   "cell_type": "code",
   "execution_count": 391,
   "metadata": {},
   "outputs": [],
   "source": [
    "# prepare to train\n",
    "train = df_all[ ~df_all['is_test'] ].copy()\n",
    "test = df_all[ df_all['is_test'] ].copy()\n",
    "\n",
    "#release memory\n",
    "del df_all\n",
    "gc.collect()"
   ]
  },
  {
   "cell_type": "code",
   "execution_count": 392,
   "metadata": {},
   "outputs": [
    {
     "name": "stdout",
     "output_type": "stream",
     "text": [
      "<class 'pandas.core.frame.DataFrame'>\n",
      "Int64Index: 520142 entries, 12 to 541909\n",
      "Data columns (total 17 columns):\n",
      "invoice                520142 non-null int32\n",
      "stock_code             520142 non-null int16\n",
      "description            517903 non-null object\n",
      "quantity               520142 non-null int32\n",
      "invoice_date           520142 non-null datetime64[ns]\n",
      "price_unit             520142 non-null float16\n",
      "price_total            520142 non-null float32\n",
      "customer_id            520142 non-null int16\n",
      "country                520142 non-null object\n",
      "is_canceled            520142 non-null object\n",
      "is_test                520142 non-null bool\n",
      "cnt_customer_orders    520142 non-null int64\n",
      "cnt_customer_cancel    520142 non-null int64\n",
      "prc_customer_cancel    520142 non-null float64\n",
      "cnt_product_orders     520142 non-null int64\n",
      "cnt_product_cancel     520142 non-null int64\n",
      "prc_product_cancel     520142 non-null float64\n",
      "dtypes: bool(1), datetime64[ns](1), float16(1), float32(1), float64(2), int16(2), int32(2), int64(4), object(3)\n",
      "memory usage: 53.1+ MB\n"
     ]
    }
   ],
   "source": [
    "train.info()"
   ]
  },
  {
   "cell_type": "code",
   "execution_count": 393,
   "metadata": {},
   "outputs": [
    {
     "data": {
      "text/plain": [
       "False    510175\n",
       "True       9967\n",
       "Name: is_canceled, dtype: int64"
      ]
     },
     "execution_count": 393,
     "metadata": {},
     "output_type": "execute_result"
    }
   ],
   "source": [
    "train.is_canceled.value_counts()"
   ]
  },
  {
   "cell_type": "code",
   "execution_count": 394,
   "metadata": {},
   "outputs": [
    {
     "data": {
      "text/plain": [
       "False    510175\n",
       "True       9967\n",
       "Name: is_canceled, dtype: int64"
      ]
     },
     "execution_count": 394,
     "metadata": {},
     "output_type": "execute_result"
    }
   ],
   "source": [
    "train['is_canceled'] = train['is_canceled'].astype(bool)\n",
    "train.is_canceled.value_counts()"
   ]
  },
  {
   "cell_type": "code",
   "execution_count": 227,
   "metadata": {},
   "outputs": [
    {
     "data": {
      "text/plain": [
       "1492585.5"
      ]
     },
     "execution_count": 227,
     "metadata": {},
     "output_type": "execute_result"
    }
   ],
   "source": [
    "orders = group_orders(train)\n",
    "\n",
    "X = orders[ [ 'is_canceled' ] ]\n",
    "y = orders[ 'price_canceled' ]\n",
    "\n",
    "model = DummyRegressor(strategy='mean')\n",
    "model.fit(X, y)\n",
    "y_pred = model.predict(X)\n",
    "\n",
    "score = mean_squared_error(y, y_pred)\n",
    "score"
   ]
  },
  {
   "cell_type": "code",
   "execution_count": 7,
   "metadata": {},
   "outputs": [
    {
     "data": {
      "text/plain": [
       "False    0.980838\n",
       "True     0.019162\n",
       "Name: is_canceled, dtype: float64"
      ]
     },
     "execution_count": 7,
     "metadata": {},
     "output_type": "execute_result"
    }
   ],
   "source": [
    "train['is_canceled'].value_counts(normalize=True)"
   ]
  },
  {
   "cell_type": "code",
   "execution_count": 329,
   "metadata": {},
   "outputs": [
    {
     "data": {
      "text/plain": [
       "False    0.845379\n",
       "True     0.154621\n",
       "Name: is_canceled, dtype: float64"
      ]
     },
     "execution_count": 329,
     "metadata": {},
     "output_type": "execute_result"
    }
   ],
   "source": [
    "orders['is_canceled'].value_counts(normalize=True)"
   ]
  },
  {
   "cell_type": "code",
   "execution_count": 395,
   "metadata": {},
   "outputs": [
    {
     "data": {
      "text/plain": [
       "['invoice',\n",
       " 'stock_code',\n",
       " 'quantity',\n",
       " 'price_unit',\n",
       " 'price_total',\n",
       " 'customer_id',\n",
       " 'cnt_customer_orders',\n",
       " 'cnt_customer_cancel',\n",
       " 'prc_customer_cancel',\n",
       " 'cnt_product_orders',\n",
       " 'cnt_product_cancel',\n",
       " 'prc_product_cancel']"
      ]
     },
     "execution_count": 395,
     "metadata": {},
     "output_type": "execute_result"
    }
   ],
   "source": [
    "X, y, feats = get_feats_X_y(train)\n",
    "feats"
   ]
  },
  {
   "cell_type": "code",
   "execution_count": null,
   "metadata": {},
   "outputs": [],
   "source": [
    "def test_model(model, scoring='recall', check_distribution=False):\n",
    "    cv = StratifiedKFold(n_splits=3, random_state=0, shuffle=True)\n",
    "    scores = cross_val_score(model, X, y, cv=cv, scoring=scoring)\n",
    "    print('scores: {}'.format(scores))\n",
    "    print('mean: {}, std: {} \\n'.format(np.mean(scores), np.std(scores)))\n",
    "    \n",
    "    if check_distribution:\n",
    "        y_pred = pd.Series(cross_val_predict(model, X, y, cv=cv))\n",
    "        print('y_pred value_counts: \\n{}'.format(y_pred.value_counts(normalize=True)))"
   ]
  },
  {
   "cell_type": "code",
   "execution_count": 404,
   "metadata": {
    "scrolled": true
   },
   "outputs": [],
   "source": [
    "def plot_model_char(model, check_confusion=True, check_feature_importance=True, check_learning_curve=True):\n",
    "    \n",
    "    if check_confusion:\n",
    "        cv = StratifiedKFold(n_splits=3, random_state=0, shuffle=True)\n",
    "        y_pred = cross_val_predict(model, X, y, cv=cv)\n",
    "        skplt.metrics.plot_confusion_matrix(y, y_pred, normalize=True, figsize=(10 ,10))\n",
    "    \n",
    "    if check_feature_importance or check_learning_curve:\n",
    "        model.fit(X, y)\n",
    "    \n",
    "    if check_feature_importance:\n",
    "        skplt.estimators.plot_feature_importances(model, feature_names=feats, x_tick_rotation=90, figsize=(15, 5))\n",
    "    \n",
    "    if check_learning_curve:\n",
    "        skplt.estimators.plot_learning_curve(model, X, y, figsize=(15, 5), cv=3, scoring='recall');"
   ]
  },
  {
   "cell_type": "code",
   "execution_count": 396,
   "metadata": {},
   "outputs": [
    {
     "name": "stdout",
     "output_type": "stream",
     "text": [
      "scores: [0.3641288  0.35159542 0.37116195]\n",
      "mean: 0.36229539145100564, std: 0.008092518148307526 \n",
      "\n"
     ]
    }
   ],
   "source": [
    "model = DecisionTreeClassifier(max_depth=10, random_state=0)\n",
    "test_model(model)"
   ]
  },
  {
   "cell_type": "code",
   "execution_count": 341,
   "metadata": {
    "scrolled": true
   },
   "outputs": [
    {
     "data": {
      "image/png": "[encoded data removed]",
      "text/plain": [
       "<Figure size 720x720 with 2 Axes>"
      ]
     },
     "metadata": {
      "needs_background": "light"
     },
     "output_type": "display_data"
    },
    {
     "data": {
      "image/png": "[encoded data removed]",
      "text/plain": [
       "<Figure size 1080x360 with 1 Axes>"
      ]
     },
     "metadata": {
      "needs_background": "light"
     },
     "output_type": "display_data"
    },
    {
     "data": {
      "image/png": "[encoded data removed]",
      "text/plain": [
       "<Figure size 1080x360 with 1 Axes>"
      ]
     },
     "metadata": {
      "needs_background": "light"
     },
     "output_type": "display_data"
    }
   ],
   "source": [
    "plot_model_char(model)"
   ]
  },
  {
   "cell_type": "code",
   "execution_count": 409,
   "metadata": {},
   "outputs": [],
   "source": [
    "xgb_params = {\n",
    "    'max_depth' : 30,\n",
    "    'n_estimators' : 100,\n",
    "    'learning_rate': 0.3,\n",
    "    'seed': 0\n",
    "}"
   ]
  },
  {
   "cell_type": "code",
   "execution_count": 398,
   "metadata": {},
   "outputs": [
    {
     "name": "stdout",
     "output_type": "stream",
     "text": [
      "scores: [0.43906109 0.44220349 0.4449127 ]\n",
      "mean: 0.4420590948134279, std: 0.0023910923500048767 \n",
      "\n"
     ]
    }
   ],
   "source": [
    "model = XGBClassifier(**xgb_params)\n",
    "test_model(model)"
   ]
  },
  {
   "cell_type": "code",
   "execution_count": null,
   "metadata": {},
   "outputs": [],
   "source": [
    "plot_model_char(model, False, False, True)"
   ]
  },
  {
   "cell_type": "code",
   "execution_count": null,
   "metadata": {},
   "outputs": [],
   "source": [
    "# m = XGBClassifier(**xgb_params)\n",
    "# m.fit(X,y)\n",
    "\n",
    "# imp = PermutationImportance(m, random_state=0).fit(X,y)\n",
    "# eli5.show_weights(imp, feature_names=feats)"
   ]
  },
  {
   "cell_type": "code",
   "execution_count": 408,
   "metadata": {},
   "outputs": [
    {
     "name": "stdout",
     "output_type": "stream",
     "text": [
      "scores: [0.53686428 0.54304636 0.53762793]\n",
      "mean: 0.5391795239535154, std: 0.0027519804313083326 \n",
      "\n",
      "y_pred value_counts: \n",
      "False    0.987603\n",
      "True     0.012397\n",
      "dtype: float64\n"
     ]
    }
   ],
   "source": [
    "#train and predict\n",
    "\n",
    "model = XGBClassifier(**xgb_params)\n",
    "model.fit(train[feats], train['is_canceled'])\n",
    "test['is_canceled'] = model.predict(test[feats])\n",
    "\n",
    "test_model(model, scoring='neg_mean_absolute_error', check_distribution=False)"
   ]
  },
  {
   "cell_type": "code",
   "execution_count": null,
   "metadata": {},
   "outputs": [],
   "source": [
    "#prepare submit\n",
    "test['total_return'] = test['price_total'] * test['is_canceled']\n",
    "result = test.groupby('invoice')['total_return'].agg(np.sum).to_frame().reset_index()\n",
    "\n",
    "result[ ['invoice', 'total_return'] ].to_csv('../output/xgb_and_cnt_features.csv', index=False)"
   ]
  }
 ],
 "metadata": {
  "kernelspec": {
   "display_name": "Python 3",
   "language": "python",
   "name": "python3"
  },
  "language_info": {
   "codemirror_mode": {
    "name": "ipython",
    "version": 3
   },
   "file_extension": ".py",
   "mimetype": "text/x-python",
   "name": "python",
   "nbconvert_exporter": "python",
   "pygments_lexer": "ipython3",
   "version": "3.7.4"
  }
 },
 "nbformat": 4,
 "nbformat_minor": 2
}
