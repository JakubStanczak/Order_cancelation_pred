{
 "cells": [
  {
   "cell_type": "code",
   "execution_count": 1,
   "metadata": {},
   "outputs": [
    {
     "name": "stderr",
     "output_type": "stream",
     "text": [
      "Using TensorFlow backend.\n"
     ]
    }
   ],
   "source": [
    "from collections import defaultdict, Counter\n",
    "import gc\n",
    "\n",
    "import pandas as pd\n",
    "import numpy as np\n",
    "\n",
    "import matplotlib.pyplot as plt\n",
    "import seaborn as sns\n",
    "import scikitplot as skplt\n",
    "\n",
    "from sklearn.model_selection import train_test_split, KFold, StratifiedKFold, cross_val_score, cross_val_predict\n",
    "from sklearn.dummy import DummyRegressor\n",
    "from sklearn.tree import DecisionTreeClassifier\n",
    "from sklearn.ensemble import RandomForestClassifier, RandomForestRegressor\n",
    "from xgboost import XGBClassifier, XGBRegressor\n",
    "from sklearn.metrics import mean_squared_error\n",
    "\n",
    "from functools import partial\n",
    "from hyperopt import hp, fmin, tpe, STATUS_OK, Trials\n",
    "\n",
    "import eli5\n",
    "from eli5.sklearn import PermutationImportance\n",
    "\n",
    "%matplotlib inline"
   ]
  },
  {
   "cell_type": "code",
   "execution_count": 2,
   "metadata": {},
   "outputs": [
    {
     "name": "stdout",
     "output_type": "stream",
     "text": [
      "<class 'pandas.core.frame.DataFrame'>\n",
      "Int64Index: 1067371 entries, 12 to 541893\n",
      "Data columns (total 11 columns):\n",
      "invoice         1067371 non-null int32\n",
      "stock_code      1067371 non-null int16\n",
      "description     1062989 non-null object\n",
      "quantity        1067371 non-null int32\n",
      "invoice_date    1067371 non-null datetime64[ns]\n",
      "price_unit      1067371 non-null float16\n",
      "price_total     1067371 non-null float32\n",
      "customer_id     1067371 non-null int16\n",
      "country         1067371 non-null object\n",
      "is_canceled     520142 non-null object\n",
      "is_test         1067371 non-null bool\n",
      "dtypes: bool(1), datetime64[ns](1), float16(1), float32(1), int16(2), int32(2), object(3)\n",
      "memory usage: 60.1+ MB\n"
     ]
    }
   ],
   "source": [
    "train = pd.read_hdf('../../../input/train_online_retail.h5')\n",
    "test = pd.read_hdf('../../../input/test_online_retail.h5')\n",
    "df_all = pd.concat([train, test], sort=False)\n",
    "del train, test\n",
    "gc.collect()\n",
    "\n",
    "df_all.info()"
   ]
  },
  {
   "cell_type": "code",
   "execution_count": 3,
   "metadata": {},
   "outputs": [],
   "source": [
    "def group_to_dict(group_key, agg_func):\n",
    "    train = df_all[ ~df_all['is_canceled'].isnull()]\n",
    "    dict_ = train.groupby(group_key)['is_canceled'].agg(agg_func).to_dict()\n",
    "    if -1 in dict_: del dict_[-1]\n",
    "        \n",
    "    mean = np.mean( list(dict_.values()) )\n",
    "    return defaultdict(lambda: mean, dict_)"
   ]
  },
  {
   "cell_type": "code",
   "execution_count": 4,
   "metadata": {},
   "outputs": [],
   "source": [
    "train = df_all[ ~df_all['is_canceled'].isnull()]\n",
    "description_canc = train.groupby(['stock_code', 'description'])['is_canceled'].agg(np.sum).reset_index()\n",
    "description_canc['is_canceled'] = description_canc['is_canceled'].astype(int)\n",
    "description_canc['description'] = description_canc['description'].map(lambda x: str(x).strip())\n",
    "description_canc['words'] = description_canc['description'].map(lambda x: x.split(' '))\n",
    "\n",
    "most_canceled_words = {}\n",
    "for i in range(description_canc.shape[0]):\n",
    "    word_lst = description_canc['words'].iloc[i]    \n",
    "    for word in word_lst:\n",
    "        curr_num = most_canceled_words.get(word, 0)\n",
    "        \n",
    "        most_canceled_words[word] = curr_num + description_canc['is_canceled'].iloc[i]\n",
    "\n",
    "#sorted(most_canceled_words.items() ,  key=lambda x: x[1], reverse=True)\n",
    "\n",
    "words_to_del = []\n",
    "for word in most_canceled_words.keys():\n",
    "    if len(word) <= 2:\n",
    "        words_to_del.append(word)\n",
    "for word in words_to_del:\n",
    "    del most_canceled_words[word]\n",
    "    \n",
    "most_canceled_words = defaultdict(lambda: 0, most_canceled_words)\n",
    "\n",
    "stock_code_word_score = {}\n",
    "for i in range(description_canc.shape[0]):\n",
    "    word_lst = description_canc['words'].iloc[i]\n",
    "    stock_score = 0\n",
    "    for word in word_lst:\n",
    "        stock_score += most_canceled_words[word]\n",
    "        \n",
    "    stock_code_word_score[description_canc['stock_code'].iloc[i]] = stock_score\n",
    "    \n",
    "stock_code_word_score = defaultdict(lambda: 0, stock_code_word_score)\n"
   ]
  },
  {
   "cell_type": "code",
   "execution_count": 5,
   "metadata": {},
   "outputs": [],
   "source": [
    "# customer feats\n",
    "df_all['cnt_customer_orders'] = df_all['customer_id'].map(group_to_dict('customer_id', agg_func=np.size))\n",
    "df_all['cnt_customer_cancel'] = df_all['customer_id'].map(group_to_dict('customer_id', agg_func=np.sum))\n",
    "df_all['prc_customer_cancel'] = df_all[['cnt_customer_orders', 'cnt_customer_cancel']].apply(lambda x: x['cnt_customer_cancel'] / x['cnt_customer_orders'] if x['cnt_customer_orders'] != 0 else 0, axis=1)\n",
    "\n",
    "# produkt feats\n",
    "df_all['cnt_product_orders'] = df_all['stock_code'].map(group_to_dict('stock_code', agg_func=np.size))\n",
    "df_all['cnt_product_cancel'] = df_all['stock_code'].map(group_to_dict('stock_code', agg_func=np.sum))\n",
    "df_all['prc_product_cancel'] = df_all[['cnt_product_orders', 'cnt_product_cancel']].apply(lambda x: x['cnt_product_cancel'] / x['cnt_product_orders'] if x['cnt_product_orders'] != 0 else 0, axis=1)\n",
    "\n",
    "# describsion feats\n",
    "df_all['stock_word_score'] = df_all['stock_code'].map(stock_code_word_score)\n",
    "\n",
    "# date feats\n",
    "df_all['invoice_year'] = df_all['invoice_date'].dt.year\n",
    "df_all['invoice_month'] = df_all['invoice_date'].dt.month\n",
    "df_all['invoice_day_of_m'] = df_all['invoice_date'].dt.day\n",
    "df_all['invoice_day_of_y'] = df_all['invoice_date'].dt.dayofyear\n",
    "df_all['invoice_hour'] = df_all['invoice_date'].dt.hour\n",
    "\n",
    "# category feats\n",
    "df_all['country__cat'] = pd.factorize(df_all['country'])[0]"
   ]
  },
  {
   "cell_type": "markdown",
   "metadata": {},
   "source": [
    "# Train"
   ]
  },
  {
   "cell_type": "code",
   "execution_count": 30,
   "metadata": {},
   "outputs": [],
   "source": [
    "def get_feats_X_y(df):\n",
    "    \n",
    "    # select feats\n",
    "    black_list = ['is_canceled', 'is_test', 'total_return']\n",
    "    feats = df.select_dtypes([np.bool, np.number]).columns\n",
    "    feats = [x for x in feats if x not in black_list]\n",
    "\n",
    "    feats = [x for x in feats if x + '_log' not in df.columns]\n",
    "                  \n",
    "    X = df[feats].values\n",
    "    \n",
    "#     if group:\n",
    "#         if 'total_return_log' in df.columns:\n",
    "#             y = df['total_return_log'].values \n",
    "#         else:\n",
    "#             y = df['total_return'].values\n",
    "#     else:\n",
    "    y = df['is_canceled'].values\n",
    "    \n",
    "    return X, y, feats"
   ]
  },
  {
   "cell_type": "code",
   "execution_count": 114,
   "metadata": {},
   "outputs": [],
   "source": [
    "def test_model(model, scoring='f1', check_distribution=False):\n",
    "    cv = StratifiedKFold(n_splits=3, random_state=0, shuffle=True)\n",
    "    scores = cross_val_score(model, X, y, cv=cv, scoring=scoring)\n",
    "    print('scores: {}'.format(scores))\n",
    "    print('mean: {}, std: {} \\n'.format(np.mean(scores), np.std(scores)))\n",
    "    \n",
    "    if check_distribution:\n",
    "        y_pred = pd.Series(cross_val_predict(model, X, y, cv=cv))\n",
    "        print('y_pred value_counts: \\n{}'.format(y_pred.value_counts(normalize=True)))\n",
    "\n",
    "        \n",
    "        \n",
    "def plot_model_char(model, check_confusion=True, check_feature_importance=True, check_learning_curve=True):\n",
    "    \n",
    "    if check_confusion:\n",
    "        cv = StratifiedKFold(n_splits=3, random_state=0, shuffle=True)\n",
    "        y_pred = cross_val_predict(model, X, y, cv=cv)\n",
    "        skplt.metrics.plot_confusion_matrix(y, y_pred, normalize=True, figsize=(10 ,10))\n",
    "    \n",
    "    if check_feature_importance or check_learning_curve:\n",
    "        model.fit(X, y)\n",
    "    \n",
    "    if check_feature_importance:\n",
    "        skplt.estimators.plot_feature_importances(model, feature_names=feats, x_tick_rotation=90, figsize=(15, 5))\n",
    "    \n",
    "    if check_learning_curve:\n",
    "        skplt.estimators.plot_learning_curve(model, X, y, figsize=(15, 5), cv=3, scoring='recall');"
   ]
  },
  {
   "cell_type": "code",
   "execution_count": 8,
   "metadata": {},
   "outputs": [],
   "source": [
    "# prepare to train\n",
    "train = df_all[ ~df_all['is_test'] ].copy()\n",
    "test = df_all[ df_all['is_test'] ].copy()\n",
    "\n",
    "#release memory\n",
    "del df_all\n",
    "gc.collect()\n",
    "\n",
    "train['cnt_product_cancel'] = train['cnt_product_cancel'].astype(float)\n",
    "train['cnt_customer_cancel'] = train['cnt_customer_cancel'].astype(float)\n",
    "\n",
    "test['cnt_product_cancel'] = test['cnt_product_cancel'].astype(float)\n",
    "test['cnt_customer_cancel'] = test['cnt_customer_cancel'].astype(float)\n",
    "\n",
    "train['is_canceled'] = train['is_canceled'].astype(bool)"
   ]
  },
  {
   "cell_type": "code",
   "execution_count": 9,
   "metadata": {},
   "outputs": [
    {
     "name": "stdout",
     "output_type": "stream",
     "text": [
      "<class 'pandas.core.frame.DataFrame'>\n",
      "Int64Index: 520142 entries, 12 to 541909\n",
      "Data columns (total 24 columns):\n",
      "invoice                520142 non-null int32\n",
      "stock_code             520142 non-null int16\n",
      "description            517903 non-null object\n",
      "quantity               520142 non-null int32\n",
      "invoice_date           520142 non-null datetime64[ns]\n",
      "price_unit             520142 non-null float16\n",
      "price_total            520142 non-null float32\n",
      "customer_id            520142 non-null int16\n",
      "country                520142 non-null object\n",
      "is_canceled            520142 non-null bool\n",
      "is_test                520142 non-null bool\n",
      "cnt_customer_orders    520142 non-null float64\n",
      "cnt_customer_cancel    520142 non-null float64\n",
      "prc_customer_cancel    520142 non-null float64\n",
      "cnt_product_orders     520142 non-null float64\n",
      "cnt_product_cancel     520142 non-null float64\n",
      "prc_product_cancel     520142 non-null float64\n",
      "stock_word_score       520142 non-null int64\n",
      "invoice_year           520142 non-null int64\n",
      "invoice_month          520142 non-null int64\n",
      "invoice_day_of_m       520142 non-null int64\n",
      "invoice_day_of_y       520142 non-null int64\n",
      "invoice_hour           520142 non-null int64\n",
      "country__cat           520142 non-null int64\n",
      "dtypes: bool(2), datetime64[ns](1), float16(1), float32(1), float64(6), int16(2), int32(2), int64(7), object(2)\n",
      "memory usage: 77.4+ MB\n"
     ]
    }
   ],
   "source": [
    "train.info()"
   ]
  },
  {
   "cell_type": "markdown",
   "metadata": {},
   "source": [
    "# Order aproach"
   ]
  },
  {
   "cell_type": "code",
   "execution_count": 10,
   "metadata": {},
   "outputs": [
    {
     "data": {
      "text/html": [
       "<div>\n",
       "<style scoped>\n",
       "    .dataframe tbody tr th:only-of-type {\n",
       "        vertical-align: middle;\n",
       "    }\n",
       "\n",
       "    .dataframe tbody tr th {\n",
       "        vertical-align: top;\n",
       "    }\n",
       "\n",
       "    .dataframe thead th {\n",
       "        text-align: right;\n",
       "    }\n",
       "</style>\n",
       "<table border=\"1\" class=\"dataframe\">\n",
       "  <thead>\n",
       "    <tr style=\"text-align: right;\">\n",
       "      <th></th>\n",
       "      <th>invoice</th>\n",
       "      <th>stock_code</th>\n",
       "      <th>description</th>\n",
       "      <th>quantity</th>\n",
       "      <th>invoice_date</th>\n",
       "      <th>price_unit</th>\n",
       "      <th>price_total</th>\n",
       "      <th>customer_id</th>\n",
       "      <th>country</th>\n",
       "      <th>is_canceled</th>\n",
       "      <th>...</th>\n",
       "      <th>cnt_product_orders</th>\n",
       "      <th>cnt_product_cancel</th>\n",
       "      <th>prc_product_cancel</th>\n",
       "      <th>stock_word_score</th>\n",
       "      <th>invoice_year</th>\n",
       "      <th>invoice_month</th>\n",
       "      <th>invoice_day_of_m</th>\n",
       "      <th>invoice_day_of_y</th>\n",
       "      <th>invoice_hour</th>\n",
       "      <th>country__cat</th>\n",
       "    </tr>\n",
       "  </thead>\n",
       "  <tbody>\n",
       "    <tr>\n",
       "      <th>12</th>\n",
       "      <td>2</td>\n",
       "      <td>12</td>\n",
       "      <td>DOOR MAT BLACK FLOCK</td>\n",
       "      <td>10</td>\n",
       "      <td>2009-12-01 09:06:00</td>\n",
       "      <td>5.949219</td>\n",
       "      <td>59.500000</td>\n",
       "      <td>1</td>\n",
       "      <td>United Kingdom</td>\n",
       "      <td>False</td>\n",
       "      <td>...</td>\n",
       "      <td>242.0</td>\n",
       "      <td>1.0</td>\n",
       "      <td>0.004132</td>\n",
       "      <td>0</td>\n",
       "      <td>2009</td>\n",
       "      <td>12</td>\n",
       "      <td>1</td>\n",
       "      <td>335</td>\n",
       "      <td>9</td>\n",
       "      <td>0</td>\n",
       "    </tr>\n",
       "    <tr>\n",
       "      <th>13</th>\n",
       "      <td>2</td>\n",
       "      <td>13</td>\n",
       "      <td>LOVE BUILDING BLOCK WORD</td>\n",
       "      <td>18</td>\n",
       "      <td>2009-12-01 09:06:00</td>\n",
       "      <td>5.449219</td>\n",
       "      <td>98.099998</td>\n",
       "      <td>1</td>\n",
       "      <td>United Kingdom</td>\n",
       "      <td>False</td>\n",
       "      <td>...</td>\n",
       "      <td>890.0</td>\n",
       "      <td>11.0</td>\n",
       "      <td>0.012360</td>\n",
       "      <td>159</td>\n",
       "      <td>2009</td>\n",
       "      <td>12</td>\n",
       "      <td>1</td>\n",
       "      <td>335</td>\n",
       "      <td>9</td>\n",
       "      <td>0</td>\n",
       "    </tr>\n",
       "    <tr>\n",
       "      <th>14</th>\n",
       "      <td>2</td>\n",
       "      <td>14</td>\n",
       "      <td>HOME BUILDING BLOCK WORD</td>\n",
       "      <td>3</td>\n",
       "      <td>2009-12-01 09:06:00</td>\n",
       "      <td>5.949219</td>\n",
       "      <td>17.850000</td>\n",
       "      <td>1</td>\n",
       "      <td>United Kingdom</td>\n",
       "      <td>False</td>\n",
       "      <td>...</td>\n",
       "      <td>1081.0</td>\n",
       "      <td>11.0</td>\n",
       "      <td>0.010176</td>\n",
       "      <td>183</td>\n",
       "      <td>2009</td>\n",
       "      <td>12</td>\n",
       "      <td>1</td>\n",
       "      <td>335</td>\n",
       "      <td>9</td>\n",
       "      <td>0</td>\n",
       "    </tr>\n",
       "    <tr>\n",
       "      <th>15</th>\n",
       "      <td>2</td>\n",
       "      <td>15</td>\n",
       "      <td>ASSORTED COLOUR BIRD ORNAMENT</td>\n",
       "      <td>16</td>\n",
       "      <td>2009-12-01 09:06:00</td>\n",
       "      <td>1.690430</td>\n",
       "      <td>27.040001</td>\n",
       "      <td>1</td>\n",
       "      <td>United Kingdom</td>\n",
       "      <td>False</td>\n",
       "      <td>...</td>\n",
       "      <td>1384.0</td>\n",
       "      <td>10.0</td>\n",
       "      <td>0.007225</td>\n",
       "      <td>0</td>\n",
       "      <td>2009</td>\n",
       "      <td>12</td>\n",
       "      <td>1</td>\n",
       "      <td>335</td>\n",
       "      <td>9</td>\n",
       "      <td>0</td>\n",
       "    </tr>\n",
       "    <tr>\n",
       "      <th>16</th>\n",
       "      <td>2</td>\n",
       "      <td>16</td>\n",
       "      <td>PEACE WOODEN BLOCK LETTERS</td>\n",
       "      <td>3</td>\n",
       "      <td>2009-12-01 09:06:00</td>\n",
       "      <td>6.949219</td>\n",
       "      <td>20.850000</td>\n",
       "      <td>1</td>\n",
       "      <td>United Kingdom</td>\n",
       "      <td>False</td>\n",
       "      <td>...</td>\n",
       "      <td>185.0</td>\n",
       "      <td>3.0</td>\n",
       "      <td>0.016216</td>\n",
       "      <td>243</td>\n",
       "      <td>2009</td>\n",
       "      <td>12</td>\n",
       "      <td>1</td>\n",
       "      <td>335</td>\n",
       "      <td>9</td>\n",
       "      <td>0</td>\n",
       "    </tr>\n",
       "  </tbody>\n",
       "</table>\n",
       "<p>5 rows × 24 columns</p>\n",
       "</div>"
      ],
      "text/plain": [
       "    invoice  stock_code                    description  quantity  \\\n",
       "12        2          12          DOOR MAT BLACK FLOCK         10   \n",
       "13        2          13       LOVE BUILDING BLOCK WORD        18   \n",
       "14        2          14       HOME BUILDING BLOCK WORD         3   \n",
       "15        2          15  ASSORTED COLOUR BIRD ORNAMENT        16   \n",
       "16        2          16     PEACE WOODEN BLOCK LETTERS         3   \n",
       "\n",
       "          invoice_date  price_unit  price_total  customer_id         country  \\\n",
       "12 2009-12-01 09:06:00    5.949219    59.500000            1  United Kingdom   \n",
       "13 2009-12-01 09:06:00    5.449219    98.099998            1  United Kingdom   \n",
       "14 2009-12-01 09:06:00    5.949219    17.850000            1  United Kingdom   \n",
       "15 2009-12-01 09:06:00    1.690430    27.040001            1  United Kingdom   \n",
       "16 2009-12-01 09:06:00    6.949219    20.850000            1  United Kingdom   \n",
       "\n",
       "    is_canceled  ...  cnt_product_orders  cnt_product_cancel  \\\n",
       "12        False  ...               242.0                 1.0   \n",
       "13        False  ...               890.0                11.0   \n",
       "14        False  ...              1081.0                11.0   \n",
       "15        False  ...              1384.0                10.0   \n",
       "16        False  ...               185.0                 3.0   \n",
       "\n",
       "    prc_product_cancel  stock_word_score  invoice_year  invoice_month  \\\n",
       "12            0.004132                 0          2009             12   \n",
       "13            0.012360               159          2009             12   \n",
       "14            0.010176               183          2009             12   \n",
       "15            0.007225                 0          2009             12   \n",
       "16            0.016216               243          2009             12   \n",
       "\n",
       "    invoice_day_of_m  invoice_day_of_y  invoice_hour  country__cat  \n",
       "12                 1               335             9             0  \n",
       "13                 1               335             9             0  \n",
       "14                 1               335             9             0  \n",
       "15                 1               335             9             0  \n",
       "16                 1               335             9             0  \n",
       "\n",
       "[5 rows x 24 columns]"
      ]
     },
     "execution_count": 10,
     "metadata": {},
     "output_type": "execute_result"
    }
   ],
   "source": [
    "train.head()"
   ]
  },
  {
   "cell_type": "code",
   "execution_count": 11,
   "metadata": {
    "scrolled": true
   },
   "outputs": [],
   "source": [
    "def group_orders(df, params_to_group_by, params_to_agg, agg_fun, label_in_df):\n",
    "    orders = df.groupby(params_to_group_by)[params_to_agg].agg(agg_fun).reset_index()\n",
    "    \n",
    "    if label_in_df:\n",
    "        orders['is_canceled'] = orders['is_canceled'].map(lambda x: True if x>0 else False)\n",
    "#         orders['total_return'] = orders['price_total'] * orders['is_canceled']\n",
    "    return orders"
   ]
  },
  {
   "cell_type": "code",
   "execution_count": 12,
   "metadata": {},
   "outputs": [],
   "source": [
    "params_to_group_by = ['invoice', 'customer_id', 'cnt_customer_orders', 'cnt_customer_cancel', 'prc_customer_cancel', 'invoice_year', 'invoice_day_of_y']\n",
    "params_to_sum = ['price_total', 'is_canceled']\n",
    "params_to_mean = ['cnt_product_orders', 'cnt_product_cancel', 'prc_product_cancel', 'stock_word_score']"
   ]
  },
  {
   "cell_type": "code",
   "execution_count": 13,
   "metadata": {},
   "outputs": [],
   "source": [
    "train_group1 = group_orders(train, params_to_group_by, params_to_sum, np.sum, True)\n",
    "train_group2 = group_orders(train, params_to_group_by, params_to_mean, np.mean, False)\n",
    "test_group1 = group_orders(test, params_to_group_by, params_to_sum, np.sum, False)\n",
    "test_group2 = group_orders(test, params_to_group_by, params_to_mean, np.mean, False)"
   ]
  },
  {
   "cell_type": "code",
   "execution_count": 16,
   "metadata": {},
   "outputs": [],
   "source": [
    "train_group = train_group2\n",
    "train_group['price_total'] = train_group1['price_total']\n",
    "train_group['is_canceled'] = train_group1['is_canceled']\n",
    "# train_group['total_return'] = train_group1['total_return']\n",
    "\n",
    "test_group = test_group2\n",
    "test_group['price_total'] = test_group1['price_total']\n",
    "\n",
    "del train_group1, train_group2, test_group1, test_group2\n",
    "\n",
    "# TODO how many invoices in order"
   ]
  },
  {
   "cell_type": "code",
   "execution_count": 26,
   "metadata": {},
   "outputs": [
    {
     "data": {
      "text/html": [
       "<div>\n",
       "<style scoped>\n",
       "    .dataframe tbody tr th:only-of-type {\n",
       "        vertical-align: middle;\n",
       "    }\n",
       "\n",
       "    .dataframe tbody tr th {\n",
       "        vertical-align: top;\n",
       "    }\n",
       "\n",
       "    .dataframe thead th {\n",
       "        text-align: right;\n",
       "    }\n",
       "</style>\n",
       "<table border=\"1\" class=\"dataframe\">\n",
       "  <thead>\n",
       "    <tr style=\"text-align: right;\">\n",
       "      <th></th>\n",
       "      <th>invoice</th>\n",
       "      <th>customer_id</th>\n",
       "      <th>cnt_customer_orders</th>\n",
       "      <th>cnt_customer_cancel</th>\n",
       "      <th>prc_customer_cancel</th>\n",
       "      <th>invoice_year</th>\n",
       "      <th>invoice_day_of_y</th>\n",
       "      <th>cnt_product_orders</th>\n",
       "      <th>cnt_product_cancel</th>\n",
       "      <th>prc_product_cancel</th>\n",
       "      <th>stock_word_score</th>\n",
       "      <th>price_total</th>\n",
       "      <th>is_canceled</th>\n",
       "    </tr>\n",
       "  </thead>\n",
       "  <tbody>\n",
       "    <tr>\n",
       "      <th>0</th>\n",
       "      <td>2</td>\n",
       "      <td>1</td>\n",
       "      <td>366.0</td>\n",
       "      <td>30.0</td>\n",
       "      <td>0.081967</td>\n",
       "      <td>2009</td>\n",
       "      <td>335</td>\n",
       "      <td>460.157895</td>\n",
       "      <td>5.578947</td>\n",
       "      <td>0.018126</td>\n",
       "      <td>410.315789</td>\n",
       "      <td>630.330017</td>\n",
       "      <td>False</td>\n",
       "    </tr>\n",
       "    <tr>\n",
       "      <th>1</th>\n",
       "      <td>3</td>\n",
       "      <td>2</td>\n",
       "      <td>40.0</td>\n",
       "      <td>0.0</td>\n",
       "      <td>0.000000</td>\n",
       "      <td>2009</td>\n",
       "      <td>335</td>\n",
       "      <td>291.260870</td>\n",
       "      <td>4.391304</td>\n",
       "      <td>0.020913</td>\n",
       "      <td>436.304348</td>\n",
       "      <td>310.750000</td>\n",
       "      <td>False</td>\n",
       "    </tr>\n",
       "    <tr>\n",
       "      <th>2</th>\n",
       "      <td>4</td>\n",
       "      <td>3</td>\n",
       "      <td>498.0</td>\n",
       "      <td>3.0</td>\n",
       "      <td>0.006024</td>\n",
       "      <td>2009</td>\n",
       "      <td>335</td>\n",
       "      <td>193.764706</td>\n",
       "      <td>1.941176</td>\n",
       "      <td>0.011923</td>\n",
       "      <td>647.705882</td>\n",
       "      <td>2286.239990</td>\n",
       "      <td>False</td>\n",
       "    </tr>\n",
       "    <tr>\n",
       "      <th>3</th>\n",
       "      <td>5</td>\n",
       "      <td>4</td>\n",
       "      <td>575.0</td>\n",
       "      <td>0.0</td>\n",
       "      <td>0.000000</td>\n",
       "      <td>2009</td>\n",
       "      <td>335</td>\n",
       "      <td>423.947368</td>\n",
       "      <td>18.157895</td>\n",
       "      <td>0.026849</td>\n",
       "      <td>669.473684</td>\n",
       "      <td>426.299988</td>\n",
       "      <td>False</td>\n",
       "    </tr>\n",
       "    <tr>\n",
       "      <th>4</th>\n",
       "      <td>8</td>\n",
       "      <td>6</td>\n",
       "      <td>101.0</td>\n",
       "      <td>1.0</td>\n",
       "      <td>0.009901</td>\n",
       "      <td>2009</td>\n",
       "      <td>335</td>\n",
       "      <td>411.217391</td>\n",
       "      <td>5.739130</td>\n",
       "      <td>0.009393</td>\n",
       "      <td>472.000000</td>\n",
       "      <td>382.369995</td>\n",
       "      <td>False</td>\n",
       "    </tr>\n",
       "  </tbody>\n",
       "</table>\n",
       "</div>"
      ],
      "text/plain": [
       "   invoice  customer_id  cnt_customer_orders  cnt_customer_cancel  \\\n",
       "0        2            1                366.0                 30.0   \n",
       "1        3            2                 40.0                  0.0   \n",
       "2        4            3                498.0                  3.0   \n",
       "3        5            4                575.0                  0.0   \n",
       "4        8            6                101.0                  1.0   \n",
       "\n",
       "   prc_customer_cancel  invoice_year  invoice_day_of_y  cnt_product_orders  \\\n",
       "0             0.081967          2009               335          460.157895   \n",
       "1             0.000000          2009               335          291.260870   \n",
       "2             0.006024          2009               335          193.764706   \n",
       "3             0.000000          2009               335          423.947368   \n",
       "4             0.009901          2009               335          411.217391   \n",
       "\n",
       "   cnt_product_cancel  prc_product_cancel  stock_word_score  price_total  \\\n",
       "0            5.578947            0.018126        410.315789   630.330017   \n",
       "1            4.391304            0.020913        436.304348   310.750000   \n",
       "2            1.941176            0.011923        647.705882  2286.239990   \n",
       "3           18.157895            0.026849        669.473684   426.299988   \n",
       "4            5.739130            0.009393        472.000000   382.369995   \n",
       "\n",
       "   is_canceled  \n",
       "0        False  \n",
       "1        False  \n",
       "2        False  \n",
       "3        False  \n",
       "4        False  "
      ]
     },
     "execution_count": 26,
     "metadata": {},
     "output_type": "execute_result"
    }
   ],
   "source": [
    "train_group.head()"
   ]
  },
  {
   "cell_type": "code",
   "execution_count": 77,
   "metadata": {},
   "outputs": [],
   "source": [
    "feats_to_log = ['cnt_customer_orders', 'cnt_customer_cancel', 'cnt_product_orders', 'cnt_product_cancel', 'price_total']\n",
    "\n",
    "for feat in feats_to_log:\n",
    "    train_group[feat + '_log'] = np.log1p(train_group[feat])\n",
    "    if feat != 'total_return':\n",
    "        test_group[feat + '_log'] = np.log1p(test_group[feat])"
   ]
  },
  {
   "cell_type": "code",
   "execution_count": 185,
   "metadata": {},
   "outputs": [
    {
     "name": "stdout",
     "output_type": "stream",
     "text": [
      "1310.8294860839835\n"
     ]
    }
   ],
   "source": [
    "train_group['price_total'].describe()\n",
    "cutoff_point = train_group['price_total'].quantile(0.95)\n",
    "print(cutoff_point)\n",
    "train_small = train_group[ train_group['price_total'] <= cutoff_point ].copy()\n",
    "train_big = train_group[ train_group['price_total'] > cutoff_point ].copy()\n",
    "train_small['price_total'].describe()\n",
    "train_big['price_total'].describe()\n",
    "\n",
    "test_group['price_total'].describe()\n",
    "test_small = test_group[ test_group['price_total'] <= cutoff_point ].copy()\n",
    "test_big = test_group[ test_group['price_total'] > cutoff_point ].copy()"
   ]
  },
  {
   "cell_type": "code",
   "execution_count": 116,
   "metadata": {
    "scrolled": true
   },
   "outputs": [
    {
     "data": {
      "image/png": "[encoded data removed]",
      "text/plain": [
       "<Figure size 1080x360 with 2 Axes>"
      ]
     },
     "metadata": {
      "needs_background": "light"
     },
     "output_type": "display_data"
    },
    {
     "data": {
      "image/png": "[encoded data removed]",
      "text/plain": [
       "<Figure size 1080x360 with 2 Axes>"
      ]
     },
     "metadata": {
      "needs_background": "light"
     },
     "output_type": "display_data"
    },
    {
     "data": {
      "image/png": "[encoded data removed]",
      "text/plain": [
       "<Figure size 1080x360 with 2 Axes>"
      ]
     },
     "metadata": {
      "needs_background": "light"
     },
     "output_type": "display_data"
    },
    {
     "data": {
      "image/png": "[encoded data removed]",
      "text/plain": [
       "<Figure size 1080x360 with 2 Axes>"
      ]
     },
     "metadata": {
      "needs_background": "light"
     },
     "output_type": "display_data"
    },
    {
     "data": {
      "image/png": "[encoded data removed]",
      "text/plain": [
       "<Figure size 1080x360 with 2 Axes>"
      ]
     },
     "metadata": {
      "needs_background": "light"
     },
     "output_type": "display_data"
    },
    {
     "data": {
      "image/png": "[encoded data removed]",
      "text/plain": [
       "<Figure size 1080x360 with 2 Axes>"
      ]
     },
     "metadata": {
      "needs_background": "light"
     },
     "output_type": "display_data"
    },
    {
     "data": {
      "image/png": "[encoded data removed]",
      "text/plain": [
       "<Figure size 1080x360 with 2 Axes>"
      ]
     },
     "metadata": {
      "needs_background": "light"
     },
     "output_type": "display_data"
    },
    {
     "data": {
      "image/png": "[encoded data removed]",
      "text/plain": [
       "<Figure size 1080x360 with 2 Axes>"
      ]
     },
     "metadata": {
      "needs_background": "light"
     },
     "output_type": "display_data"
    },
    {
     "data": {
      "image/png": "[encoded data removed]",
      "text/plain": [
       "<Figure size 1080x360 with 2 Axes>"
      ]
     },
     "metadata": {
      "needs_background": "light"
     },
     "output_type": "display_data"
    },
    {
     "data": {
      "image/png": "[encoded data removed]",
      "text/plain": [
       "<Figure size 1080x360 with 2 Axes>"
      ]
     },
     "metadata": {
      "needs_background": "light"
     },
     "output_type": "display_data"
    },
    {
     "data": {
      "image/png": "[encoded data removed]",
      "text/plain": [
       "<Figure size 1080x360 with 2 Axes>"
      ]
     },
     "metadata": {
      "needs_background": "light"
     },
     "output_type": "display_data"
    },
    {
     "data": {
      "image/png": "[encoded data removed]",
      "text/plain": [
       "<Figure size 1080x360 with 2 Axes>"
      ]
     },
     "metadata": {
      "needs_background": "light"
     },
     "output_type": "display_data"
    }
   ],
   "source": [
    "X, y, feats = get_feats_X_y(train_group)\n",
    "for feat in feats:\n",
    "    plt.figure(figsize=(15,5))\n",
    "    plt.subplot(1,4,1)\n",
    "    train_small[feat].hist(bins=50)\n",
    "    plt.title(feat)\n",
    "    plt.subplot(1,4,3)                    \n",
    "    train_big[feat].hist(bins=50)\n",
    "    if feat in feats_to_log:\n",
    "        plt.subplot(1,4,2)\n",
    "        np.log1p(train_small[feat]).hist(bins=50)\n",
    "        plt.subplot(1,4,4) \n",
    "        np.log1p(train_big[feat]).hist(bins=50)\n",
    "    \n",
    "    plt.show()"
   ]
  },
  {
   "cell_type": "code",
   "execution_count": 117,
   "metadata": {},
   "outputs": [
    {
     "data": {
      "text/html": [
       "<div>\n",
       "<style scoped>\n",
       "    .dataframe tbody tr th:only-of-type {\n",
       "        vertical-align: middle;\n",
       "    }\n",
       "\n",
       "    .dataframe tbody tr th {\n",
       "        vertical-align: top;\n",
       "    }\n",
       "\n",
       "    .dataframe thead th {\n",
       "        text-align: right;\n",
       "    }\n",
       "</style>\n",
       "<table border=\"1\" class=\"dataframe\">\n",
       "  <thead>\n",
       "    <tr style=\"text-align: right;\">\n",
       "      <th></th>\n",
       "      <th>invoice</th>\n",
       "      <th>customer_id</th>\n",
       "      <th>cnt_customer_orders</th>\n",
       "      <th>cnt_customer_cancel</th>\n",
       "      <th>prc_customer_cancel</th>\n",
       "      <th>invoice_year</th>\n",
       "      <th>invoice_day_of_y</th>\n",
       "      <th>cnt_product_orders</th>\n",
       "      <th>cnt_product_cancel</th>\n",
       "      <th>prc_product_cancel</th>\n",
       "      <th>stock_word_score</th>\n",
       "      <th>price_total</th>\n",
       "      <th>is_canceled</th>\n",
       "      <th>cnt_customer_orders_log</th>\n",
       "      <th>cnt_customer_cancel_log</th>\n",
       "      <th>cnt_product_orders_log</th>\n",
       "      <th>cnt_product_cancel_log</th>\n",
       "      <th>price_total_log</th>\n",
       "    </tr>\n",
       "  </thead>\n",
       "  <tbody>\n",
       "    <tr>\n",
       "      <th>0</th>\n",
       "      <td>2</td>\n",
       "      <td>1</td>\n",
       "      <td>366.0</td>\n",
       "      <td>30.0</td>\n",
       "      <td>0.081967</td>\n",
       "      <td>2009</td>\n",
       "      <td>335</td>\n",
       "      <td>460.157895</td>\n",
       "      <td>5.578947</td>\n",
       "      <td>0.018126</td>\n",
       "      <td>410.315789</td>\n",
       "      <td>630.330017</td>\n",
       "      <td>False</td>\n",
       "      <td>5.905362</td>\n",
       "      <td>3.433987</td>\n",
       "      <td>6.133740</td>\n",
       "      <td>1.883875</td>\n",
       "      <td>6.447829</td>\n",
       "    </tr>\n",
       "    <tr>\n",
       "      <th>1</th>\n",
       "      <td>3</td>\n",
       "      <td>2</td>\n",
       "      <td>40.0</td>\n",
       "      <td>0.0</td>\n",
       "      <td>0.000000</td>\n",
       "      <td>2009</td>\n",
       "      <td>335</td>\n",
       "      <td>291.260870</td>\n",
       "      <td>4.391304</td>\n",
       "      <td>0.020913</td>\n",
       "      <td>436.304348</td>\n",
       "      <td>310.750000</td>\n",
       "      <td>False</td>\n",
       "      <td>3.713572</td>\n",
       "      <td>0.000000</td>\n",
       "      <td>5.677647</td>\n",
       "      <td>1.684787</td>\n",
       "      <td>5.742202</td>\n",
       "    </tr>\n",
       "    <tr>\n",
       "      <th>3</th>\n",
       "      <td>5</td>\n",
       "      <td>4</td>\n",
       "      <td>575.0</td>\n",
       "      <td>0.0</td>\n",
       "      <td>0.000000</td>\n",
       "      <td>2009</td>\n",
       "      <td>335</td>\n",
       "      <td>423.947368</td>\n",
       "      <td>18.157895</td>\n",
       "      <td>0.026849</td>\n",
       "      <td>669.473684</td>\n",
       "      <td>426.299988</td>\n",
       "      <td>False</td>\n",
       "      <td>6.356108</td>\n",
       "      <td>0.000000</td>\n",
       "      <td>6.051965</td>\n",
       "      <td>2.952715</td>\n",
       "      <td>6.057487</td>\n",
       "    </tr>\n",
       "    <tr>\n",
       "      <th>4</th>\n",
       "      <td>8</td>\n",
       "      <td>6</td>\n",
       "      <td>101.0</td>\n",
       "      <td>1.0</td>\n",
       "      <td>0.009901</td>\n",
       "      <td>2009</td>\n",
       "      <td>335</td>\n",
       "      <td>411.217391</td>\n",
       "      <td>5.739130</td>\n",
       "      <td>0.009393</td>\n",
       "      <td>472.000000</td>\n",
       "      <td>382.369995</td>\n",
       "      <td>False</td>\n",
       "      <td>4.624973</td>\n",
       "      <td>0.693147</td>\n",
       "      <td>6.021551</td>\n",
       "      <td>1.907931</td>\n",
       "      <td>5.949000</td>\n",
       "    </tr>\n",
       "    <tr>\n",
       "      <th>5</th>\n",
       "      <td>9</td>\n",
       "      <td>7</td>\n",
       "      <td>245.0</td>\n",
       "      <td>3.0</td>\n",
       "      <td>0.012245</td>\n",
       "      <td>2009</td>\n",
       "      <td>335</td>\n",
       "      <td>409.000000</td>\n",
       "      <td>3.571429</td>\n",
       "      <td>0.009838</td>\n",
       "      <td>589.428571</td>\n",
       "      <td>285.059998</td>\n",
       "      <td>False</td>\n",
       "      <td>5.505332</td>\n",
       "      <td>1.386294</td>\n",
       "      <td>6.016157</td>\n",
       "      <td>1.519826</td>\n",
       "      <td>5.656201</td>\n",
       "    </tr>\n",
       "  </tbody>\n",
       "</table>\n",
       "</div>"
      ],
      "text/plain": [
       "   invoice  customer_id  cnt_customer_orders  cnt_customer_cancel  \\\n",
       "0        2            1                366.0                 30.0   \n",
       "1        3            2                 40.0                  0.0   \n",
       "3        5            4                575.0                  0.0   \n",
       "4        8            6                101.0                  1.0   \n",
       "5        9            7                245.0                  3.0   \n",
       "\n",
       "   prc_customer_cancel  invoice_year  invoice_day_of_y  cnt_product_orders  \\\n",
       "0             0.081967          2009               335          460.157895   \n",
       "1             0.000000          2009               335          291.260870   \n",
       "3             0.000000          2009               335          423.947368   \n",
       "4             0.009901          2009               335          411.217391   \n",
       "5             0.012245          2009               335          409.000000   \n",
       "\n",
       "   cnt_product_cancel  prc_product_cancel  stock_word_score  price_total  \\\n",
       "0            5.578947            0.018126        410.315789   630.330017   \n",
       "1            4.391304            0.020913        436.304348   310.750000   \n",
       "3           18.157895            0.026849        669.473684   426.299988   \n",
       "4            5.739130            0.009393        472.000000   382.369995   \n",
       "5            3.571429            0.009838        589.428571   285.059998   \n",
       "\n",
       "   is_canceled  cnt_customer_orders_log  cnt_customer_cancel_log  \\\n",
       "0        False                 5.905362                 3.433987   \n",
       "1        False                 3.713572                 0.000000   \n",
       "3        False                 6.356108                 0.000000   \n",
       "4        False                 4.624973                 0.693147   \n",
       "5        False                 5.505332                 1.386294   \n",
       "\n",
       "   cnt_product_orders_log  cnt_product_cancel_log  price_total_log  \n",
       "0                6.133740                1.883875         6.447829  \n",
       "1                5.677647                1.684787         5.742202  \n",
       "3                6.051965                2.952715         6.057487  \n",
       "4                6.021551                1.907931         5.949000  \n",
       "5                6.016157                1.519826         5.656201  "
      ]
     },
     "execution_count": 117,
     "metadata": {},
     "output_type": "execute_result"
    }
   ],
   "source": [
    "train_small.head()"
   ]
  },
  {
   "cell_type": "code",
   "execution_count": 118,
   "metadata": {},
   "outputs": [
    {
     "data": {
      "text/plain": [
       "['invoice',\n",
       " 'customer_id',\n",
       " 'prc_customer_cancel',\n",
       " 'invoice_year',\n",
       " 'invoice_day_of_y',\n",
       " 'prc_product_cancel',\n",
       " 'stock_word_score',\n",
       " 'cnt_customer_orders_log',\n",
       " 'cnt_customer_cancel_log',\n",
       " 'cnt_product_orders_log',\n",
       " 'cnt_product_cancel_log',\n",
       " 'price_total_log']"
      ]
     },
     "execution_count": 118,
     "metadata": {},
     "output_type": "execute_result"
    }
   ],
   "source": [
    "X, y, feats = get_feats_X_y(train_small)\n",
    "feats"
   ]
  },
  {
   "cell_type": "code",
   "execution_count": 167,
   "metadata": {},
   "outputs": [
    {
     "name": "stdout",
     "output_type": "stream",
     "text": [
      "scores: [0.85901639 0.86321966 0.86546259]\n",
      "mean: 0.8625662120943177, std: 0.002671902643706371 \n",
      "\n"
     ]
    }
   ],
   "source": [
    "xgb_params_small = {\n",
    "    'max_depth' : 5,\n",
    "    'n_estimators' : 100,\n",
    "    'learning_rate': 0.1,\n",
    "    'seed': 0\n",
    "}\n",
    "model_small = XGBClassifier(**xgb_params_small)\n",
    "X, y, feats = get_feats_X_y(train_small)\n",
    "test_model(model_small)"
   ]
  },
  {
   "cell_type": "code",
   "execution_count": 168,
   "metadata": {
    "scrolled": true
   },
   "outputs": [
    {
     "data": {
      "image/png": "[encoded data removed]",
      "text/plain": [
       "<Figure size 720x720 with 2 Axes>"
      ]
     },
     "metadata": {
      "needs_background": "light"
     },
     "output_type": "display_data"
    },
    {
     "data": {
      "image/png": "[encoded data removed]",
      "text/plain": [
       "<Figure size 1080x360 with 1 Axes>"
      ]
     },
     "metadata": {
      "needs_background": "light"
     },
     "output_type": "display_data"
    },
    {
     "data": {
      "image/png": "[encoded data removed]",
      "text/plain": [
       "<Figure size 1080x360 with 1 Axes>"
      ]
     },
     "metadata": {
      "needs_background": "light"
     },
     "output_type": "display_data"
    }
   ],
   "source": [
    "plot_model_char(model_small)"
   ]
  },
  {
   "cell_type": "code",
   "execution_count": 171,
   "metadata": {},
   "outputs": [
    {
     "name": "stdout",
     "output_type": "stream",
     "text": [
      "scores: [0.69565217 0.59574468 0.56410256]\n",
      "mean: 0.6184998062888905, std: 0.05606348639765909 \n",
      "\n"
     ]
    }
   ],
   "source": [
    "xgb_params_big = {\n",
    "    'max_depth' : 1,\n",
    "    'n_estimators' : 100,\n",
    "    'learning_rate': 0.1,\n",
    "    'seed': 0\n",
    "}\n",
    "model_big = XGBClassifier(**xgb_params_big)\n",
    "X, y, feats = get_feats_X_y(train_big)\n",
    "test_model(model_big)"
   ]
  },
  {
   "cell_type": "code",
   "execution_count": 170,
   "metadata": {
    "scrolled": true
   },
   "outputs": [
    {
     "name": "stderr",
     "output_type": "stream",
     "text": [
      "/home/jupyter/anaconda3/lib/python3.7/site-packages/sklearn/metrics/classification.py:1439: UndefinedMetricWarning: Recall is ill-defined and being set to 0.0 due to no true samples.\n",
      "  'recall', 'true', average, warn_for)\n"
     ]
    },
    {
     "data": {
      "image/png": "[encoded data removed]",
      "text/plain": [
       "<Figure size 720x720 with 2 Axes>"
      ]
     },
     "metadata": {
      "needs_background": "light"
     },
     "output_type": "display_data"
    },
    {
     "data": {
      "image/png": "[encoded data removed]",
      "text/plain": [
       "<Figure size 1080x360 with 1 Axes>"
      ]
     },
     "metadata": {
      "needs_background": "light"
     },
     "output_type": "display_data"
    },
    {
     "data": {
      "image/png": "[encoded data removed]",
      "text/plain": [
       "<Figure size 1080x360 with 1 Axes>"
      ]
     },
     "metadata": {
      "needs_background": "light"
     },
     "output_type": "display_data"
    }
   ],
   "source": [
    "plot_model_char(model_big)"
   ]
  },
  {
   "cell_type": "code",
   "execution_count": 95,
   "metadata": {},
   "outputs": [
    {
     "data": {
      "text/html": [
       "\n",
       "    <style>\n",
       "    table.eli5-weights tr:hover {\n",
       "        filter: brightness(85%);\n",
       "    }\n",
       "</style>\n",
       "\n",
       "\n",
       "\n",
       "    \n",
       "\n",
       "    \n",
       "\n",
       "    \n",
       "\n",
       "    \n",
       "\n",
       "    \n",
       "\n",
       "    \n",
       "\n",
       "\n",
       "    \n",
       "\n",
       "    \n",
       "\n",
       "    \n",
       "\n",
       "    \n",
       "\n",
       "    \n",
       "\n",
       "    \n",
       "\n",
       "\n",
       "    \n",
       "\n",
       "    \n",
       "\n",
       "    \n",
       "\n",
       "    \n",
       "\n",
       "    \n",
       "        <table class=\"eli5-weights eli5-feature-importances\" style=\"border-collapse: collapse; border: none; margin-top: 0em; table-layout: auto;\">\n",
       "    <thead>\n",
       "    <tr style=\"border: none;\">\n",
       "        <th style=\"padding: 0 1em 0 0.5em; text-align: right; border: none;\">Weight</th>\n",
       "        <th style=\"padding: 0 0.5em 0 0.5em; text-align: left; border: none;\">Feature</th>\n",
       "    </tr>\n",
       "    </thead>\n",
       "    <tbody>\n",
       "    \n",
       "        <tr style=\"background-color: hsl(120, 100.00%, 80.00%); border: none;\">\n",
       "            <td style=\"padding: 0 1em 0 0.5em; text-align: right; border: none;\">\n",
       "                0.0373\n",
       "                \n",
       "                    &plusmn; 0.0023\n",
       "                \n",
       "            </td>\n",
       "            <td style=\"padding: 0 0.5em 0 0.5em; text-align: left; border: none;\">\n",
       "                prc_product_cancel\n",
       "            </td>\n",
       "        </tr>\n",
       "    \n",
       "        <tr style=\"background-color: hsl(120, 100.00%, 83.56%); border: none;\">\n",
       "            <td style=\"padding: 0 1em 0 0.5em; text-align: right; border: none;\">\n",
       "                0.0282\n",
       "                \n",
       "                    &plusmn; 0.0052\n",
       "                \n",
       "            </td>\n",
       "            <td style=\"padding: 0 0.5em 0 0.5em; text-align: left; border: none;\">\n",
       "                prc_customer_cancel\n",
       "            </td>\n",
       "        </tr>\n",
       "    \n",
       "        <tr style=\"background-color: hsl(120, 100.00%, 87.41%); border: none;\">\n",
       "            <td style=\"padding: 0 1em 0 0.5em; text-align: right; border: none;\">\n",
       "                0.0192\n",
       "                \n",
       "                    &plusmn; 0.0026\n",
       "                \n",
       "            </td>\n",
       "            <td style=\"padding: 0 0.5em 0 0.5em; text-align: left; border: none;\">\n",
       "                cnt_product_orders_log\n",
       "            </td>\n",
       "        </tr>\n",
       "    \n",
       "        <tr style=\"background-color: hsl(120, 100.00%, 89.84%); border: none;\">\n",
       "            <td style=\"padding: 0 1em 0 0.5em; text-align: right; border: none;\">\n",
       "                0.0142\n",
       "                \n",
       "                    &plusmn; 0.0034\n",
       "                \n",
       "            </td>\n",
       "            <td style=\"padding: 0 0.5em 0 0.5em; text-align: left; border: none;\">\n",
       "                invoice\n",
       "            </td>\n",
       "        </tr>\n",
       "    \n",
       "        <tr style=\"background-color: hsl(120, 100.00%, 91.71%); border: none;\">\n",
       "            <td style=\"padding: 0 1em 0 0.5em; text-align: right; border: none;\">\n",
       "                0.0106\n",
       "                \n",
       "                    &plusmn; 0.0011\n",
       "                \n",
       "            </td>\n",
       "            <td style=\"padding: 0 0.5em 0 0.5em; text-align: left; border: none;\">\n",
       "                invoice_day_of_y\n",
       "            </td>\n",
       "        </tr>\n",
       "    \n",
       "        <tr style=\"background-color: hsl(120, 100.00%, 92.38%); border: none;\">\n",
       "            <td style=\"padding: 0 1em 0 0.5em; text-align: right; border: none;\">\n",
       "                0.0094\n",
       "                \n",
       "                    &plusmn; 0.0053\n",
       "                \n",
       "            </td>\n",
       "            <td style=\"padding: 0 0.5em 0 0.5em; text-align: left; border: none;\">\n",
       "                price_total_log\n",
       "            </td>\n",
       "        </tr>\n",
       "    \n",
       "        <tr style=\"background-color: hsl(120, 100.00%, 94.65%); border: none;\">\n",
       "            <td style=\"padding: 0 1em 0 0.5em; text-align: right; border: none;\">\n",
       "                0.0057\n",
       "                \n",
       "                    &plusmn; 0.0007\n",
       "                \n",
       "            </td>\n",
       "            <td style=\"padding: 0 0.5em 0 0.5em; text-align: left; border: none;\">\n",
       "                stock_word_score\n",
       "            </td>\n",
       "        </tr>\n",
       "    \n",
       "        <tr style=\"background-color: hsl(120, 100.00%, 95.90%); border: none;\">\n",
       "            <td style=\"padding: 0 1em 0 0.5em; text-align: right; border: none;\">\n",
       "                0.0039\n",
       "                \n",
       "                    &plusmn; 0.0022\n",
       "                \n",
       "            </td>\n",
       "            <td style=\"padding: 0 0.5em 0 0.5em; text-align: left; border: none;\">\n",
       "                cnt_customer_cancel_log\n",
       "            </td>\n",
       "        </tr>\n",
       "    \n",
       "        <tr style=\"background-color: hsl(120, 100.00%, 96.01%); border: none;\">\n",
       "            <td style=\"padding: 0 1em 0 0.5em; text-align: right; border: none;\">\n",
       "                0.0037\n",
       "                \n",
       "                    &plusmn; 0.0019\n",
       "                \n",
       "            </td>\n",
       "            <td style=\"padding: 0 0.5em 0 0.5em; text-align: left; border: none;\">\n",
       "                customer_id\n",
       "            </td>\n",
       "        </tr>\n",
       "    \n",
       "        <tr style=\"background-color: hsl(120, 100.00%, 96.95%); border: none;\">\n",
       "            <td style=\"padding: 0 1em 0 0.5em; text-align: right; border: none;\">\n",
       "                0.0025\n",
       "                \n",
       "                    &plusmn; 0.0036\n",
       "                \n",
       "            </td>\n",
       "            <td style=\"padding: 0 0.5em 0 0.5em; text-align: left; border: none;\">\n",
       "                cnt_customer_orders_log\n",
       "            </td>\n",
       "        </tr>\n",
       "    \n",
       "        <tr style=\"background-color: hsl(120, 100.00%, 97.34%); border: none;\">\n",
       "            <td style=\"padding: 0 1em 0 0.5em; text-align: right; border: none;\">\n",
       "                0.0021\n",
       "                \n",
       "                    &plusmn; 0.0015\n",
       "                \n",
       "            </td>\n",
       "            <td style=\"padding: 0 0.5em 0 0.5em; text-align: left; border: none;\">\n",
       "                cnt_product_cancel_log\n",
       "            </td>\n",
       "        </tr>\n",
       "    \n",
       "        <tr style=\"background-color: hsl(0, 100.00%, 100.00%); border: none;\">\n",
       "            <td style=\"padding: 0 1em 0 0.5em; text-align: right; border: none;\">\n",
       "                0\n",
       "                \n",
       "                    &plusmn; 0.0000\n",
       "                \n",
       "            </td>\n",
       "            <td style=\"padding: 0 0.5em 0 0.5em; text-align: left; border: none;\">\n",
       "                invoice_year\n",
       "            </td>\n",
       "        </tr>\n",
       "    \n",
       "    \n",
       "    </tbody>\n",
       "</table>\n",
       "    \n",
       "\n",
       "    \n",
       "\n",
       "\n",
       "    \n",
       "\n",
       "    \n",
       "\n",
       "    \n",
       "\n",
       "    \n",
       "\n",
       "    \n",
       "\n",
       "    \n",
       "\n",
       "\n",
       "\n"
      ],
      "text/plain": [
       "<IPython.core.display.HTML object>"
      ]
     },
     "execution_count": 95,
     "metadata": {},
     "output_type": "execute_result"
    }
   ],
   "source": [
    "m = XGBClassifier(**xgb_params)\n",
    "m.fit(X,y)\n",
    "\n",
    "imp = PermutationImportance(m, random_state=0).fit(X,y)\n",
    "eli5.show_weights(imp, feature_names=feats)"
   ]
  },
  {
   "cell_type": "code",
   "execution_count": null,
   "metadata": {},
   "outputs": [],
   "source": []
  },
  {
   "cell_type": "code",
   "execution_count": 30,
   "metadata": {},
   "outputs": [
    {
     "name": "stdout",
     "output_type": "stream",
     "text": [
      "1345701.6\n"
     ]
    }
   ],
   "source": [
    "# calculate mse of train predictions\n",
    "\n",
    "model = XGBClassifier(**xgb_params)\n",
    "model.fit(train_group[feats], train_group['is_canceled'])\n",
    "\n",
    "cv = StratifiedKFold(n_splits=3, random_state=0, shuffle=True)\n",
    "train_group['is_canceled_pred'] = cross_val_predict(model, X, y, cv=cv)\n",
    "\n",
    "train_group['total_return'] = train_group['price_total'] * train_group['is_canceled']\n",
    "train_group['total_return_pred'] = train_group['price_total'] * train_group['is_canceled_pred']\n",
    "score = mean_squared_error(train_group['total_return'], train_group['total_return_pred'])\n",
    "print(score)\n",
    "\n",
    "train_group['right_pred'] = train_group[['is_canceled', 'is_canceled_pred']].apply(lambda x: x['is_canceled'] == x['is_canceled_pred'], axis=1)"
   ]
  },
  {
   "cell_type": "code",
   "execution_count": 41,
   "metadata": {},
   "outputs": [
    {
     "data": {
      "text/plain": [
       "right_pred\n",
       "False    497.322388\n",
       "True     418.930115\n",
       "Name: price_total, dtype: float32"
      ]
     },
     "execution_count": 41,
     "metadata": {},
     "output_type": "execute_result"
    }
   ],
   "source": [
    "train_group.groupby('right_pred')['price_total'].agg(np.sum) / train_group.groupby('right_pred')['price_total'].agg(np.size)"
   ]
  },
  {
   "cell_type": "code",
   "execution_count": 31,
   "metadata": {},
   "outputs": [
    {
     "data": {
      "text/plain": [
       "0        True\n",
       "1        True\n",
       "2        True\n",
       "3        True\n",
       "4        True\n",
       "         ... \n",
       "26809    True\n",
       "26810    True\n",
       "26811    True\n",
       "26812    True\n",
       "26813    True\n",
       "Name: right_pred, Length: 26814, dtype: bool"
      ]
     },
     "execution_count": 31,
     "metadata": {},
     "output_type": "execute_result"
    }
   ],
   "source": [
    "train_group['right_pred']"
   ]
  },
  {
   "cell_type": "code",
   "execution_count": 101,
   "metadata": {},
   "outputs": [
    {
     "data": {
      "text/plain": [
       "['invoice',\n",
       " 'customer_id',\n",
       " 'cnt_customer_orders',\n",
       " 'cnt_customer_cancel',\n",
       " 'prc_customer_cancel',\n",
       " 'invoice_year',\n",
       " 'invoice_day_of_y',\n",
       " 'cnt_product_orders',\n",
       " 'cnt_product_cancel',\n",
       " 'prc_product_cancel',\n",
       " 'stock_word_score',\n",
       " 'price_total']"
      ]
     },
     "execution_count": 101,
     "metadata": {},
     "output_type": "execute_result"
    }
   ],
   "source": [
    "feats"
   ]
  },
  {
   "cell_type": "code",
   "execution_count": null,
   "metadata": {},
   "outputs": [],
   "source": [
    "for feat in feats:\n",
    "    "
   ]
  },
  {
   "cell_type": "code",
   "execution_count": 188,
   "metadata": {},
   "outputs": [
    {
     "data": {
      "text/plain": [
       "2    0.0\n",
       "4    0.0\n",
       "Name: total_return, dtype: float32"
      ]
     },
     "execution_count": 188,
     "metadata": {},
     "output_type": "execute_result"
    }
   ],
   "source": [
    "train_group['total_return'].iloc[[2,4]]"
   ]
  },
  {
   "cell_type": "code",
   "execution_count": null,
   "metadata": {},
   "outputs": [],
   "source": [
    "train_group.columns"
   ]
  },
  {
   "cell_type": "code",
   "execution_count": 179,
   "metadata": {},
   "outputs": [],
   "source": [
    "def hyperOptf1(train):\n",
    "    X, y, feats = get_feats_X_y(train)\n",
    "\n",
    "\n",
    "    def objective(space):\n",
    "\n",
    "        xgb_params = {\n",
    "            'max_depth': int(space['max_depth']),\n",
    "            'colsample_bytree': space['colsample_bytree'],\n",
    "            'learning_rate': space['learning_rate'],\n",
    "            'subsample': space['subsample'],\n",
    "            'min_child_weight': int(space['min_child_weight']),\n",
    "            'reg_alpha': space['reg_alpha'],\n",
    "            'reg_lambda': space['reg_lambda'],\n",
    "            'n_estimators': int(space['n_estimators']),\n",
    "            'objective': 'reg:squarederror',\n",
    "            'random_state':0\n",
    "        }\n",
    "\n",
    "        model = XGBClassifier(**xgb_params)\n",
    "\n",
    "        cv = StratifiedKFold(n_splits=3, random_state=0, shuffle=True)\n",
    "        scores = cross_val_score(model, X, y, cv=cv, scoring='recall')\n",
    "\n",
    "        final_score = 1 - np.mean(scores)\n",
    "\n",
    "\n",
    "#         cv = StratifiedKFold(n_splits=3, random_state=0, shuffle=True)\n",
    "\n",
    "#         scores = []\n",
    "#         for train_idx, test_idx in cv.split(X, y):\n",
    "\n",
    "#             model.fit(X[train_idx], y[train_idx])\n",
    "#             y_pred = model.predict(X[test_idx])\n",
    "\n",
    "#             score = mean_squared_error(y_pred * train_group['total_return'].iloc[test_idx], train_group['total_return'].iloc[test_idx])\n",
    "#             scores.append(score)\n",
    "\n",
    "#         final_score = np.mean(scores)\n",
    "\n",
    "\n",
    "        print('score: {}'.format(final_score))\n",
    "        return{'loss':final_score, 'status': STATUS_OK }\n",
    "\n",
    "    space ={\n",
    "        'max_depth': hp.quniform ('x_max_depth', 5, 20, 1),\n",
    "        'colsample_bytree': hp.uniform ('x_colsample_bytree', 0.8, 1.),\n",
    "        'learning_rate': hp.uniform ('x_learning_rate', 0.05, 0.3),\n",
    "        'subsample': hp.uniform ('x_subsample', 0.7, 1.),\n",
    "        'min_child_weight': hp.quniform ('x_min_child_weight', 1, 10, 1),\n",
    "        'reg_alpha': hp.loguniform ('x_reg_alpha', 0., 1.),\n",
    "        'reg_lambda': hp.uniform ('x_reg_lambda', 0.7, 1.),\n",
    "        'n_estimators': hp.quniform('x_n_estimators', 50, 1000, 1)\n",
    "    }\n",
    "\n",
    "\n",
    "    trials = Trials()\n",
    "    best_params = fmin(fn=objective,\n",
    "                space=space,\n",
    "                algo=partial(tpe.suggest, n_startup_jobs=1),\n",
    "                max_evals=20,\n",
    "                trials=trials)\n",
    "\n",
    "    print(\"The best params: \", best_params)"
   ]
  },
  {
   "cell_type": "code",
   "execution_count": 188,
   "metadata": {},
   "outputs": [
    {
     "name": "stdout",
     "output_type": "stream",
     "text": [
      "score: 0.4506172839506173                             \n",
      "score: 0.5361552028218695                                                       \n",
      "score: 0.46384479717813054                                                      \n",
      "score: 0.5123456790123457                                                       \n",
      "score: 0.4629629629629629                                                       \n",
      "score: 0.4629629629629629                                                       \n",
      "score: 0.46340388007054667                                                      \n",
      "score: 0.4506172839506173                                                       \n",
      "score: 0.47530864197530864                                                      \n",
      "score: 0.47530864197530864                                                      \n",
      "score: 0.4263668430335098                                                        \n",
      "score: 0.4387125220458553                                                        \n",
      "score: 0.4387125220458553                                                        \n",
      "score: 0.47530864197530864                                                       \n",
      "score: 0.45105820105820105                                                       \n",
      "score: 0.41446208112874783                                                       \n",
      "score: 0.4506172839506172                                                         \n",
      "score: 0.4506172839506173                                                         \n",
      "score: 0.42680776014109345                                                        \n",
      "score: 0.4144620811287477                                                         \n",
      "100%|██████████| 20/20 [00:08<00:00,  2.42trial/s, best loss: 0.4144620811287477] \n",
      "The best params:  {'x_colsample_bytree': 0.9800940688151296, 'x_learning_rate': 0.265376366136174, 'x_max_depth': 8.0, 'x_min_child_weight': 8.0, 'x_n_estimators': 243.0, 'x_reg_alpha': 1.703436603781056, 'x_reg_lambda': 0.951166442936762, 'x_subsample': 0.8352626862468606}\n",
      "score: 0.14591525088072155                            \n",
      "score: 0.14320758864900318                                                       \n",
      "score: 0.1392706408600275                                                        \n",
      "score: 0.14419232523196734                                                       \n",
      "score: 0.15132821342984482                                                      \n",
      "score: 0.1473909022694363                                                       \n",
      "score: 0.1456699751635625                                                       \n",
      "score: 0.155019703815945                                                        \n",
      "score: 0.149112737803892                                                        \n",
      "score: 0.15059056942120375                                                      \n",
      "score: 0.14689817060652144                                                       \n",
      "score: 0.14788363393235116                                                       \n",
      "score: 0.14640616568647224                                                       \n",
      "score: 0.15846482837058806                                                       \n",
      "score: 0.13508841735389288                                                       \n",
      "score: 0.14714508149512806                                                        \n",
      "score: 0.14616216176932817                                                        \n",
      "score: 0.14123938728309005                                                        \n",
      "score: 0.13361222090802893                                                        \n",
      "score: 0.1358262430482503                                                         \n",
      "100%|██████████| 20/20 [05:15<00:00, 15.78s/trial, best loss: 0.13361222090802893]\n",
      "The best params:  {'x_colsample_bytree': 0.8093664829074301, 'x_learning_rate': 0.17465710800508444, 'x_max_depth': 6.0, 'x_min_child_weight': 2.0, 'x_n_estimators': 65.0, 'x_reg_alpha': 1.7595440650980956, 'x_reg_lambda': 0.7279352179526936, 'x_subsample': 0.8122846596497204}\n"
     ]
    }
   ],
   "source": [
    "hyperOptf1(train_small)\n",
    "hyperOptf1(train_big)"
   ]
  },
  {
   "cell_type": "code",
   "execution_count": 111,
   "metadata": {},
   "outputs": [],
   "source": [
    "xgb_params_opt_small\n",
    "xgb_params_opt_big = {'n_estimators': 100, 'x_colsample_bytree': 0.9791621251083934, 'x_learning_rate': 0.08414707058398958, 'x_max_depth': 8.0, 'x_min_child_weight': 5.0, 'x_reg_alpha': 2.4075819257817654, 'x_reg_lambda': 0.9215270825018709, 'x_subsample': 0.8986354204593947}"
   ]
  },
  {
   "cell_type": "code",
   "execution_count": 186,
   "metadata": {},
   "outputs": [],
   "source": [
    "X, y, feats = get_feats_X_y(train_small)\n",
    "model = XGBClassifier(**xgb_params_small)\n",
    "model.fit(train_small[feats], train_small['is_canceled'])\n",
    "test_small['is_canceled'] = model.predict(test_small[feats])\n",
    "\n",
    "model = XGBClassifier(**xgb_params_big)\n",
    "model.fit(train_big[feats], train_big['is_canceled'])\n",
    "test_big['is_canceled'] = model.predict(test_big[feats])\n",
    "\n",
    "test_all = pd.concat([test_small, test_big], sort=False)"
   ]
  },
  {
   "cell_type": "code",
   "execution_count": null,
   "metadata": {},
   "outputs": [],
   "source": []
  },
  {
   "cell_type": "code",
   "execution_count": 187,
   "metadata": {},
   "outputs": [],
   "source": [
    "#prepare submit\n",
    "test_all['total_return'] = test_all['price_total'] * test_all['is_canceled']\n",
    "test_all[ ['invoice', 'total_return'] ].to_csv('../../../output/xgb_and_cnt_features.csv', index=False)"
   ]
  }
 ],
 "metadata": {
  "kernelspec": {
   "display_name": "Python 3",
   "language": "python",
   "name": "python3"
  },
  "language_info": {
   "codemirror_mode": {
    "name": "ipython",
    "version": 3
   },
   "file_extension": ".py",
   "mimetype": "text/x-python",
   "name": "python",
   "nbconvert_exporter": "python",
   "pygments_lexer": "ipython3",
   "version": "3.7.4"
  }
 },
 "nbformat": 4,
 "nbformat_minor": 2
}
