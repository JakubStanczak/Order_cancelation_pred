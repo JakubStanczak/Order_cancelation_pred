{
 "cells": [
  {
   "cell_type": "code",
   "execution_count": 1,
   "metadata": {},
   "outputs": [
    {
     "name": "stderr",
     "output_type": "stream",
     "text": [
      "Using TensorFlow backend.\n"
     ]
    }
   ],
   "source": [
    "from collections import defaultdict, Counter\n",
    "import gc\n",
    "\n",
    "import pandas as pd\n",
    "import numpy as np\n",
    "\n",
    "import matplotlib.pyplot as plt\n",
    "import seaborn as sns\n",
    "import scikitplot as skplt\n",
    "\n",
    "from sklearn.model_selection import train_test_split, KFold, StratifiedKFold, cross_val_score, cross_val_predict\n",
    "from sklearn.dummy import DummyRegressor\n",
    "from sklearn.tree import DecisionTreeClassifier\n",
    "from sklearn.ensemble import RandomForestClassifier, RandomForestRegressor\n",
    "from xgboost import XGBClassifier, XGBRegressor\n",
    "from sklearn.metrics import mean_squared_error\n",
    "\n",
    "from functools import partial\n",
    "from hyperopt import hp, fmin, tpe, STATUS_OK, Trials\n",
    "\n",
    "import eli5\n",
    "from eli5.sklearn import PermutationImportance\n",
    "\n",
    "%matplotlib inline"
   ]
  },
  {
   "cell_type": "code",
   "execution_count": 2,
   "metadata": {},
   "outputs": [
    {
     "name": "stdout",
     "output_type": "stream",
     "text": [
      "<class 'pandas.core.frame.DataFrame'>\n",
      "Int64Index: 1067371 entries, 12 to 541893\n",
      "Data columns (total 11 columns):\n",
      "invoice         1067371 non-null int32\n",
      "stock_code      1067371 non-null int16\n",
      "description     1062989 non-null object\n",
      "quantity        1067371 non-null int32\n",
      "invoice_date    1067371 non-null datetime64[ns]\n",
      "price_unit      1067371 non-null float16\n",
      "price_total     1067371 non-null float32\n",
      "customer_id     1067371 non-null int16\n",
      "country         1067371 non-null object\n",
      "is_canceled     520142 non-null object\n",
      "is_test         1067371 non-null bool\n",
      "dtypes: bool(1), datetime64[ns](1), float16(1), float32(1), int16(2), int32(2), object(3)\n",
      "memory usage: 60.1+ MB\n"
     ]
    }
   ],
   "source": [
    "train = pd.read_hdf('../../../input/train_online_retail.h5')\n",
    "test = pd.read_hdf('../../../input/test_online_retail.h5')\n",
    "df_all = pd.concat([train, test], sort=False)\n",
    "del train, test\n",
    "gc.collect()\n",
    "\n",
    "df_all.info()"
   ]
  },
  {
   "cell_type": "code",
   "execution_count": 3,
   "metadata": {},
   "outputs": [],
   "source": [
    "def group_to_dict(group_key, agg_func):\n",
    "    train = df_all[ ~df_all['is_canceled'].isnull()]\n",
    "    dict_ = train.groupby(group_key)['is_canceled'].agg(agg_func).to_dict()\n",
    "    if -1 in dict_: del dict_[-1]\n",
    "        \n",
    "    mean = np.mean( list(dict_.values()) )\n",
    "    return defaultdict(lambda: mean, dict_)"
   ]
  },
  {
   "cell_type": "code",
   "execution_count": 4,
   "metadata": {},
   "outputs": [],
   "source": [
    "train = df_all[ ~df_all['is_canceled'].isnull()]\n",
    "description_canc = train.groupby(['stock_code', 'description'])['is_canceled'].agg(np.sum).reset_index()\n",
    "description_canc['is_canceled'] = description_canc['is_canceled'].astype(int)\n",
    "description_canc['description'] = description_canc['description'].map(lambda x: str(x).strip())\n",
    "description_canc['words'] = description_canc['description'].map(lambda x: x.split(' '))\n",
    "\n",
    "most_canceled_words = {}\n",
    "for i in range(description_canc.shape[0]):\n",
    "    word_lst = description_canc['words'].iloc[i]    \n",
    "    for word in word_lst:\n",
    "        curr_num = most_canceled_words.get(word, 0)\n",
    "        \n",
    "        most_canceled_words[word] = curr_num + description_canc['is_canceled'].iloc[i]\n",
    "\n",
    "#sorted(most_canceled_words.items() ,  key=lambda x: x[1], reverse=True)\n",
    "\n",
    "words_to_del = []\n",
    "for word in most_canceled_words.keys():\n",
    "    if len(word) <= 2:\n",
    "        words_to_del.append(word)\n",
    "for word in words_to_del:\n",
    "    del most_canceled_words[word]\n",
    "    \n",
    "most_canceled_words = defaultdict(lambda: 0, most_canceled_words)\n",
    "\n",
    "stock_code_word_score = {}\n",
    "for i in range(description_canc.shape[0]):\n",
    "    word_lst = description_canc['words'].iloc[i]\n",
    "    stock_score = 0\n",
    "    for word in word_lst:\n",
    "        stock_score += most_canceled_words[word]\n",
    "        \n",
    "    stock_code_word_score[description_canc['stock_code'].iloc[i]] = stock_score\n",
    "    \n",
    "stock_code_word_score = defaultdict(lambda: 0, stock_code_word_score)\n"
   ]
  },
  {
   "cell_type": "code",
   "execution_count": 5,
   "metadata": {},
   "outputs": [],
   "source": [
    "# customer feats\n",
    "df_all['cnt_customer_orders'] = df_all['customer_id'].map(group_to_dict('customer_id', agg_func=np.size))\n",
    "df_all['cnt_customer_cancel'] = df_all['customer_id'].map(group_to_dict('customer_id', agg_func=np.sum))\n",
    "df_all['prc_customer_cancel'] = df_all[['cnt_customer_orders', 'cnt_customer_cancel']].apply(lambda x: x['cnt_customer_cancel'] / x['cnt_customer_orders'] if x['cnt_customer_orders'] != 0 else 0, axis=1)\n",
    "\n",
    "# produkt feats\n",
    "df_all['cnt_product_orders'] = df_all['stock_code'].map(group_to_dict('stock_code', agg_func=np.size))\n",
    "df_all['cnt_product_cancel'] = df_all['stock_code'].map(group_to_dict('stock_code', agg_func=np.sum))\n",
    "df_all['prc_product_cancel'] = df_all[['cnt_product_orders', 'cnt_product_cancel']].apply(lambda x: x['cnt_product_cancel'] / x['cnt_product_orders'] if x['cnt_product_orders'] != 0 else 0, axis=1)\n",
    "\n",
    "# describsion feats\n",
    "df_all['stock_word_score'] = df_all['stock_code'].map(stock_code_word_score)\n",
    "\n",
    "# date feats\n",
    "df_all['invoice_year'] = df_all['invoice_date'].dt.year\n",
    "df_all['invoice_month'] = df_all['invoice_date'].dt.month\n",
    "df_all['invoice_day_of_m'] = df_all['invoice_date'].dt.day\n",
    "df_all['invoice_day_of_y'] = df_all['invoice_date'].dt.dayofyear\n",
    "df_all['invoice_hour'] = df_all['invoice_date'].dt.hour\n",
    "\n",
    "# category feats\n",
    "df_all['country__cat'] = pd.factorize(df_all['country'])[0]"
   ]
  },
  {
   "cell_type": "code",
   "execution_count": 125,
   "metadata": {},
   "outputs": [
    {
     "data": {
      "text/plain": [
       "0"
      ]
     },
     "execution_count": 125,
     "metadata": {},
     "output_type": "execute_result"
    }
   ],
   "source": [
    "df_all['stock_word_score'].isnull().sum()"
   ]
  },
  {
   "cell_type": "code",
   "execution_count": 94,
   "metadata": {},
   "outputs": [
    {
     "data": {
      "text/html": [
       "<div>\n",
       "<style scoped>\n",
       "    .dataframe tbody tr th:only-of-type {\n",
       "        vertical-align: middle;\n",
       "    }\n",
       "\n",
       "    .dataframe tbody tr th {\n",
       "        vertical-align: top;\n",
       "    }\n",
       "\n",
       "    .dataframe thead th {\n",
       "        text-align: right;\n",
       "    }\n",
       "</style>\n",
       "<table border=\"1\" class=\"dataframe\">\n",
       "  <thead>\n",
       "    <tr style=\"text-align: right;\">\n",
       "      <th></th>\n",
       "      <th>invoice</th>\n",
       "      <th>stock_code</th>\n",
       "      <th>description</th>\n",
       "      <th>quantity</th>\n",
       "      <th>invoice_date</th>\n",
       "      <th>price_unit</th>\n",
       "      <th>price_total</th>\n",
       "      <th>customer_id</th>\n",
       "      <th>country</th>\n",
       "      <th>is_canceled</th>\n",
       "      <th>...</th>\n",
       "      <th>cnt_product_orders</th>\n",
       "      <th>cnt_product_cancel</th>\n",
       "      <th>prc_product_cancel</th>\n",
       "      <th>stock_word_score</th>\n",
       "      <th>invoice_year</th>\n",
       "      <th>invoice_month</th>\n",
       "      <th>invoice_day_of_m</th>\n",
       "      <th>invoice_day_of_y</th>\n",
       "      <th>invoice_hour</th>\n",
       "      <th>country__cat</th>\n",
       "    </tr>\n",
       "  </thead>\n",
       "  <tbody>\n",
       "    <tr>\n",
       "      <th>12</th>\n",
       "      <td>2</td>\n",
       "      <td>12</td>\n",
       "      <td>DOOR MAT BLACK FLOCK</td>\n",
       "      <td>10</td>\n",
       "      <td>2009-12-01 09:06:00</td>\n",
       "      <td>5.949219</td>\n",
       "      <td>59.500000</td>\n",
       "      <td>1</td>\n",
       "      <td>United Kingdom</td>\n",
       "      <td>False</td>\n",
       "      <td>...</td>\n",
       "      <td>242.0</td>\n",
       "      <td>1</td>\n",
       "      <td>0.004132</td>\n",
       "      <td>0.0</td>\n",
       "      <td>2009</td>\n",
       "      <td>12</td>\n",
       "      <td>1</td>\n",
       "      <td>335</td>\n",
       "      <td>9</td>\n",
       "      <td>0</td>\n",
       "    </tr>\n",
       "    <tr>\n",
       "      <th>13</th>\n",
       "      <td>2</td>\n",
       "      <td>13</td>\n",
       "      <td>LOVE BUILDING BLOCK WORD</td>\n",
       "      <td>18</td>\n",
       "      <td>2009-12-01 09:06:00</td>\n",
       "      <td>5.449219</td>\n",
       "      <td>98.099998</td>\n",
       "      <td>1</td>\n",
       "      <td>United Kingdom</td>\n",
       "      <td>False</td>\n",
       "      <td>...</td>\n",
       "      <td>890.0</td>\n",
       "      <td>11</td>\n",
       "      <td>0.012360</td>\n",
       "      <td>159.0</td>\n",
       "      <td>2009</td>\n",
       "      <td>12</td>\n",
       "      <td>1</td>\n",
       "      <td>335</td>\n",
       "      <td>9</td>\n",
       "      <td>0</td>\n",
       "    </tr>\n",
       "    <tr>\n",
       "      <th>14</th>\n",
       "      <td>2</td>\n",
       "      <td>14</td>\n",
       "      <td>HOME BUILDING BLOCK WORD</td>\n",
       "      <td>3</td>\n",
       "      <td>2009-12-01 09:06:00</td>\n",
       "      <td>5.949219</td>\n",
       "      <td>17.850000</td>\n",
       "      <td>1</td>\n",
       "      <td>United Kingdom</td>\n",
       "      <td>False</td>\n",
       "      <td>...</td>\n",
       "      <td>1081.0</td>\n",
       "      <td>11</td>\n",
       "      <td>0.010176</td>\n",
       "      <td>183.0</td>\n",
       "      <td>2009</td>\n",
       "      <td>12</td>\n",
       "      <td>1</td>\n",
       "      <td>335</td>\n",
       "      <td>9</td>\n",
       "      <td>0</td>\n",
       "    </tr>\n",
       "    <tr>\n",
       "      <th>15</th>\n",
       "      <td>2</td>\n",
       "      <td>15</td>\n",
       "      <td>ASSORTED COLOUR BIRD ORNAMENT</td>\n",
       "      <td>16</td>\n",
       "      <td>2009-12-01 09:06:00</td>\n",
       "      <td>1.690430</td>\n",
       "      <td>27.040001</td>\n",
       "      <td>1</td>\n",
       "      <td>United Kingdom</td>\n",
       "      <td>False</td>\n",
       "      <td>...</td>\n",
       "      <td>1384.0</td>\n",
       "      <td>10</td>\n",
       "      <td>0.007225</td>\n",
       "      <td>0.0</td>\n",
       "      <td>2009</td>\n",
       "      <td>12</td>\n",
       "      <td>1</td>\n",
       "      <td>335</td>\n",
       "      <td>9</td>\n",
       "      <td>0</td>\n",
       "    </tr>\n",
       "    <tr>\n",
       "      <th>16</th>\n",
       "      <td>2</td>\n",
       "      <td>16</td>\n",
       "      <td>PEACE WOODEN BLOCK LETTERS</td>\n",
       "      <td>3</td>\n",
       "      <td>2009-12-01 09:06:00</td>\n",
       "      <td>6.949219</td>\n",
       "      <td>20.850000</td>\n",
       "      <td>1</td>\n",
       "      <td>United Kingdom</td>\n",
       "      <td>False</td>\n",
       "      <td>...</td>\n",
       "      <td>185.0</td>\n",
       "      <td>3</td>\n",
       "      <td>0.016216</td>\n",
       "      <td>243.0</td>\n",
       "      <td>2009</td>\n",
       "      <td>12</td>\n",
       "      <td>1</td>\n",
       "      <td>335</td>\n",
       "      <td>9</td>\n",
       "      <td>0</td>\n",
       "    </tr>\n",
       "  </tbody>\n",
       "</table>\n",
       "<p>5 rows × 24 columns</p>\n",
       "</div>"
      ],
      "text/plain": [
       "    invoice  stock_code                    description  quantity  \\\n",
       "12        2          12          DOOR MAT BLACK FLOCK         10   \n",
       "13        2          13       LOVE BUILDING BLOCK WORD        18   \n",
       "14        2          14       HOME BUILDING BLOCK WORD         3   \n",
       "15        2          15  ASSORTED COLOUR BIRD ORNAMENT        16   \n",
       "16        2          16     PEACE WOODEN BLOCK LETTERS         3   \n",
       "\n",
       "          invoice_date  price_unit  price_total  customer_id         country  \\\n",
       "12 2009-12-01 09:06:00    5.949219    59.500000            1  United Kingdom   \n",
       "13 2009-12-01 09:06:00    5.449219    98.099998            1  United Kingdom   \n",
       "14 2009-12-01 09:06:00    5.949219    17.850000            1  United Kingdom   \n",
       "15 2009-12-01 09:06:00    1.690430    27.040001            1  United Kingdom   \n",
       "16 2009-12-01 09:06:00    6.949219    20.850000            1  United Kingdom   \n",
       "\n",
       "   is_canceled  ...  cnt_product_orders  cnt_product_cancel  \\\n",
       "12       False  ...               242.0                   1   \n",
       "13       False  ...               890.0                  11   \n",
       "14       False  ...              1081.0                  11   \n",
       "15       False  ...              1384.0                  10   \n",
       "16       False  ...               185.0                   3   \n",
       "\n",
       "   prc_product_cancel  stock_word_score  invoice_year invoice_month  \\\n",
       "12           0.004132               0.0          2009            12   \n",
       "13           0.012360             159.0          2009            12   \n",
       "14           0.010176             183.0          2009            12   \n",
       "15           0.007225               0.0          2009            12   \n",
       "16           0.016216             243.0          2009            12   \n",
       "\n",
       "    invoice_day_of_m  invoice_day_of_y  invoice_hour  country__cat  \n",
       "12                 1               335             9             0  \n",
       "13                 1               335             9             0  \n",
       "14                 1               335             9             0  \n",
       "15                 1               335             9             0  \n",
       "16                 1               335             9             0  \n",
       "\n",
       "[5 rows x 24 columns]"
      ]
     },
     "execution_count": 94,
     "metadata": {},
     "output_type": "execute_result"
    }
   ],
   "source": [
    "df_all.head()"
   ]
  },
  {
   "cell_type": "code",
   "execution_count": 171,
   "metadata": {},
   "outputs": [],
   "source": [
    "num_order_canceled = df_all['stock_code'].map(group_to_dict('stock_code', agg_func=np.sum))\n",
    "order_to_descr_dict = df_all.groupby('stock_code')['description']"
   ]
  },
  {
   "cell_type": "code",
   "execution_count": 205,
   "metadata": {},
   "outputs": [],
   "source": [
    "n = df_all['stock_code'].value_counts()\n",
    "stoc_kodes = list(n.index)\n",
    "stock_desc_dic\n",
    "for i in range(df_all.shape[0]):\n",
    "    "
   ]
  },
  {
   "cell_type": "code",
   "execution_count": 206,
   "metadata": {},
   "outputs": [
    {
     "data": {
      "text/html": [
       "<div>\n",
       "<style scoped>\n",
       "    .dataframe tbody tr th:only-of-type {\n",
       "        vertical-align: middle;\n",
       "    }\n",
       "\n",
       "    .dataframe tbody tr th {\n",
       "        vertical-align: top;\n",
       "    }\n",
       "\n",
       "    .dataframe thead th {\n",
       "        text-align: right;\n",
       "    }\n",
       "</style>\n",
       "<table border=\"1\" class=\"dataframe\">\n",
       "  <thead>\n",
       "    <tr style=\"text-align: right;\">\n",
       "      <th></th>\n",
       "      <th>invoice</th>\n",
       "      <th>stock_code</th>\n",
       "      <th>description</th>\n",
       "      <th>quantity</th>\n",
       "      <th>invoice_date</th>\n",
       "      <th>price_unit</th>\n",
       "      <th>price_total</th>\n",
       "      <th>customer_id</th>\n",
       "      <th>country</th>\n",
       "      <th>is_canceled</th>\n",
       "      <th>is_test</th>\n",
       "    </tr>\n",
       "  </thead>\n",
       "  <tbody>\n",
       "    <tr>\n",
       "      <th>764</th>\n",
       "      <td>50</td>\n",
       "      <td>188</td>\n",
       "      <td>RED CHARLIE+LOLA PERSONAL DOORSIGN</td>\n",
       "      <td>1</td>\n",
       "      <td>2009-12-01 12:13:00</td>\n",
       "      <td>2.949219</td>\n",
       "      <td>2.950000</td>\n",
       "      <td>40</td>\n",
       "      <td>United Kingdom</td>\n",
       "      <td>False</td>\n",
       "      <td>False</td>\n",
       "    </tr>\n",
       "    <tr>\n",
       "      <th>4182</th>\n",
       "      <td>225</td>\n",
       "      <td>188</td>\n",
       "      <td>RED CHARLIE+LOLA PERSONAL DOORSIGN</td>\n",
       "      <td>96</td>\n",
       "      <td>2009-12-02 12:28:00</td>\n",
       "      <td>0.379883</td>\n",
       "      <td>36.480000</td>\n",
       "      <td>164</td>\n",
       "      <td>United Kingdom</td>\n",
       "      <td>False</td>\n",
       "      <td>False</td>\n",
       "    </tr>\n",
       "    <tr>\n",
       "      <th>23206</th>\n",
       "      <td>1123</td>\n",
       "      <td>188</td>\n",
       "      <td>RED CHARLIE+LOLA PERSONAL DOORSIGN</td>\n",
       "      <td>1</td>\n",
       "      <td>2009-12-10 12:21:00</td>\n",
       "      <td>2.949219</td>\n",
       "      <td>2.950000</td>\n",
       "      <td>704</td>\n",
       "      <td>United Kingdom</td>\n",
       "      <td>False</td>\n",
       "      <td>False</td>\n",
       "    </tr>\n",
       "    <tr>\n",
       "      <th>26542</th>\n",
       "      <td>1344</td>\n",
       "      <td>188</td>\n",
       "      <td>RED CHARLIE+LOLA PERSONAL DOORSIGN</td>\n",
       "      <td>1</td>\n",
       "      <td>2009-12-13 11:23:00</td>\n",
       "      <td>2.949219</td>\n",
       "      <td>2.950000</td>\n",
       "      <td>433</td>\n",
       "      <td>United Kingdom</td>\n",
       "      <td>False</td>\n",
       "      <td>False</td>\n",
       "    </tr>\n",
       "    <tr>\n",
       "      <th>34517</th>\n",
       "      <td>1676</td>\n",
       "      <td>188</td>\n",
       "      <td>RED CHARLIE+LOLA PERSONAL DOORSIGN</td>\n",
       "      <td>6</td>\n",
       "      <td>2009-12-16 11:46:00</td>\n",
       "      <td>2.949219</td>\n",
       "      <td>17.700001</td>\n",
       "      <td>933</td>\n",
       "      <td>United Kingdom</td>\n",
       "      <td>False</td>\n",
       "      <td>False</td>\n",
       "    </tr>\n",
       "    <tr>\n",
       "      <th>...</th>\n",
       "      <td>...</td>\n",
       "      <td>...</td>\n",
       "      <td>...</td>\n",
       "      <td>...</td>\n",
       "      <td>...</td>\n",
       "      <td>...</td>\n",
       "      <td>...</td>\n",
       "      <td>...</td>\n",
       "      <td>...</td>\n",
       "      <td>...</td>\n",
       "      <td>...</td>\n",
       "    </tr>\n",
       "    <tr>\n",
       "      <th>513509</th>\n",
       "      <td>52482</td>\n",
       "      <td>188</td>\n",
       "      <td>RED CHARLIE+LOLA PERSONAL DOORSIGN</td>\n",
       "      <td>1</td>\n",
       "      <td>2011-11-30 11:08:00</td>\n",
       "      <td>0.389893</td>\n",
       "      <td>0.390000</td>\n",
       "      <td>3949</td>\n",
       "      <td>United Kingdom</td>\n",
       "      <td>NaN</td>\n",
       "      <td>True</td>\n",
       "    </tr>\n",
       "    <tr>\n",
       "      <th>517276</th>\n",
       "      <td>52703</td>\n",
       "      <td>188</td>\n",
       "      <td>RED CHARLIE+LOLA PERSONAL DOORSIGN</td>\n",
       "      <td>1</td>\n",
       "      <td>2011-12-01 12:53:00</td>\n",
       "      <td>0.389893</td>\n",
       "      <td>0.390000</td>\n",
       "      <td>385</td>\n",
       "      <td>United Kingdom</td>\n",
       "      <td>NaN</td>\n",
       "      <td>True</td>\n",
       "    </tr>\n",
       "    <tr>\n",
       "      <th>517410</th>\n",
       "      <td>52709</td>\n",
       "      <td>188</td>\n",
       "      <td>RED CHARLIE+LOLA PERSONAL DOORSIGN</td>\n",
       "      <td>8</td>\n",
       "      <td>2011-12-01 13:08:00</td>\n",
       "      <td>0.389893</td>\n",
       "      <td>3.120000</td>\n",
       "      <td>5135</td>\n",
       "      <td>United Kingdom</td>\n",
       "      <td>NaN</td>\n",
       "      <td>True</td>\n",
       "    </tr>\n",
       "    <tr>\n",
       "      <th>530627</th>\n",
       "      <td>53212</td>\n",
       "      <td>188</td>\n",
       "      <td>RED CHARLIE+LOLA PERSONAL DOORSIGN</td>\n",
       "      <td>2</td>\n",
       "      <td>2011-12-06 12:12:00</td>\n",
       "      <td>0.389893</td>\n",
       "      <td>0.780000</td>\n",
       "      <td>4718</td>\n",
       "      <td>United Kingdom</td>\n",
       "      <td>NaN</td>\n",
       "      <td>True</td>\n",
       "    </tr>\n",
       "    <tr>\n",
       "      <th>536887</th>\n",
       "      <td>53444</td>\n",
       "      <td>188</td>\n",
       "      <td>RED CHARLIE+LOLA PERSONAL DOORSIGN</td>\n",
       "      <td>24</td>\n",
       "      <td>2011-12-08 09:47:00</td>\n",
       "      <td>0.389893</td>\n",
       "      <td>9.360000</td>\n",
       "      <td>665</td>\n",
       "      <td>United Kingdom</td>\n",
       "      <td>NaN</td>\n",
       "      <td>True</td>\n",
       "    </tr>\n",
       "  </tbody>\n",
       "</table>\n",
       "<p>175 rows × 11 columns</p>\n",
       "</div>"
      ],
      "text/plain": [
       "        invoice  stock_code                         description  quantity  \\\n",
       "764          50         188  RED CHARLIE+LOLA PERSONAL DOORSIGN         1   \n",
       "4182        225         188  RED CHARLIE+LOLA PERSONAL DOORSIGN        96   \n",
       "23206      1123         188  RED CHARLIE+LOLA PERSONAL DOORSIGN         1   \n",
       "26542      1344         188  RED CHARLIE+LOLA PERSONAL DOORSIGN         1   \n",
       "34517      1676         188  RED CHARLIE+LOLA PERSONAL DOORSIGN         6   \n",
       "...         ...         ...                                 ...       ...   \n",
       "513509    52482         188  RED CHARLIE+LOLA PERSONAL DOORSIGN         1   \n",
       "517276    52703         188  RED CHARLIE+LOLA PERSONAL DOORSIGN         1   \n",
       "517410    52709         188  RED CHARLIE+LOLA PERSONAL DOORSIGN         8   \n",
       "530627    53212         188  RED CHARLIE+LOLA PERSONAL DOORSIGN         2   \n",
       "536887    53444         188  RED CHARLIE+LOLA PERSONAL DOORSIGN        24   \n",
       "\n",
       "              invoice_date  price_unit  price_total  customer_id  \\\n",
       "764    2009-12-01 12:13:00    2.949219     2.950000           40   \n",
       "4182   2009-12-02 12:28:00    0.379883    36.480000          164   \n",
       "23206  2009-12-10 12:21:00    2.949219     2.950000          704   \n",
       "26542  2009-12-13 11:23:00    2.949219     2.950000          433   \n",
       "34517  2009-12-16 11:46:00    2.949219    17.700001          933   \n",
       "...                    ...         ...          ...          ...   \n",
       "513509 2011-11-30 11:08:00    0.389893     0.390000         3949   \n",
       "517276 2011-12-01 12:53:00    0.389893     0.390000          385   \n",
       "517410 2011-12-01 13:08:00    0.389893     3.120000         5135   \n",
       "530627 2011-12-06 12:12:00    0.389893     0.780000         4718   \n",
       "536887 2011-12-08 09:47:00    0.389893     9.360000          665   \n",
       "\n",
       "               country is_canceled  is_test  \n",
       "764     United Kingdom       False    False  \n",
       "4182    United Kingdom       False    False  \n",
       "23206   United Kingdom       False    False  \n",
       "26542   United Kingdom       False    False  \n",
       "34517   United Kingdom       False    False  \n",
       "...                ...         ...      ...  \n",
       "513509  United Kingdom         NaN     True  \n",
       "517276  United Kingdom         NaN     True  \n",
       "517410  United Kingdom         NaN     True  \n",
       "530627  United Kingdom         NaN     True  \n",
       "536887  United Kingdom         NaN     True  \n",
       "\n",
       "[175 rows x 11 columns]"
      ]
     },
     "execution_count": 206,
     "metadata": {},
     "output_type": "execute_result"
    }
   ],
   "source": [
    "df_all[ df_all['stock_code'] == 188 ]"
   ]
  },
  {
   "cell_type": "markdown",
   "metadata": {},
   "source": [
    "# Train"
   ]
  },
  {
   "cell_type": "code",
   "execution_count": 6,
   "metadata": {},
   "outputs": [],
   "source": [
    "def get_feats_X_y(df, log_feats=False):\n",
    "    \n",
    "    # select feats\n",
    "    black_list = ['is_canceled', 'is_test', 'total_return']\n",
    "    feats = df.select_dtypes([np.bool, np.number]).columns\n",
    "    feats = [x for x in feats if x not in black_list]\n",
    "    if log_feats:\n",
    "        feats = [x for x in feats if x + '_log' not in df.columns]\n",
    "                  \n",
    "    X = df[feats].values\n",
    "    \n",
    "#     if group:\n",
    "#         if 'total_return_log' in df.columns:\n",
    "#             y = df['total_return_log'].values \n",
    "#         else:\n",
    "#             y = df['total_return'].values\n",
    "#     else:\n",
    "    y = df['is_canceled'].values\n",
    "    \n",
    "    return X, y, feats"
   ]
  },
  {
   "cell_type": "code",
   "execution_count": 7,
   "metadata": {},
   "outputs": [],
   "source": [
    "def test_model(model, scoring='recall', check_distribution=False):\n",
    "    cv = StratifiedKFold(n_splits=3, random_state=0, shuffle=True)\n",
    "    scores = cross_val_score(model, X, y, cv=cv, scoring=scoring)\n",
    "    print('scores: {}'.format(scores))\n",
    "    print('mean: {}, std: {} \\n'.format(np.mean(scores), np.std(scores)))\n",
    "    \n",
    "    if check_distribution:\n",
    "        y_pred = pd.Series(cross_val_predict(model, X, y, cv=cv))\n",
    "        print('y_pred value_counts: \\n{}'.format(y_pred.value_counts(normalize=True)))\n",
    "\n",
    "        \n",
    "        \n",
    "def plot_model_char(model, check_confusion=True, check_feature_importance=True, check_learning_curve=True):\n",
    "    \n",
    "    if check_confusion:\n",
    "        cv = StratifiedKFold(n_splits=3, random_state=0, shuffle=True)\n",
    "        y_pred = cross_val_predict(model, X, y, cv=cv)\n",
    "        skplt.metrics.plot_confusion_matrix(y, y_pred, normalize=True, figsize=(10 ,10))\n",
    "    \n",
    "    if check_feature_importance or check_learning_curve:\n",
    "        model.fit(X, y)\n",
    "    \n",
    "    if check_feature_importance:\n",
    "        skplt.estimators.plot_feature_importances(model, feature_names=feats, x_tick_rotation=90, figsize=(15, 5))\n",
    "    \n",
    "    if check_learning_curve:\n",
    "        skplt.estimators.plot_learning_curve(model, X, y, figsize=(15, 5), cv=3, scoring='recall');"
   ]
  },
  {
   "cell_type": "code",
   "execution_count": 8,
   "metadata": {},
   "outputs": [],
   "source": [
    "# prepare to train\n",
    "train = df_all[ ~df_all['is_test'] ].copy()\n",
    "test = df_all[ df_all['is_test'] ].copy()\n",
    "\n",
    "#release memory\n",
    "del df_all\n",
    "gc.collect()\n",
    "\n",
    "train['cnt_product_cancel'] = train['cnt_product_cancel'].astype(float)\n",
    "train['cnt_customer_cancel'] = train['cnt_customer_cancel'].astype(float)\n",
    "\n",
    "test['cnt_product_cancel'] = test['cnt_product_cancel'].astype(float)\n",
    "test['cnt_customer_cancel'] = test['cnt_customer_cancel'].astype(float)\n",
    "\n",
    "train['is_canceled'] = train['is_canceled'].astype(bool)"
   ]
  },
  {
   "cell_type": "code",
   "execution_count": 73,
   "metadata": {},
   "outputs": [
    {
     "name": "stdout",
     "output_type": "stream",
     "text": [
      "<class 'pandas.core.frame.DataFrame'>\n",
      "Int64Index: 520142 entries, 12 to 541909\n",
      "Data columns (total 24 columns):\n",
      "invoice                520142 non-null int32\n",
      "stock_code             520142 non-null int16\n",
      "description            517903 non-null object\n",
      "quantity               520142 non-null int32\n",
      "invoice_date           520142 non-null datetime64[ns]\n",
      "price_unit             520142 non-null float16\n",
      "price_total            520142 non-null float32\n",
      "customer_id            520142 non-null int16\n",
      "country                520142 non-null object\n",
      "is_canceled            520142 non-null bool\n",
      "is_test                520142 non-null bool\n",
      "cnt_customer_orders    520142 non-null float64\n",
      "cnt_customer_cancel    520142 non-null float64\n",
      "prc_customer_cancel    520142 non-null float64\n",
      "cnt_product_orders     520142 non-null float64\n",
      "cnt_product_cancel     520142 non-null float64\n",
      "prc_product_cancel     520142 non-null float64\n",
      "stock_word_score       520142 non-null int64\n",
      "invoice_year           520142 non-null int64\n",
      "invoice_month          520142 non-null int64\n",
      "invoice_day_of_m       520142 non-null int64\n",
      "invoice_day_of_y       520142 non-null int64\n",
      "invoice_hour           520142 non-null int64\n",
      "country__cat           520142 non-null int64\n",
      "dtypes: bool(2), datetime64[ns](1), float16(1), float32(1), float64(6), int16(2), int32(2), int64(7), object(2)\n",
      "memory usage: 77.4+ MB\n"
     ]
    }
   ],
   "source": [
    "train.info()"
   ]
  },
  {
   "cell_type": "markdown",
   "metadata": {},
   "source": [
    "# Product aproach"
   ]
  },
  {
   "cell_type": "code",
   "execution_count": null,
   "metadata": {},
   "outputs": [],
   "source": [
    "train['is_canceled'].value_counts(normalize=True)"
   ]
  },
  {
   "cell_type": "code",
   "execution_count": null,
   "metadata": {},
   "outputs": [],
   "source": [
    "orders['is_canceled'].value_counts(normalize=True)"
   ]
  },
  {
   "cell_type": "code",
   "execution_count": 206,
   "metadata": {},
   "outputs": [
    {
     "data": {
      "text/plain": [
       "['invoice',\n",
       " 'stock_code',\n",
       " 'quantity',\n",
       " 'price_unit',\n",
       " 'price_total',\n",
       " 'customer_id',\n",
       " 'cnt_customer_orders',\n",
       " 'cnt_customer_cancel',\n",
       " 'prc_customer_cancel',\n",
       " 'cnt_product_orders',\n",
       " 'cnt_product_cancel',\n",
       " 'prc_product_cancel',\n",
       " 'stock_word_score',\n",
       " 'invoice_year',\n",
       " 'invoice_month',\n",
       " 'invoice_day_of_m',\n",
       " 'invoice_day_of_y',\n",
       " 'invoice_hour',\n",
       " 'country__cat']"
      ]
     },
     "execution_count": 206,
     "metadata": {},
     "output_type": "execute_result"
    }
   ],
   "source": [
    "X, y, feats = get_feats_X_y(train)\n",
    "feats"
   ]
  },
  {
   "cell_type": "code",
   "execution_count": 132,
   "metadata": {},
   "outputs": [
    {
     "name": "stdout",
     "output_type": "stream",
     "text": [
      "scores: [0.38248571 0.37296809 0.39253462]\n",
      "mean: 0.3826628049663167, std: 0.007988982408813907 \n",
      "\n"
     ]
    }
   ],
   "source": [
    "model = DecisionTreeClassifier(max_depth=10, random_state=0)\n",
    "test_model(model)"
   ]
  },
  {
   "cell_type": "code",
   "execution_count": null,
   "metadata": {
    "scrolled": true
   },
   "outputs": [],
   "source": [
    "plot_model_char(model)"
   ]
  },
  {
   "cell_type": "code",
   "execution_count": 207,
   "metadata": {},
   "outputs": [],
   "source": [
    "xgb_params = {\n",
    "    'max_depth' : 10,\n",
    "    'n_estimators' : 100,\n",
    "    'learning_rate': 0.3,\n",
    "    'seed': 0\n",
    "}"
   ]
  },
  {
   "cell_type": "code",
   "execution_count": 208,
   "metadata": {},
   "outputs": [
    {
     "name": "stdout",
     "output_type": "stream",
     "text": [
      "scores: [0.57869395 0.59060807 0.57796508]\n",
      "mean: 0.5824223666514903, std: 0.0057958080124974635 \n",
      "\n"
     ]
    }
   ],
   "source": [
    "model = XGBClassifier(**xgb_params)\n",
    "test_model(model)"
   ]
  },
  {
   "cell_type": "code",
   "execution_count": 209,
   "metadata": {
    "scrolled": true
   },
   "outputs": [
    {
     "data": {
      "image/png": "[encoded data removed]",
      "text/plain": [
       "<Figure size 1080x360 with 1 Axes>"
      ]
     },
     "metadata": {
      "needs_background": "light"
     },
     "output_type": "display_data"
    },
    {
     "data": {
      "image/png": "[encoded data removed]",
      "text/plain": [
       "<Figure size 1080x360 with 1 Axes>"
      ]
     },
     "metadata": {
      "needs_background": "light"
     },
     "output_type": "display_data"
    }
   ],
   "source": [
    "plot_model_char(model, False, True, True)"
   ]
  },
  {
   "cell_type": "code",
   "execution_count": 210,
   "metadata": {},
   "outputs": [],
   "source": [
    "# m = XGBClassifier(**xgb_params)\n",
    "# m.fit(X,y)\n",
    "\n",
    "# imp = PermutationImportance(m, random_state=0).fit(X,y)\n",
    "# eli5.show_weights(imp, feature_names=feats)"
   ]
  },
  {
   "cell_type": "code",
   "execution_count": 46,
   "metadata": {
    "scrolled": true
   },
   "outputs": [
    {
     "name": "stdout",
     "output_type": "stream",
     "text": [
      "100%|██████████| 30/30 [2:39:16<00:00, 318.55s/trial, best loss: 0.4029297565378622]  \n",
      "The best params:  {'x_colsample_bytree': 0.954356555198908, 'x_learning_rate': 0.16135606892076726, 'x_max_depth': 19.0, 'x_min_child_weight': 3.0, 'x_reg_alpha': 1.2169884097623032, 'x_reg_lambda': 0.9431823743243067, 'x_subsample': 0.9604521894595064}\n"
     ]
    }
   ],
   "source": [
    "def objective(space):\n",
    "    \n",
    "    xgb_params = {\n",
    "        'max_depth': int(space['max_depth']),\n",
    "        'colsample_bytree': space['colsample_bytree'],\n",
    "        'learning_rate': space['learning_rate'],\n",
    "        'subsample': space['subsample'],\n",
    "        'min_child_weight': int(space['min_child_weight']),\n",
    "        'reg_alpha': space['reg_alpha'],\n",
    "        'reg_lambda': space['reg_lambda'],\n",
    "        'n_estimators': 100,\n",
    "        'objective': 'reg:squarederror',\n",
    "        'random_state':0\n",
    "    }\n",
    "    \n",
    "    model = XGBClassifier(**xgb_params)\n",
    "    \n",
    "    cv = StratifiedKFold(n_splits=3, random_state=0, shuffle=True)\n",
    "    scores = cross_val_score(model, X, y, cv=cv, scoring='recall')\n",
    "    \n",
    "    score = 1 - np.mean(scores)\n",
    "    \n",
    "    return{'loss':score, 'status': STATUS_OK }\n",
    "    \n",
    "space ={\n",
    "    'max_depth': hp.quniform ('x_max_depth', 5, 20, 1),\n",
    "    'colsample_bytree': hp.uniform ('x_colsample_bytree', 0.8, 1.),\n",
    "    'learning_rate': hp.uniform ('x_learning_rate', 0.05, 0.2),\n",
    "    'subsample': hp.uniform ('x_subsample', 0.7, 1.),\n",
    "    'min_child_weight': hp.quniform ('x_min_child_weight', 1, 10, 1),\n",
    "    'reg_alpha': hp.loguniform ('x_reg_alpha', 0., 1.),\n",
    "    'reg_lambda': hp.uniform ('x_reg_lambda', 0.7, 1.),\n",
    "}\n",
    "\n",
    "\n",
    "trials = Trials()\n",
    "best_params = fmin(fn=objective,\n",
    "            space=space,\n",
    "            algo=partial(tpe.suggest, n_startup_jobs=1),\n",
    "            max_evals=30,\n",
    "            trials=trials)\n",
    "\n",
    "print(\"The best params: \", best_params)"
   ]
  },
  {
   "cell_type": "code",
   "execution_count": 136,
   "metadata": {},
   "outputs": [],
   "source": [
    "xgb_params = {\n",
    "    'max_depth' : 19,\n",
    "    'n_estimators' : 100,\n",
    "    'learning_rate': 0.16135606892076726,\n",
    "    'x_min_child_weight': 3.0,\n",
    "    'x_reg_alpha': 1.2169884097623032,\n",
    "    'x_reg_lambda': 0.9431823743243067,\n",
    "    'x_subsample': 0.9604521894595064,\n",
    "    'x_colsample_bytree': 0.954356555198908,\n",
    "    'seed': 0\n",
    "}"
   ]
  },
  {
   "cell_type": "code",
   "execution_count": 26,
   "metadata": {},
   "outputs": [],
   "source": [
    "#train and predict\n",
    "\n",
    "model = XGBClassifier(**xgb_params)\n",
    "model.fit(train[feats], train['is_canceled'])\n",
    "test['is_canceled'] = model.predict(test[feats])\n",
    "\n",
    "#prepare submit\n",
    "test['total_return'] = test['price_total'] * test['is_canceled']\n",
    "result = test.groupby('invoice')['total_return'].agg(np.sum).to_frame().reset_index()\n",
    "\n",
    "result[ ['invoice', 'total_return'] ].to_csv('../../../output/xgb_and_cnt_features.csv', index=False)"
   ]
  },
  {
   "cell_type": "markdown",
   "metadata": {},
   "source": [
    "# Order aproach"
   ]
  },
  {
   "cell_type": "code",
   "execution_count": 9,
   "metadata": {},
   "outputs": [
    {
     "data": {
      "text/html": [
       "<div>\n",
       "<style scoped>\n",
       "    .dataframe tbody tr th:only-of-type {\n",
       "        vertical-align: middle;\n",
       "    }\n",
       "\n",
       "    .dataframe tbody tr th {\n",
       "        vertical-align: top;\n",
       "    }\n",
       "\n",
       "    .dataframe thead th {\n",
       "        text-align: right;\n",
       "    }\n",
       "</style>\n",
       "<table border=\"1\" class=\"dataframe\">\n",
       "  <thead>\n",
       "    <tr style=\"text-align: right;\">\n",
       "      <th></th>\n",
       "      <th>invoice</th>\n",
       "      <th>stock_code</th>\n",
       "      <th>description</th>\n",
       "      <th>quantity</th>\n",
       "      <th>invoice_date</th>\n",
       "      <th>price_unit</th>\n",
       "      <th>price_total</th>\n",
       "      <th>customer_id</th>\n",
       "      <th>country</th>\n",
       "      <th>is_canceled</th>\n",
       "      <th>...</th>\n",
       "      <th>cnt_product_orders</th>\n",
       "      <th>cnt_product_cancel</th>\n",
       "      <th>prc_product_cancel</th>\n",
       "      <th>stock_word_score</th>\n",
       "      <th>invoice_year</th>\n",
       "      <th>invoice_month</th>\n",
       "      <th>invoice_day_of_m</th>\n",
       "      <th>invoice_day_of_y</th>\n",
       "      <th>invoice_hour</th>\n",
       "      <th>country__cat</th>\n",
       "    </tr>\n",
       "  </thead>\n",
       "  <tbody>\n",
       "    <tr>\n",
       "      <th>12</th>\n",
       "      <td>2</td>\n",
       "      <td>12</td>\n",
       "      <td>DOOR MAT BLACK FLOCK</td>\n",
       "      <td>10</td>\n",
       "      <td>2009-12-01 09:06:00</td>\n",
       "      <td>5.949219</td>\n",
       "      <td>59.500000</td>\n",
       "      <td>1</td>\n",
       "      <td>United Kingdom</td>\n",
       "      <td>False</td>\n",
       "      <td>...</td>\n",
       "      <td>242.0</td>\n",
       "      <td>1.0</td>\n",
       "      <td>0.004132</td>\n",
       "      <td>0</td>\n",
       "      <td>2009</td>\n",
       "      <td>12</td>\n",
       "      <td>1</td>\n",
       "      <td>335</td>\n",
       "      <td>9</td>\n",
       "      <td>0</td>\n",
       "    </tr>\n",
       "    <tr>\n",
       "      <th>13</th>\n",
       "      <td>2</td>\n",
       "      <td>13</td>\n",
       "      <td>LOVE BUILDING BLOCK WORD</td>\n",
       "      <td>18</td>\n",
       "      <td>2009-12-01 09:06:00</td>\n",
       "      <td>5.449219</td>\n",
       "      <td>98.099998</td>\n",
       "      <td>1</td>\n",
       "      <td>United Kingdom</td>\n",
       "      <td>False</td>\n",
       "      <td>...</td>\n",
       "      <td>890.0</td>\n",
       "      <td>11.0</td>\n",
       "      <td>0.012360</td>\n",
       "      <td>159</td>\n",
       "      <td>2009</td>\n",
       "      <td>12</td>\n",
       "      <td>1</td>\n",
       "      <td>335</td>\n",
       "      <td>9</td>\n",
       "      <td>0</td>\n",
       "    </tr>\n",
       "    <tr>\n",
       "      <th>14</th>\n",
       "      <td>2</td>\n",
       "      <td>14</td>\n",
       "      <td>HOME BUILDING BLOCK WORD</td>\n",
       "      <td>3</td>\n",
       "      <td>2009-12-01 09:06:00</td>\n",
       "      <td>5.949219</td>\n",
       "      <td>17.850000</td>\n",
       "      <td>1</td>\n",
       "      <td>United Kingdom</td>\n",
       "      <td>False</td>\n",
       "      <td>...</td>\n",
       "      <td>1081.0</td>\n",
       "      <td>11.0</td>\n",
       "      <td>0.010176</td>\n",
       "      <td>183</td>\n",
       "      <td>2009</td>\n",
       "      <td>12</td>\n",
       "      <td>1</td>\n",
       "      <td>335</td>\n",
       "      <td>9</td>\n",
       "      <td>0</td>\n",
       "    </tr>\n",
       "    <tr>\n",
       "      <th>15</th>\n",
       "      <td>2</td>\n",
       "      <td>15</td>\n",
       "      <td>ASSORTED COLOUR BIRD ORNAMENT</td>\n",
       "      <td>16</td>\n",
       "      <td>2009-12-01 09:06:00</td>\n",
       "      <td>1.690430</td>\n",
       "      <td>27.040001</td>\n",
       "      <td>1</td>\n",
       "      <td>United Kingdom</td>\n",
       "      <td>False</td>\n",
       "      <td>...</td>\n",
       "      <td>1384.0</td>\n",
       "      <td>10.0</td>\n",
       "      <td>0.007225</td>\n",
       "      <td>0</td>\n",
       "      <td>2009</td>\n",
       "      <td>12</td>\n",
       "      <td>1</td>\n",
       "      <td>335</td>\n",
       "      <td>9</td>\n",
       "      <td>0</td>\n",
       "    </tr>\n",
       "    <tr>\n",
       "      <th>16</th>\n",
       "      <td>2</td>\n",
       "      <td>16</td>\n",
       "      <td>PEACE WOODEN BLOCK LETTERS</td>\n",
       "      <td>3</td>\n",
       "      <td>2009-12-01 09:06:00</td>\n",
       "      <td>6.949219</td>\n",
       "      <td>20.850000</td>\n",
       "      <td>1</td>\n",
       "      <td>United Kingdom</td>\n",
       "      <td>False</td>\n",
       "      <td>...</td>\n",
       "      <td>185.0</td>\n",
       "      <td>3.0</td>\n",
       "      <td>0.016216</td>\n",
       "      <td>243</td>\n",
       "      <td>2009</td>\n",
       "      <td>12</td>\n",
       "      <td>1</td>\n",
       "      <td>335</td>\n",
       "      <td>9</td>\n",
       "      <td>0</td>\n",
       "    </tr>\n",
       "  </tbody>\n",
       "</table>\n",
       "<p>5 rows × 24 columns</p>\n",
       "</div>"
      ],
      "text/plain": [
       "    invoice  stock_code                    description  quantity  \\\n",
       "12        2          12          DOOR MAT BLACK FLOCK         10   \n",
       "13        2          13       LOVE BUILDING BLOCK WORD        18   \n",
       "14        2          14       HOME BUILDING BLOCK WORD         3   \n",
       "15        2          15  ASSORTED COLOUR BIRD ORNAMENT        16   \n",
       "16        2          16     PEACE WOODEN BLOCK LETTERS         3   \n",
       "\n",
       "          invoice_date  price_unit  price_total  customer_id         country  \\\n",
       "12 2009-12-01 09:06:00    5.949219    59.500000            1  United Kingdom   \n",
       "13 2009-12-01 09:06:00    5.449219    98.099998            1  United Kingdom   \n",
       "14 2009-12-01 09:06:00    5.949219    17.850000            1  United Kingdom   \n",
       "15 2009-12-01 09:06:00    1.690430    27.040001            1  United Kingdom   \n",
       "16 2009-12-01 09:06:00    6.949219    20.850000            1  United Kingdom   \n",
       "\n",
       "    is_canceled  ...  cnt_product_orders  cnt_product_cancel  \\\n",
       "12        False  ...               242.0                 1.0   \n",
       "13        False  ...               890.0                11.0   \n",
       "14        False  ...              1081.0                11.0   \n",
       "15        False  ...              1384.0                10.0   \n",
       "16        False  ...               185.0                 3.0   \n",
       "\n",
       "    prc_product_cancel  stock_word_score  invoice_year  invoice_month  \\\n",
       "12            0.004132                 0          2009             12   \n",
       "13            0.012360               159          2009             12   \n",
       "14            0.010176               183          2009             12   \n",
       "15            0.007225                 0          2009             12   \n",
       "16            0.016216               243          2009             12   \n",
       "\n",
       "    invoice_day_of_m  invoice_day_of_y  invoice_hour  country__cat  \n",
       "12                 1               335             9             0  \n",
       "13                 1               335             9             0  \n",
       "14                 1               335             9             0  \n",
       "15                 1               335             9             0  \n",
       "16                 1               335             9             0  \n",
       "\n",
       "[5 rows x 24 columns]"
      ]
     },
     "execution_count": 9,
     "metadata": {},
     "output_type": "execute_result"
    }
   ],
   "source": [
    "train.head()"
   ]
  },
  {
   "cell_type": "code",
   "execution_count": 60,
   "metadata": {
    "scrolled": true
   },
   "outputs": [],
   "source": [
    "def group_orders(df, params_to_group_by, params_to_agg, agg_fun, label_in_df):\n",
    "    orders = df.groupby(params_to_group_by)[params_to_agg].agg(agg_fun).reset_index()\n",
    "    \n",
    "    if label_in_df:\n",
    "        orders['is_canceled'] = orders['is_canceled'].map(lambda x: True if x>0 else False)\n",
    "#         orders['total_return'] = orders['price_total'] * orders['is_canceled']\n",
    "    return orders"
   ]
  },
  {
   "cell_type": "code",
   "execution_count": 61,
   "metadata": {},
   "outputs": [],
   "source": [
    "params_to_group_by = ['invoice', 'customer_id', 'cnt_customer_orders', 'cnt_customer_cancel', 'prc_customer_cancel', 'invoice_year', 'invoice_day_of_y']\n",
    "params_to_sum = ['price_total', 'is_canceled']\n",
    "params_to_mean = ['cnt_product_orders', 'cnt_product_cancel', 'prc_product_cancel', 'stock_word_score']"
   ]
  },
  {
   "cell_type": "code",
   "execution_count": 62,
   "metadata": {},
   "outputs": [],
   "source": [
    "train_group1 = group_orders(train, params_to_group_by, params_to_sum, np.sum, True)\n",
    "train_group2 = group_orders(train, params_to_group_by, params_to_mean, np.mean, False)\n",
    "test_group1 = group_orders(test, params_to_group_by, params_to_sum, np.sum, False)\n",
    "test_group2 = group_orders(test, params_to_group_by, params_to_mean, np.mean, False)"
   ]
  },
  {
   "cell_type": "code",
   "execution_count": 52,
   "metadata": {},
   "outputs": [
    {
     "data": {
      "text/html": [
       "<div>\n",
       "<style scoped>\n",
       "    .dataframe tbody tr th:only-of-type {\n",
       "        vertical-align: middle;\n",
       "    }\n",
       "\n",
       "    .dataframe tbody tr th {\n",
       "        vertical-align: top;\n",
       "    }\n",
       "\n",
       "    .dataframe thead th {\n",
       "        text-align: right;\n",
       "    }\n",
       "</style>\n",
       "<table border=\"1\" class=\"dataframe\">\n",
       "  <thead>\n",
       "    <tr style=\"text-align: right;\">\n",
       "      <th></th>\n",
       "      <th>invoice</th>\n",
       "      <th>customer_id</th>\n",
       "      <th>cnt_customer_orders</th>\n",
       "      <th>cnt_customer_cancel</th>\n",
       "      <th>prc_customer_cancel</th>\n",
       "      <th>invoice_year</th>\n",
       "      <th>invoice_day_of_y</th>\n",
       "      <th>price_total</th>\n",
       "      <th>is_canceled</th>\n",
       "    </tr>\n",
       "  </thead>\n",
       "  <tbody>\n",
       "    <tr>\n",
       "      <th>0</th>\n",
       "      <td>2</td>\n",
       "      <td>1</td>\n",
       "      <td>366.0</td>\n",
       "      <td>30.0</td>\n",
       "      <td>0.081967</td>\n",
       "      <td>2009</td>\n",
       "      <td>335</td>\n",
       "      <td>630.330017</td>\n",
       "      <td>False</td>\n",
       "    </tr>\n",
       "    <tr>\n",
       "      <th>1</th>\n",
       "      <td>3</td>\n",
       "      <td>2</td>\n",
       "      <td>40.0</td>\n",
       "      <td>0.0</td>\n",
       "      <td>0.000000</td>\n",
       "      <td>2009</td>\n",
       "      <td>335</td>\n",
       "      <td>310.750000</td>\n",
       "      <td>False</td>\n",
       "    </tr>\n",
       "    <tr>\n",
       "      <th>2</th>\n",
       "      <td>4</td>\n",
       "      <td>3</td>\n",
       "      <td>498.0</td>\n",
       "      <td>3.0</td>\n",
       "      <td>0.006024</td>\n",
       "      <td>2009</td>\n",
       "      <td>335</td>\n",
       "      <td>2286.239990</td>\n",
       "      <td>False</td>\n",
       "    </tr>\n",
       "    <tr>\n",
       "      <th>3</th>\n",
       "      <td>5</td>\n",
       "      <td>4</td>\n",
       "      <td>575.0</td>\n",
       "      <td>0.0</td>\n",
       "      <td>0.000000</td>\n",
       "      <td>2009</td>\n",
       "      <td>335</td>\n",
       "      <td>426.299988</td>\n",
       "      <td>False</td>\n",
       "    </tr>\n",
       "    <tr>\n",
       "      <th>4</th>\n",
       "      <td>8</td>\n",
       "      <td>6</td>\n",
       "      <td>101.0</td>\n",
       "      <td>1.0</td>\n",
       "      <td>0.009901</td>\n",
       "      <td>2009</td>\n",
       "      <td>335</td>\n",
       "      <td>382.369995</td>\n",
       "      <td>False</td>\n",
       "    </tr>\n",
       "  </tbody>\n",
       "</table>\n",
       "</div>"
      ],
      "text/plain": [
       "   invoice  customer_id  cnt_customer_orders  cnt_customer_cancel  \\\n",
       "0        2            1                366.0                 30.0   \n",
       "1        3            2                 40.0                  0.0   \n",
       "2        4            3                498.0                  3.0   \n",
       "3        5            4                575.0                  0.0   \n",
       "4        8            6                101.0                  1.0   \n",
       "\n",
       "   prc_customer_cancel  invoice_year  invoice_day_of_y  price_total  \\\n",
       "0             0.081967          2009               335   630.330017   \n",
       "1             0.000000          2009               335   310.750000   \n",
       "2             0.006024          2009               335  2286.239990   \n",
       "3             0.000000          2009               335   426.299988   \n",
       "4             0.009901          2009               335   382.369995   \n",
       "\n",
       "   is_canceled  \n",
       "0        False  \n",
       "1        False  \n",
       "2        False  \n",
       "3        False  \n",
       "4        False  "
      ]
     },
     "execution_count": 52,
     "metadata": {},
     "output_type": "execute_result"
    }
   ],
   "source": [
    "train_group1.head()"
   ]
  },
  {
   "cell_type": "code",
   "execution_count": 63,
   "metadata": {},
   "outputs": [],
   "source": [
    "train_group = train_group2\n",
    "train_group['price_total'] = train_group1['price_total']\n",
    "train_group['is_canceled'] = train_group1['is_canceled']\n",
    "# train_group['total_return'] = train_group1['total_return']\n",
    "\n",
    "test_group = test_group2\n",
    "test_group['price_total'] = test_group1['price_total']\n",
    "\n",
    "del train_group1, train_group2, test_group1, test_group2\n",
    "\n",
    "# TODO how many invoices in order"
   ]
  },
  {
   "cell_type": "code",
   "execution_count": 64,
   "metadata": {},
   "outputs": [],
   "source": [
    "# train_group['price_total'].describe()\n",
    "# cutoff_point = 1000\n",
    "# train_small = train_group[ train_group['price_total'] <= cutoff_point ]\n",
    "# train_big = train_group[ train_group['price_total'] > cutoff_point ]\n",
    "# train_small['price_total'].describe()\n",
    "# train_big['price_total'].describe()"
   ]
  },
  {
   "cell_type": "code",
   "execution_count": 55,
   "metadata": {},
   "outputs": [
    {
     "ename": "KeyError",
     "evalue": "\"['cnt_customer_cancel_log', 'cnt_product_cancel_log', 'price_total_log', 'cnt_customer_orders_log', 'cnt_product_orders_log'] not in index\"",
     "output_type": "error",
     "traceback": [
      "\u001b[0;31m---------------------------------------------------------------------------\u001b[0m",
      "\u001b[0;31mKeyError\u001b[0m                                  Traceback (most recent call last)",
      "\u001b[0;32m<ipython-input-55-49356f89650f>\u001b[0m in \u001b[0;36m<module>\u001b[0;34m\u001b[0m\n\u001b[0;32m----> 1\u001b[0;31m \u001b[0mtrain_group\u001b[0m\u001b[0;34m[\u001b[0m\u001b[0mfeats\u001b[0m\u001b[0;34m]\u001b[0m\u001b[0;34m.\u001b[0m\u001b[0mhist\u001b[0m\u001b[0;34m(\u001b[0m\u001b[0mfigsize\u001b[0m\u001b[0;34m=\u001b[0m\u001b[0;34m(\u001b[0m\u001b[0;36m16\u001b[0m\u001b[0;34m,\u001b[0m\u001b[0;36m18\u001b[0m\u001b[0;34m)\u001b[0m\u001b[0;34m,\u001b[0m\u001b[0mbins\u001b[0m\u001b[0;34m=\u001b[0m\u001b[0;36m50\u001b[0m\u001b[0;34m)\u001b[0m\u001b[0;34m;\u001b[0m\u001b[0;34m\u001b[0m\u001b[0;34m\u001b[0m\u001b[0m\n\u001b[0m",
      "\u001b[0;32m/home/jupyter/anaconda3/lib/python3.7/site-packages/pandas/core/frame.py\u001b[0m in \u001b[0;36m__getitem__\u001b[0;34m(self, key)\u001b[0m\n\u001b[1;32m   2999\u001b[0m             \u001b[0;32mif\u001b[0m \u001b[0mis_iterator\u001b[0m\u001b[0;34m(\u001b[0m\u001b[0mkey\u001b[0m\u001b[0;34m)\u001b[0m\u001b[0;34m:\u001b[0m\u001b[0;34m\u001b[0m\u001b[0;34m\u001b[0m\u001b[0m\n\u001b[1;32m   3000\u001b[0m                 \u001b[0mkey\u001b[0m \u001b[0;34m=\u001b[0m \u001b[0mlist\u001b[0m\u001b[0;34m(\u001b[0m\u001b[0mkey\u001b[0m\u001b[0;34m)\u001b[0m\u001b[0;34m\u001b[0m\u001b[0;34m\u001b[0m\u001b[0m\n\u001b[0;32m-> 3001\u001b[0;31m             \u001b[0mindexer\u001b[0m \u001b[0;34m=\u001b[0m \u001b[0mself\u001b[0m\u001b[0;34m.\u001b[0m\u001b[0mloc\u001b[0m\u001b[0;34m.\u001b[0m\u001b[0m_convert_to_indexer\u001b[0m\u001b[0;34m(\u001b[0m\u001b[0mkey\u001b[0m\u001b[0;34m,\u001b[0m \u001b[0maxis\u001b[0m\u001b[0;34m=\u001b[0m\u001b[0;36m1\u001b[0m\u001b[0;34m,\u001b[0m \u001b[0mraise_missing\u001b[0m\u001b[0;34m=\u001b[0m\u001b[0;32mTrue\u001b[0m\u001b[0;34m)\u001b[0m\u001b[0;34m\u001b[0m\u001b[0;34m\u001b[0m\u001b[0m\n\u001b[0m\u001b[1;32m   3002\u001b[0m \u001b[0;34m\u001b[0m\u001b[0m\n\u001b[1;32m   3003\u001b[0m         \u001b[0;31m# take() does not accept boolean indexers\u001b[0m\u001b[0;34m\u001b[0m\u001b[0;34m\u001b[0m\u001b[0;34m\u001b[0m\u001b[0m\n",
      "\u001b[0;32m/home/jupyter/anaconda3/lib/python3.7/site-packages/pandas/core/indexing.py\u001b[0m in \u001b[0;36m_convert_to_indexer\u001b[0;34m(self, obj, axis, is_setter, raise_missing)\u001b[0m\n\u001b[1;32m   1283\u001b[0m                 \u001b[0;31m# When setting, missing keys are not allowed, even with .loc:\u001b[0m\u001b[0;34m\u001b[0m\u001b[0;34m\u001b[0m\u001b[0;34m\u001b[0m\u001b[0m\n\u001b[1;32m   1284\u001b[0m                 \u001b[0mkwargs\u001b[0m \u001b[0;34m=\u001b[0m \u001b[0;34m{\u001b[0m\u001b[0;34m\"raise_missing\"\u001b[0m\u001b[0;34m:\u001b[0m \u001b[0;32mTrue\u001b[0m \u001b[0;32mif\u001b[0m \u001b[0mis_setter\u001b[0m \u001b[0;32melse\u001b[0m \u001b[0mraise_missing\u001b[0m\u001b[0;34m}\u001b[0m\u001b[0;34m\u001b[0m\u001b[0;34m\u001b[0m\u001b[0m\n\u001b[0;32m-> 1285\u001b[0;31m                 \u001b[0;32mreturn\u001b[0m \u001b[0mself\u001b[0m\u001b[0;34m.\u001b[0m\u001b[0m_get_listlike_indexer\u001b[0m\u001b[0;34m(\u001b[0m\u001b[0mobj\u001b[0m\u001b[0;34m,\u001b[0m \u001b[0maxis\u001b[0m\u001b[0;34m,\u001b[0m \u001b[0;34m**\u001b[0m\u001b[0mkwargs\u001b[0m\u001b[0;34m)\u001b[0m\u001b[0;34m[\u001b[0m\u001b[0;36m1\u001b[0m\u001b[0;34m]\u001b[0m\u001b[0;34m\u001b[0m\u001b[0;34m\u001b[0m\u001b[0m\n\u001b[0m\u001b[1;32m   1286\u001b[0m         \u001b[0;32melse\u001b[0m\u001b[0;34m:\u001b[0m\u001b[0;34m\u001b[0m\u001b[0;34m\u001b[0m\u001b[0m\n\u001b[1;32m   1287\u001b[0m             \u001b[0;32mtry\u001b[0m\u001b[0;34m:\u001b[0m\u001b[0;34m\u001b[0m\u001b[0;34m\u001b[0m\u001b[0m\n",
      "\u001b[0;32m/home/jupyter/anaconda3/lib/python3.7/site-packages/pandas/core/indexing.py\u001b[0m in \u001b[0;36m_get_listlike_indexer\u001b[0;34m(self, key, axis, raise_missing)\u001b[0m\n\u001b[1;32m   1090\u001b[0m \u001b[0;34m\u001b[0m\u001b[0m\n\u001b[1;32m   1091\u001b[0m         self._validate_read_indexer(\n\u001b[0;32m-> 1092\u001b[0;31m             \u001b[0mkeyarr\u001b[0m\u001b[0;34m,\u001b[0m \u001b[0mindexer\u001b[0m\u001b[0;34m,\u001b[0m \u001b[0mo\u001b[0m\u001b[0;34m.\u001b[0m\u001b[0m_get_axis_number\u001b[0m\u001b[0;34m(\u001b[0m\u001b[0maxis\u001b[0m\u001b[0;34m)\u001b[0m\u001b[0;34m,\u001b[0m \u001b[0mraise_missing\u001b[0m\u001b[0;34m=\u001b[0m\u001b[0mraise_missing\u001b[0m\u001b[0;34m\u001b[0m\u001b[0;34m\u001b[0m\u001b[0m\n\u001b[0m\u001b[1;32m   1093\u001b[0m         )\n\u001b[1;32m   1094\u001b[0m         \u001b[0;32mreturn\u001b[0m \u001b[0mkeyarr\u001b[0m\u001b[0;34m,\u001b[0m \u001b[0mindexer\u001b[0m\u001b[0;34m\u001b[0m\u001b[0;34m\u001b[0m\u001b[0m\n",
      "\u001b[0;32m/home/jupyter/anaconda3/lib/python3.7/site-packages/pandas/core/indexing.py\u001b[0m in \u001b[0;36m_validate_read_indexer\u001b[0;34m(self, key, indexer, axis, raise_missing)\u001b[0m\n\u001b[1;32m   1183\u001b[0m             \u001b[0;32mif\u001b[0m \u001b[0;32mnot\u001b[0m \u001b[0;34m(\u001b[0m\u001b[0mself\u001b[0m\u001b[0;34m.\u001b[0m\u001b[0mname\u001b[0m \u001b[0;34m==\u001b[0m \u001b[0;34m\"loc\"\u001b[0m \u001b[0;32mand\u001b[0m \u001b[0;32mnot\u001b[0m \u001b[0mraise_missing\u001b[0m\u001b[0;34m)\u001b[0m\u001b[0;34m:\u001b[0m\u001b[0;34m\u001b[0m\u001b[0;34m\u001b[0m\u001b[0m\n\u001b[1;32m   1184\u001b[0m                 \u001b[0mnot_found\u001b[0m \u001b[0;34m=\u001b[0m \u001b[0mlist\u001b[0m\u001b[0;34m(\u001b[0m\u001b[0mset\u001b[0m\u001b[0;34m(\u001b[0m\u001b[0mkey\u001b[0m\u001b[0;34m)\u001b[0m \u001b[0;34m-\u001b[0m \u001b[0mset\u001b[0m\u001b[0;34m(\u001b[0m\u001b[0max\u001b[0m\u001b[0;34m)\u001b[0m\u001b[0;34m)\u001b[0m\u001b[0;34m\u001b[0m\u001b[0;34m\u001b[0m\u001b[0m\n\u001b[0;32m-> 1185\u001b[0;31m                 \u001b[0;32mraise\u001b[0m \u001b[0mKeyError\u001b[0m\u001b[0;34m(\u001b[0m\u001b[0;34m\"{} not in index\"\u001b[0m\u001b[0;34m.\u001b[0m\u001b[0mformat\u001b[0m\u001b[0;34m(\u001b[0m\u001b[0mnot_found\u001b[0m\u001b[0;34m)\u001b[0m\u001b[0;34m)\u001b[0m\u001b[0;34m\u001b[0m\u001b[0;34m\u001b[0m\u001b[0m\n\u001b[0m\u001b[1;32m   1186\u001b[0m \u001b[0;34m\u001b[0m\u001b[0m\n\u001b[1;32m   1187\u001b[0m             \u001b[0;31m# we skip the warning on Categorical/Interval\u001b[0m\u001b[0;34m\u001b[0m\u001b[0;34m\u001b[0m\u001b[0;34m\u001b[0m\u001b[0m\n",
      "\u001b[0;31mKeyError\u001b[0m: \"['cnt_customer_cancel_log', 'cnt_product_cancel_log', 'price_total_log', 'cnt_customer_orders_log', 'cnt_product_orders_log'] not in index\""
     ]
    }
   ],
   "source": [
    "X, y, feats = get_feats_X_y(test_group)\n",
    "train_group[feats].hist(figsize=(16,18),bins=50);"
   ]
  },
  {
   "cell_type": "code",
   "execution_count": 65,
   "metadata": {},
   "outputs": [],
   "source": [
    "feats_to_log = ['cnt_customer_orders', 'cnt_customer_cancel', 'cnt_product_orders', 'cnt_product_cancel', 'price_total']"
   ]
  },
  {
   "cell_type": "code",
   "execution_count": 66,
   "metadata": {},
   "outputs": [
    {
     "data": {
      "text/plain": [
       "0.000000       0.099724\n",
       "15.000000      0.003618\n",
       "4.950000       0.003282\n",
       "8.500000       0.002872\n",
       "12.750000      0.002797\n",
       "                 ...   \n",
       "2383.830078    0.000037\n",
       "1639.910034    0.000037\n",
       "422.679993     0.000037\n",
       "595.950012     0.000037\n",
       "351.470001     0.000037\n",
       "Name: price_total, Length: 16864, dtype: float64"
      ]
     },
     "execution_count": 66,
     "metadata": {},
     "output_type": "execute_result"
    }
   ],
   "source": [
    "train_group['price_total'].value_counts(normalize=True)"
   ]
  },
  {
   "cell_type": "code",
   "execution_count": 74,
   "metadata": {},
   "outputs": [],
   "source": [
    "train_group_n0 = train_group[ train_group['price_total'] > 0 ]"
   ]
  },
  {
   "cell_type": "code",
   "execution_count": 75,
   "metadata": {
    "scrolled": true
   },
   "outputs": [
    {
     "data": {
      "image/png": "[encoded data removed]",
      "text/plain": [
       "<Figure size 1080x216 with 2 Axes>"
      ]
     },
     "metadata": {
      "needs_background": "light"
     },
     "output_type": "display_data"
    },
    {
     "data": {
      "image/png": "[encoded data removed]",
      "text/plain": [
       "<Figure size 1080x216 with 2 Axes>"
      ]
     },
     "metadata": {
      "needs_background": "light"
     },
     "output_type": "display_data"
    },
    {
     "data": {
      "image/png": "[encoded data removed]",
      "text/plain": [
       "<Figure size 1080x216 with 2 Axes>"
      ]
     },
     "metadata": {
      "needs_background": "light"
     },
     "output_type": "display_data"
    },
    {
     "data": {
      "image/png": "[encoded data removed]",
      "text/plain": [
       "<Figure size 1080x216 with 2 Axes>"
      ]
     },
     "metadata": {
      "needs_background": "light"
     },
     "output_type": "display_data"
    },
    {
     "data": {
      "image/png": "[encoded data removed]",
      "text/plain": [
       "<Figure size 1080x216 with 2 Axes>"
      ]
     },
     "metadata": {
      "needs_background": "light"
     },
     "output_type": "display_data"
    }
   ],
   "source": [
    "for feat in feats_to_log:\n",
    "    plt.figure(figsize=(15,3))\n",
    "    \n",
    "    plt.subplot(1,2,1)\n",
    "    train_group[feat].hist(bins=50)\n",
    "    train_group_n0[feat].hist(bins=50)\n",
    "    \n",
    "    plt.subplot(1,2,2)\n",
    "    np.log1p(train_group[feat]).hist(bins=50)\n",
    "    np.log1p(train_group_n0[feat]).hist(bins=50)\n",
    "    \n",
    "    plt.title(feat)\n",
    "    plt.show()"
   ]
  },
  {
   "cell_type": "code",
   "execution_count": 76,
   "metadata": {},
   "outputs": [],
   "source": [
    "for feat in feats_to_log:\n",
    "    train_group[feat + '_log'] = np.log1p(train_group[feat])\n",
    "    if feat != 'total_return':\n",
    "        test_group[feat + '_log'] = np.log1p(test_group[feat])"
   ]
  },
  {
   "cell_type": "code",
   "execution_count": 86,
   "metadata": {},
   "outputs": [
    {
     "data": {
      "text/html": [
       "<div>\n",
       "<style scoped>\n",
       "    .dataframe tbody tr th:only-of-type {\n",
       "        vertical-align: middle;\n",
       "    }\n",
       "\n",
       "    .dataframe tbody tr th {\n",
       "        vertical-align: top;\n",
       "    }\n",
       "\n",
       "    .dataframe thead th {\n",
       "        text-align: right;\n",
       "    }\n",
       "</style>\n",
       "<table border=\"1\" class=\"dataframe\">\n",
       "  <thead>\n",
       "    <tr style=\"text-align: right;\">\n",
       "      <th></th>\n",
       "      <th>invoice</th>\n",
       "      <th>customer_id</th>\n",
       "      <th>cnt_customer_orders</th>\n",
       "      <th>cnt_customer_cancel</th>\n",
       "      <th>prc_customer_cancel</th>\n",
       "      <th>invoice_year</th>\n",
       "      <th>invoice_day_of_y</th>\n",
       "      <th>cnt_product_orders</th>\n",
       "      <th>cnt_product_cancel</th>\n",
       "      <th>prc_product_cancel</th>\n",
       "      <th>stock_word_score</th>\n",
       "      <th>price_total</th>\n",
       "      <th>is_canceled</th>\n",
       "      <th>cnt_customer_orders_log</th>\n",
       "      <th>cnt_customer_cancel_log</th>\n",
       "      <th>cnt_product_orders_log</th>\n",
       "      <th>cnt_product_cancel_log</th>\n",
       "      <th>price_total_log</th>\n",
       "    </tr>\n",
       "  </thead>\n",
       "  <tbody>\n",
       "    <tr>\n",
       "      <th>0</th>\n",
       "      <td>2</td>\n",
       "      <td>1</td>\n",
       "      <td>366.0</td>\n",
       "      <td>30.0</td>\n",
       "      <td>0.081967</td>\n",
       "      <td>2009</td>\n",
       "      <td>335</td>\n",
       "      <td>460.157895</td>\n",
       "      <td>5.578947</td>\n",
       "      <td>0.018126</td>\n",
       "      <td>410.315789</td>\n",
       "      <td>630.330017</td>\n",
       "      <td>False</td>\n",
       "      <td>5.905362</td>\n",
       "      <td>3.433987</td>\n",
       "      <td>6.133740</td>\n",
       "      <td>1.883875</td>\n",
       "      <td>6.447829</td>\n",
       "    </tr>\n",
       "    <tr>\n",
       "      <th>1</th>\n",
       "      <td>3</td>\n",
       "      <td>2</td>\n",
       "      <td>40.0</td>\n",
       "      <td>0.0</td>\n",
       "      <td>0.000000</td>\n",
       "      <td>2009</td>\n",
       "      <td>335</td>\n",
       "      <td>291.260870</td>\n",
       "      <td>4.391304</td>\n",
       "      <td>0.020913</td>\n",
       "      <td>436.304348</td>\n",
       "      <td>310.750000</td>\n",
       "      <td>False</td>\n",
       "      <td>3.713572</td>\n",
       "      <td>0.000000</td>\n",
       "      <td>5.677647</td>\n",
       "      <td>1.684787</td>\n",
       "      <td>5.742202</td>\n",
       "    </tr>\n",
       "    <tr>\n",
       "      <th>2</th>\n",
       "      <td>4</td>\n",
       "      <td>3</td>\n",
       "      <td>498.0</td>\n",
       "      <td>3.0</td>\n",
       "      <td>0.006024</td>\n",
       "      <td>2009</td>\n",
       "      <td>335</td>\n",
       "      <td>193.764706</td>\n",
       "      <td>1.941176</td>\n",
       "      <td>0.011923</td>\n",
       "      <td>647.705882</td>\n",
       "      <td>2286.239990</td>\n",
       "      <td>False</td>\n",
       "      <td>6.212606</td>\n",
       "      <td>1.386294</td>\n",
       "      <td>5.271792</td>\n",
       "      <td>1.078810</td>\n",
       "      <td>7.735101</td>\n",
       "    </tr>\n",
       "    <tr>\n",
       "      <th>3</th>\n",
       "      <td>5</td>\n",
       "      <td>4</td>\n",
       "      <td>575.0</td>\n",
       "      <td>0.0</td>\n",
       "      <td>0.000000</td>\n",
       "      <td>2009</td>\n",
       "      <td>335</td>\n",
       "      <td>423.947368</td>\n",
       "      <td>18.157895</td>\n",
       "      <td>0.026849</td>\n",
       "      <td>669.473684</td>\n",
       "      <td>426.299988</td>\n",
       "      <td>False</td>\n",
       "      <td>6.356108</td>\n",
       "      <td>0.000000</td>\n",
       "      <td>6.051965</td>\n",
       "      <td>2.952715</td>\n",
       "      <td>6.057487</td>\n",
       "    </tr>\n",
       "    <tr>\n",
       "      <th>4</th>\n",
       "      <td>8</td>\n",
       "      <td>6</td>\n",
       "      <td>101.0</td>\n",
       "      <td>1.0</td>\n",
       "      <td>0.009901</td>\n",
       "      <td>2009</td>\n",
       "      <td>335</td>\n",
       "      <td>411.217391</td>\n",
       "      <td>5.739130</td>\n",
       "      <td>0.009393</td>\n",
       "      <td>472.000000</td>\n",
       "      <td>382.369995</td>\n",
       "      <td>False</td>\n",
       "      <td>4.624973</td>\n",
       "      <td>0.693147</td>\n",
       "      <td>6.021551</td>\n",
       "      <td>1.907931</td>\n",
       "      <td>5.949000</td>\n",
       "    </tr>\n",
       "  </tbody>\n",
       "</table>\n",
       "</div>"
      ],
      "text/plain": [
       "   invoice  customer_id  cnt_customer_orders  cnt_customer_cancel  \\\n",
       "0        2            1                366.0                 30.0   \n",
       "1        3            2                 40.0                  0.0   \n",
       "2        4            3                498.0                  3.0   \n",
       "3        5            4                575.0                  0.0   \n",
       "4        8            6                101.0                  1.0   \n",
       "\n",
       "   prc_customer_cancel  invoice_year  invoice_day_of_y  cnt_product_orders  \\\n",
       "0             0.081967          2009               335          460.157895   \n",
       "1             0.000000          2009               335          291.260870   \n",
       "2             0.006024          2009               335          193.764706   \n",
       "3             0.000000          2009               335          423.947368   \n",
       "4             0.009901          2009               335          411.217391   \n",
       "\n",
       "   cnt_product_cancel  prc_product_cancel  stock_word_score  price_total  \\\n",
       "0            5.578947            0.018126        410.315789   630.330017   \n",
       "1            4.391304            0.020913        436.304348   310.750000   \n",
       "2            1.941176            0.011923        647.705882  2286.239990   \n",
       "3           18.157895            0.026849        669.473684   426.299988   \n",
       "4            5.739130            0.009393        472.000000   382.369995   \n",
       "\n",
       "   is_canceled  cnt_customer_orders_log  cnt_customer_cancel_log  \\\n",
       "0        False                 5.905362                 3.433987   \n",
       "1        False                 3.713572                 0.000000   \n",
       "2        False                 6.212606                 1.386294   \n",
       "3        False                 6.356108                 0.000000   \n",
       "4        False                 4.624973                 0.693147   \n",
       "\n",
       "   cnt_product_orders_log  cnt_product_cancel_log  price_total_log  \n",
       "0                6.133740                1.883875         6.447829  \n",
       "1                5.677647                1.684787         5.742202  \n",
       "2                5.271792                1.078810         7.735101  \n",
       "3                6.051965                2.952715         6.057487  \n",
       "4                6.021551                1.907931         5.949000  "
      ]
     },
     "execution_count": 86,
     "metadata": {},
     "output_type": "execute_result"
    }
   ],
   "source": [
    "train_group.head()"
   ]
  },
  {
   "cell_type": "code",
   "execution_count": 78,
   "metadata": {},
   "outputs": [
    {
     "data": {
      "text/plain": [
       "['invoice',\n",
       " 'customer_id',\n",
       " 'prc_customer_cancel',\n",
       " 'invoice_year',\n",
       " 'invoice_day_of_y',\n",
       " 'prc_product_cancel',\n",
       " 'stock_word_score',\n",
       " 'cnt_customer_orders_log',\n",
       " 'cnt_customer_cancel_log',\n",
       " 'cnt_product_orders_log',\n",
       " 'cnt_product_cancel_log',\n",
       " 'price_total_log']"
      ]
     },
     "execution_count": 78,
     "metadata": {},
     "output_type": "execute_result"
    }
   ],
   "source": [
    "X, y, feats = get_feats_X_y(train_group, True)\n",
    "feats"
   ]
  },
  {
   "cell_type": "code",
   "execution_count": 100,
   "metadata": {},
   "outputs": [
    {
     "ename": "KeyboardInterrupt",
     "evalue": "",
     "output_type": "error",
     "traceback": [
      "\u001b[0;31m---------------------------------------------------------------------------\u001b[0m",
      "\u001b[0;31mKeyboardInterrupt\u001b[0m                         Traceback (most recent call last)",
      "\u001b[0;32m<ipython-input-100-a5a530f72ef3>\u001b[0m in \u001b[0;36m<module>\u001b[0;34m\u001b[0m\n\u001b[1;32m      2\u001b[0m     \u001b[0;32mif\u001b[0m \u001b[0mfeat\u001b[0m \u001b[0;32mnot\u001b[0m \u001b[0;32min\u001b[0m \u001b[0;34m[\u001b[0m\u001b[0;34m'invoice'\u001b[0m\u001b[0;34m,\u001b[0m \u001b[0;34m'customer_id'\u001b[0m\u001b[0;34m,\u001b[0m \u001b[0;34m'stock_word_score'\u001b[0m\u001b[0;34m]\u001b[0m\u001b[0;34m:\u001b[0m\u001b[0;34m\u001b[0m\u001b[0;34m\u001b[0m\u001b[0m\n\u001b[1;32m      3\u001b[0m         \u001b[0mplt\u001b[0m\u001b[0;34m.\u001b[0m\u001b[0mfigure\u001b[0m\u001b[0;34m(\u001b[0m\u001b[0mfigsize\u001b[0m\u001b[0;34m=\u001b[0m\u001b[0;34m(\u001b[0m\u001b[0;36m10\u001b[0m\u001b[0;34m,\u001b[0m\u001b[0;36m5\u001b[0m\u001b[0;34m)\u001b[0m\u001b[0;34m)\u001b[0m\u001b[0;34m\u001b[0m\u001b[0;34m\u001b[0m\u001b[0m\n\u001b[0;32m----> 4\u001b[0;31m         \u001b[0msns\u001b[0m\u001b[0;34m.\u001b[0m\u001b[0mbarplot\u001b[0m\u001b[0;34m(\u001b[0m\u001b[0mx\u001b[0m\u001b[0;34m=\u001b[0m\u001b[0mfeat\u001b[0m\u001b[0;34m,\u001b[0m \u001b[0my\u001b[0m\u001b[0;34m=\u001b[0m\u001b[0;34m'is_canceled'\u001b[0m\u001b[0;34m,\u001b[0m \u001b[0mdata\u001b[0m\u001b[0;34m=\u001b[0m\u001b[0mtrain_group\u001b[0m\u001b[0;34m)\u001b[0m\u001b[0;34m\u001b[0m\u001b[0;34m\u001b[0m\u001b[0m\n\u001b[0m",
      "\u001b[0;32m/home/jupyter/anaconda3/lib/python3.7/site-packages/seaborn/categorical.py\u001b[0m in \u001b[0;36mbarplot\u001b[0;34m(x, y, hue, data, order, hue_order, estimator, ci, n_boot, units, orient, color, palette, saturation, errcolor, errwidth, capsize, dodge, ax, **kwargs)\u001b[0m\n\u001b[1;32m   3152\u001b[0m         \u001b[0max\u001b[0m \u001b[0;34m=\u001b[0m \u001b[0mplt\u001b[0m\u001b[0;34m.\u001b[0m\u001b[0mgca\u001b[0m\u001b[0;34m(\u001b[0m\u001b[0;34m)\u001b[0m\u001b[0;34m\u001b[0m\u001b[0;34m\u001b[0m\u001b[0m\n\u001b[1;32m   3153\u001b[0m \u001b[0;34m\u001b[0m\u001b[0m\n\u001b[0;32m-> 3154\u001b[0;31m     \u001b[0mplotter\u001b[0m\u001b[0;34m.\u001b[0m\u001b[0mplot\u001b[0m\u001b[0;34m(\u001b[0m\u001b[0max\u001b[0m\u001b[0;34m,\u001b[0m \u001b[0mkwargs\u001b[0m\u001b[0;34m)\u001b[0m\u001b[0;34m\u001b[0m\u001b[0;34m\u001b[0m\u001b[0m\n\u001b[0m\u001b[1;32m   3155\u001b[0m     \u001b[0;32mreturn\u001b[0m \u001b[0max\u001b[0m\u001b[0;34m\u001b[0m\u001b[0;34m\u001b[0m\u001b[0m\n\u001b[1;32m   3156\u001b[0m \u001b[0;34m\u001b[0m\u001b[0m\n",
      "\u001b[0;32m/home/jupyter/anaconda3/lib/python3.7/site-packages/seaborn/categorical.py\u001b[0m in \u001b[0;36mplot\u001b[0;34m(self, ax, bar_kws)\u001b[0m\n\u001b[1;32m   1659\u001b[0m     \u001b[0;32mdef\u001b[0m \u001b[0mplot\u001b[0m\u001b[0;34m(\u001b[0m\u001b[0mself\u001b[0m\u001b[0;34m,\u001b[0m \u001b[0max\u001b[0m\u001b[0;34m,\u001b[0m \u001b[0mbar_kws\u001b[0m\u001b[0;34m)\u001b[0m\u001b[0;34m:\u001b[0m\u001b[0;34m\u001b[0m\u001b[0;34m\u001b[0m\u001b[0m\n\u001b[1;32m   1660\u001b[0m         \u001b[0;34m\"\"\"Make the plot.\"\"\"\u001b[0m\u001b[0;34m\u001b[0m\u001b[0;34m\u001b[0m\u001b[0m\n\u001b[0;32m-> 1661\u001b[0;31m         \u001b[0mself\u001b[0m\u001b[0;34m.\u001b[0m\u001b[0mdraw_bars\u001b[0m\u001b[0;34m(\u001b[0m\u001b[0max\u001b[0m\u001b[0;34m,\u001b[0m \u001b[0mbar_kws\u001b[0m\u001b[0;34m)\u001b[0m\u001b[0;34m\u001b[0m\u001b[0;34m\u001b[0m\u001b[0m\n\u001b[0m\u001b[1;32m   1662\u001b[0m         \u001b[0mself\u001b[0m\u001b[0;34m.\u001b[0m\u001b[0mannotate_axes\u001b[0m\u001b[0;34m(\u001b[0m\u001b[0max\u001b[0m\u001b[0;34m)\u001b[0m\u001b[0;34m\u001b[0m\u001b[0;34m\u001b[0m\u001b[0m\n\u001b[1;32m   1663\u001b[0m         \u001b[0;32mif\u001b[0m \u001b[0mself\u001b[0m\u001b[0;34m.\u001b[0m\u001b[0morient\u001b[0m \u001b[0;34m==\u001b[0m \u001b[0;34m\"h\"\u001b[0m\u001b[0;34m:\u001b[0m\u001b[0;34m\u001b[0m\u001b[0;34m\u001b[0m\u001b[0m\n",
      "\u001b[0;32m/home/jupyter/anaconda3/lib/python3.7/site-packages/seaborn/categorical.py\u001b[0m in \u001b[0;36mdraw_bars\u001b[0;34m(self, ax, kws)\u001b[0m\n\u001b[1;32m   1634\u001b[0m                                \u001b[0merrcolors\u001b[0m\u001b[0;34m,\u001b[0m\u001b[0;34m\u001b[0m\u001b[0;34m\u001b[0m\u001b[0m\n\u001b[1;32m   1635\u001b[0m                                \u001b[0mself\u001b[0m\u001b[0;34m.\u001b[0m\u001b[0merrwidth\u001b[0m\u001b[0;34m,\u001b[0m\u001b[0;34m\u001b[0m\u001b[0;34m\u001b[0m\u001b[0m\n\u001b[0;32m-> 1636\u001b[0;31m                                self.capsize)\n\u001b[0m\u001b[1;32m   1637\u001b[0m \u001b[0;34m\u001b[0m\u001b[0m\n\u001b[1;32m   1638\u001b[0m         \u001b[0;32melse\u001b[0m\u001b[0;34m:\u001b[0m\u001b[0;34m\u001b[0m\u001b[0;34m\u001b[0m\u001b[0m\n",
      "\u001b[0;32m/home/jupyter/anaconda3/lib/python3.7/site-packages/seaborn/categorical.py\u001b[0m in \u001b[0;36mdraw_confints\u001b[0;34m(self, ax, at_group, confint, colors, errwidth, capsize, **kws)\u001b[0m\n\u001b[1;32m   1579\u001b[0m                                                 colors):\n\u001b[1;32m   1580\u001b[0m             \u001b[0;32mif\u001b[0m \u001b[0mself\u001b[0m\u001b[0;34m.\u001b[0m\u001b[0morient\u001b[0m \u001b[0;34m==\u001b[0m \u001b[0;34m\"v\"\u001b[0m\u001b[0;34m:\u001b[0m\u001b[0;34m\u001b[0m\u001b[0;34m\u001b[0m\u001b[0m\n\u001b[0;32m-> 1581\u001b[0;31m                 \u001b[0max\u001b[0m\u001b[0;34m.\u001b[0m\u001b[0mplot\u001b[0m\u001b[0;34m(\u001b[0m\u001b[0;34m[\u001b[0m\u001b[0mat\u001b[0m\u001b[0;34m,\u001b[0m \u001b[0mat\u001b[0m\u001b[0;34m]\u001b[0m\u001b[0;34m,\u001b[0m \u001b[0;34m[\u001b[0m\u001b[0mci_low\u001b[0m\u001b[0;34m,\u001b[0m \u001b[0mci_high\u001b[0m\u001b[0;34m]\u001b[0m\u001b[0;34m,\u001b[0m \u001b[0mcolor\u001b[0m\u001b[0;34m=\u001b[0m\u001b[0mcolor\u001b[0m\u001b[0;34m,\u001b[0m \u001b[0;34m**\u001b[0m\u001b[0mkws\u001b[0m\u001b[0;34m)\u001b[0m\u001b[0;34m\u001b[0m\u001b[0;34m\u001b[0m\u001b[0m\n\u001b[0m\u001b[1;32m   1582\u001b[0m                 \u001b[0;32mif\u001b[0m \u001b[0mcapsize\u001b[0m \u001b[0;32mis\u001b[0m \u001b[0;32mnot\u001b[0m \u001b[0;32mNone\u001b[0m\u001b[0;34m:\u001b[0m\u001b[0;34m\u001b[0m\u001b[0;34m\u001b[0m\u001b[0m\n\u001b[1;32m   1583\u001b[0m                     ax.plot([at - capsize / 2, at + capsize / 2],\n",
      "\u001b[0;32m/home/jupyter/anaconda3/lib/python3.7/site-packages/matplotlib/axes/_axes.py\u001b[0m in \u001b[0;36mplot\u001b[0;34m(self, scalex, scaley, data, *args, **kwargs)\u001b[0m\n\u001b[1;32m   1666\u001b[0m         \u001b[0;32mfor\u001b[0m \u001b[0mline\u001b[0m \u001b[0;32min\u001b[0m \u001b[0mlines\u001b[0m\u001b[0;34m:\u001b[0m\u001b[0;34m\u001b[0m\u001b[0;34m\u001b[0m\u001b[0m\n\u001b[1;32m   1667\u001b[0m             \u001b[0mself\u001b[0m\u001b[0;34m.\u001b[0m\u001b[0madd_line\u001b[0m\u001b[0;34m(\u001b[0m\u001b[0mline\u001b[0m\u001b[0;34m)\u001b[0m\u001b[0;34m\u001b[0m\u001b[0;34m\u001b[0m\u001b[0m\n\u001b[0;32m-> 1668\u001b[0;31m         \u001b[0mself\u001b[0m\u001b[0;34m.\u001b[0m\u001b[0mautoscale_view\u001b[0m\u001b[0;34m(\u001b[0m\u001b[0mscalex\u001b[0m\u001b[0;34m=\u001b[0m\u001b[0mscalex\u001b[0m\u001b[0;34m,\u001b[0m \u001b[0mscaley\u001b[0m\u001b[0;34m=\u001b[0m\u001b[0mscaley\u001b[0m\u001b[0;34m)\u001b[0m\u001b[0;34m\u001b[0m\u001b[0;34m\u001b[0m\u001b[0m\n\u001b[0m\u001b[1;32m   1669\u001b[0m         \u001b[0;32mreturn\u001b[0m \u001b[0mlines\u001b[0m\u001b[0;34m\u001b[0m\u001b[0;34m\u001b[0m\u001b[0m\n\u001b[1;32m   1670\u001b[0m \u001b[0;34m\u001b[0m\u001b[0m\n",
      "\u001b[0;32m/home/jupyter/anaconda3/lib/python3.7/site-packages/matplotlib/axes/_base.py\u001b[0m in \u001b[0;36mautoscale_view\u001b[0;34m(self, tight, scalex, scaley)\u001b[0m\n\u001b[1;32m   2414\u001b[0m                 (self._ymargin and scaley and self._autoscaleYon)):\n\u001b[1;32m   2415\u001b[0m             \u001b[0mstickies\u001b[0m \u001b[0;34m=\u001b[0m \u001b[0;34m[\u001b[0m\u001b[0martist\u001b[0m\u001b[0;34m.\u001b[0m\u001b[0msticky_edges\u001b[0m \u001b[0;32mfor\u001b[0m \u001b[0martist\u001b[0m \u001b[0;32min\u001b[0m \u001b[0mself\u001b[0m\u001b[0;34m.\u001b[0m\u001b[0mget_children\u001b[0m\u001b[0;34m(\u001b[0m\u001b[0;34m)\u001b[0m\u001b[0;34m]\u001b[0m\u001b[0;34m\u001b[0m\u001b[0;34m\u001b[0m\u001b[0m\n\u001b[0;32m-> 2416\u001b[0;31m             \u001b[0mx_stickies\u001b[0m \u001b[0;34m=\u001b[0m \u001b[0mnp\u001b[0m\u001b[0;34m.\u001b[0m\u001b[0marray\u001b[0m\u001b[0;34m(\u001b[0m\u001b[0;34m[\u001b[0m\u001b[0mx\u001b[0m \u001b[0;32mfor\u001b[0m \u001b[0msticky\u001b[0m \u001b[0;32min\u001b[0m \u001b[0mstickies\u001b[0m \u001b[0;32mfor\u001b[0m \u001b[0mx\u001b[0m \u001b[0;32min\u001b[0m \u001b[0msticky\u001b[0m\u001b[0;34m.\u001b[0m\u001b[0mx\u001b[0m\u001b[0;34m]\u001b[0m\u001b[0;34m)\u001b[0m\u001b[0;34m\u001b[0m\u001b[0;34m\u001b[0m\u001b[0m\n\u001b[0m\u001b[1;32m   2417\u001b[0m             \u001b[0my_stickies\u001b[0m \u001b[0;34m=\u001b[0m \u001b[0mnp\u001b[0m\u001b[0;34m.\u001b[0m\u001b[0marray\u001b[0m\u001b[0;34m(\u001b[0m\u001b[0;34m[\u001b[0m\u001b[0my\u001b[0m \u001b[0;32mfor\u001b[0m \u001b[0msticky\u001b[0m \u001b[0;32min\u001b[0m \u001b[0mstickies\u001b[0m \u001b[0;32mfor\u001b[0m \u001b[0my\u001b[0m \u001b[0;32min\u001b[0m \u001b[0msticky\u001b[0m\u001b[0;34m.\u001b[0m\u001b[0my\u001b[0m\u001b[0;34m]\u001b[0m\u001b[0;34m)\u001b[0m\u001b[0;34m\u001b[0m\u001b[0;34m\u001b[0m\u001b[0m\n\u001b[1;32m   2418\u001b[0m             \u001b[0;32mif\u001b[0m \u001b[0mself\u001b[0m\u001b[0;34m.\u001b[0m\u001b[0mget_xscale\u001b[0m\u001b[0;34m(\u001b[0m\u001b[0;34m)\u001b[0m\u001b[0;34m.\u001b[0m\u001b[0mlower\u001b[0m\u001b[0;34m(\u001b[0m\u001b[0;34m)\u001b[0m \u001b[0;34m==\u001b[0m \u001b[0;34m'log'\u001b[0m\u001b[0;34m:\u001b[0m\u001b[0;34m\u001b[0m\u001b[0;34m\u001b[0m\u001b[0m\n",
      "\u001b[0;32m/home/jupyter/anaconda3/lib/python3.7/site-packages/matplotlib/axes/_base.py\u001b[0m in \u001b[0;36m<listcomp>\u001b[0;34m(.0)\u001b[0m\n\u001b[1;32m   2414\u001b[0m                 (self._ymargin and scaley and self._autoscaleYon)):\n\u001b[1;32m   2415\u001b[0m             \u001b[0mstickies\u001b[0m \u001b[0;34m=\u001b[0m \u001b[0;34m[\u001b[0m\u001b[0martist\u001b[0m\u001b[0;34m.\u001b[0m\u001b[0msticky_edges\u001b[0m \u001b[0;32mfor\u001b[0m \u001b[0martist\u001b[0m \u001b[0;32min\u001b[0m \u001b[0mself\u001b[0m\u001b[0;34m.\u001b[0m\u001b[0mget_children\u001b[0m\u001b[0;34m(\u001b[0m\u001b[0;34m)\u001b[0m\u001b[0;34m]\u001b[0m\u001b[0;34m\u001b[0m\u001b[0;34m\u001b[0m\u001b[0m\n\u001b[0;32m-> 2416\u001b[0;31m             \u001b[0mx_stickies\u001b[0m \u001b[0;34m=\u001b[0m \u001b[0mnp\u001b[0m\u001b[0;34m.\u001b[0m\u001b[0marray\u001b[0m\u001b[0;34m(\u001b[0m\u001b[0;34m[\u001b[0m\u001b[0mx\u001b[0m \u001b[0;32mfor\u001b[0m \u001b[0msticky\u001b[0m \u001b[0;32min\u001b[0m \u001b[0mstickies\u001b[0m \u001b[0;32mfor\u001b[0m \u001b[0mx\u001b[0m \u001b[0;32min\u001b[0m \u001b[0msticky\u001b[0m\u001b[0;34m.\u001b[0m\u001b[0mx\u001b[0m\u001b[0;34m]\u001b[0m\u001b[0;34m)\u001b[0m\u001b[0;34m\u001b[0m\u001b[0;34m\u001b[0m\u001b[0m\n\u001b[0m\u001b[1;32m   2417\u001b[0m             \u001b[0my_stickies\u001b[0m \u001b[0;34m=\u001b[0m \u001b[0mnp\u001b[0m\u001b[0;34m.\u001b[0m\u001b[0marray\u001b[0m\u001b[0;34m(\u001b[0m\u001b[0;34m[\u001b[0m\u001b[0my\u001b[0m \u001b[0;32mfor\u001b[0m \u001b[0msticky\u001b[0m \u001b[0;32min\u001b[0m \u001b[0mstickies\u001b[0m \u001b[0;32mfor\u001b[0m \u001b[0my\u001b[0m \u001b[0;32min\u001b[0m \u001b[0msticky\u001b[0m\u001b[0;34m.\u001b[0m\u001b[0my\u001b[0m\u001b[0;34m]\u001b[0m\u001b[0;34m)\u001b[0m\u001b[0;34m\u001b[0m\u001b[0;34m\u001b[0m\u001b[0m\n\u001b[1;32m   2418\u001b[0m             \u001b[0;32mif\u001b[0m \u001b[0mself\u001b[0m\u001b[0;34m.\u001b[0m\u001b[0mget_xscale\u001b[0m\u001b[0;34m(\u001b[0m\u001b[0;34m)\u001b[0m\u001b[0;34m.\u001b[0m\u001b[0mlower\u001b[0m\u001b[0;34m(\u001b[0m\u001b[0;34m)\u001b[0m \u001b[0;34m==\u001b[0m \u001b[0;34m'log'\u001b[0m\u001b[0;34m:\u001b[0m\u001b[0;34m\u001b[0m\u001b[0;34m\u001b[0m\u001b[0m\n",
      "\u001b[0;31mKeyboardInterrupt\u001b[0m: "
     ]
    },
    {
     "data": {
      "image/png": "[encoded data removed]",
      "text/plain": [
       "<Figure size 720x360 with 1 Axes>"
      ]
     },
     "metadata": {
      "needs_background": "light"
     },
     "output_type": "display_data"
    },
    {
     "data": {
      "image/png": "[encoded data removed]",
      "text/plain": [
       "<Figure size 720x360 with 1 Axes>"
      ]
     },
     "metadata": {
      "needs_background": "light"
     },
     "output_type": "display_data"
    },
    {
     "data": {
      "image/png": "[encoded data removed]",
      "text/plain": [
       "<Figure size 720x360 with 1 Axes>"
      ]
     },
     "metadata": {
      "needs_background": "light"
     },
     "output_type": "display_data"
    },
    {
     "data": {
      "image/png": "[encoded data removed]",
      "text/plain": [
       "<Figure size 720x360 with 1 Axes>"
      ]
     },
     "metadata": {
      "needs_background": "light"
     },
     "output_type": "display_data"
    },
    {
     "data": {
      "image/png": "[encoded data removed]",
      "text/plain": [
       "<Figure size 720x360 with 1 Axes>"
      ]
     },
     "metadata": {
      "needs_background": "light"
     },
     "output_type": "display_data"
    },
    {
     "data": {
      "image/png": "[encoded data removed]",
      "text/plain": [
       "<Figure size 720x360 with 1 Axes>"
      ]
     },
     "metadata": {
      "needs_background": "light"
     },
     "output_type": "display_data"
    }
   ],
   "source": [
    "for feat in feats:\n",
    "    if feat not in ['invoice', 'customer_id', 'stock_word_score']:\n",
    "        plt.figure(figsize=(10,5))\n",
    "        sns.barplot(x=feat, y='is_canceled', data=train_group)"
   ]
  },
  {
   "cell_type": "code",
   "execution_count": 79,
   "metadata": {},
   "outputs": [],
   "source": [
    "xgb_params = {\n",
    "    'max_depth' : 4,\n",
    "    'n_estimators' : 100,\n",
    "    'learning_rate': 0.1,\n",
    "    'seed': 0\n",
    "}\n",
    "\n",
    "model = XGBClassifier(**xgb_params)"
   ]
  },
  {
   "cell_type": "code",
   "execution_count": 112,
   "metadata": {},
   "outputs": [
    {
     "name": "stdout",
     "output_type": "stream",
     "text": [
      "scores: [0.84370478 0.86034732 0.86324168]\n",
      "mean: 0.8557645923781959, std: 0.008609053689134007 \n",
      "\n"
     ]
    }
   ],
   "source": [
    "test_model(model)"
   ]
  },
  {
   "cell_type": "code",
   "execution_count": 113,
   "metadata": {},
   "outputs": [
    {
     "name": "stdout",
     "output_type": "stream",
     "text": [
      "scores: [0.86107091 0.85238784 0.85890014]\n",
      "mean: 0.8574529667149059, std: 0.0036895944382002535 \n",
      "\n"
     ]
    }
   ],
   "source": [
    "X, y, feats = get_feats_X_y(train_group_b, True)\n",
    "test_model(model)"
   ]
  },
  {
   "cell_type": "code",
   "execution_count": 24,
   "metadata": {
    "scrolled": true
   },
   "outputs": [
    {
     "data": {
      "image/png": "[encoded data removed]",
      "text/plain": [
       "<Figure size 720x720 with 2 Axes>"
      ]
     },
     "metadata": {
      "needs_background": "light"
     },
     "output_type": "display_data"
    },
    {
     "data": {
      "image/png": "[encoded data removed]",
      "text/plain": [
       "<Figure size 1080x360 with 1 Axes>"
      ]
     },
     "metadata": {
      "needs_background": "light"
     },
     "output_type": "display_data"
    },
    {
     "data": {
      "image/png": "[encoded data removed]",
      "text/plain": [
       "<Figure size 1080x360 with 1 Axes>"
      ]
     },
     "metadata": {
      "needs_background": "light"
     },
     "output_type": "display_data"
    }
   ],
   "source": [
    "plot_model_char(model)"
   ]
  },
  {
   "cell_type": "code",
   "execution_count": 33,
   "metadata": {},
   "outputs": [
    {
     "data": {
      "text/html": [
       "\n",
       "    <style>\n",
       "    table.eli5-weights tr:hover {\n",
       "        filter: brightness(85%);\n",
       "    }\n",
       "</style>\n",
       "\n",
       "\n",
       "\n",
       "    \n",
       "\n",
       "    \n",
       "\n",
       "    \n",
       "\n",
       "    \n",
       "\n",
       "    \n",
       "\n",
       "    \n",
       "\n",
       "\n",
       "    \n",
       "\n",
       "    \n",
       "\n",
       "    \n",
       "\n",
       "    \n",
       "\n",
       "    \n",
       "\n",
       "    \n",
       "\n",
       "\n",
       "    \n",
       "\n",
       "    \n",
       "\n",
       "    \n",
       "\n",
       "    \n",
       "\n",
       "    \n",
       "        <table class=\"eli5-weights eli5-feature-importances\" style=\"border-collapse: collapse; border: none; margin-top: 0em; table-layout: auto;\">\n",
       "    <thead>\n",
       "    <tr style=\"border: none;\">\n",
       "        <th style=\"padding: 0 1em 0 0.5em; text-align: right; border: none;\">Weight</th>\n",
       "        <th style=\"padding: 0 0.5em 0 0.5em; text-align: left; border: none;\">Feature</th>\n",
       "    </tr>\n",
       "    </thead>\n",
       "    <tbody>\n",
       "    \n",
       "        <tr style=\"background-color: hsl(120, 100.00%, 80.00%); border: none;\">\n",
       "            <td style=\"padding: 0 1em 0 0.5em; text-align: right; border: none;\">\n",
       "                0.1277\n",
       "                \n",
       "                    &plusmn; 0.0014\n",
       "                \n",
       "            </td>\n",
       "            <td style=\"padding: 0 0.5em 0 0.5em; text-align: left; border: none;\">\n",
       "                price_total_log\n",
       "            </td>\n",
       "        </tr>\n",
       "    \n",
       "        <tr style=\"background-color: hsl(120, 100.00%, 89.86%); border: none;\">\n",
       "            <td style=\"padding: 0 1em 0 0.5em; text-align: right; border: none;\">\n",
       "                0.0484\n",
       "                \n",
       "                    &plusmn; 0.0019\n",
       "                \n",
       "            </td>\n",
       "            <td style=\"padding: 0 0.5em 0 0.5em; text-align: left; border: none;\">\n",
       "                prc_customer_cancel\n",
       "            </td>\n",
       "        </tr>\n",
       "    \n",
       "        <tr style=\"background-color: hsl(120, 100.00%, 91.52%); border: none;\">\n",
       "            <td style=\"padding: 0 1em 0 0.5em; text-align: right; border: none;\">\n",
       "                0.0375\n",
       "                \n",
       "                    &plusmn; 0.0008\n",
       "                \n",
       "            </td>\n",
       "            <td style=\"padding: 0 0.5em 0 0.5em; text-align: left; border: none;\">\n",
       "                prc_product_cancel\n",
       "            </td>\n",
       "        </tr>\n",
       "    \n",
       "        <tr style=\"background-color: hsl(120, 100.00%, 95.87%); border: none;\">\n",
       "            <td style=\"padding: 0 1em 0 0.5em; text-align: right; border: none;\">\n",
       "                0.0134\n",
       "                \n",
       "                    &plusmn; 0.0014\n",
       "                \n",
       "            </td>\n",
       "            <td style=\"padding: 0 0.5em 0 0.5em; text-align: left; border: none;\">\n",
       "                customer_id\n",
       "            </td>\n",
       "        </tr>\n",
       "    \n",
       "        <tr style=\"background-color: hsl(120, 100.00%, 97.79%); border: none;\">\n",
       "            <td style=\"padding: 0 1em 0 0.5em; text-align: right; border: none;\">\n",
       "                0.0055\n",
       "                \n",
       "                    &plusmn; 0.0009\n",
       "                \n",
       "            </td>\n",
       "            <td style=\"padding: 0 0.5em 0 0.5em; text-align: left; border: none;\">\n",
       "                cnt_product_cancel_log\n",
       "            </td>\n",
       "        </tr>\n",
       "    \n",
       "        <tr style=\"background-color: hsl(120, 100.00%, 99.35%); border: none;\">\n",
       "            <td style=\"padding: 0 1em 0 0.5em; text-align: right; border: none;\">\n",
       "                0.0009\n",
       "                \n",
       "                    &plusmn; 0.0005\n",
       "                \n",
       "            </td>\n",
       "            <td style=\"padding: 0 0.5em 0 0.5em; text-align: left; border: none;\">\n",
       "                cnt_customer_orders_log\n",
       "            </td>\n",
       "        </tr>\n",
       "    \n",
       "        <tr style=\"background-color: hsl(120, 100.00%, 99.37%); border: none;\">\n",
       "            <td style=\"padding: 0 1em 0 0.5em; text-align: right; border: none;\">\n",
       "                0.0009\n",
       "                \n",
       "                    &plusmn; 0.0007\n",
       "                \n",
       "            </td>\n",
       "            <td style=\"padding: 0 0.5em 0 0.5em; text-align: left; border: none;\">\n",
       "                cnt_product_orders_log\n",
       "            </td>\n",
       "        </tr>\n",
       "    \n",
       "        <tr style=\"background-color: hsl(120, 100.00%, 99.37%); border: none;\">\n",
       "            <td style=\"padding: 0 1em 0 0.5em; text-align: right; border: none;\">\n",
       "                0.0009\n",
       "                \n",
       "                    &plusmn; 0.0001\n",
       "                \n",
       "            </td>\n",
       "            <td style=\"padding: 0 0.5em 0 0.5em; text-align: left; border: none;\">\n",
       "                stock_word_score\n",
       "            </td>\n",
       "        </tr>\n",
       "    \n",
       "        <tr style=\"background-color: hsl(120, 100.00%, 99.40%); border: none;\">\n",
       "            <td style=\"padding: 0 1em 0 0.5em; text-align: right; border: none;\">\n",
       "                0.0009\n",
       "                \n",
       "                    &plusmn; 0.0005\n",
       "                \n",
       "            </td>\n",
       "            <td style=\"padding: 0 0.5em 0 0.5em; text-align: left; border: none;\">\n",
       "                invoice\n",
       "            </td>\n",
       "        </tr>\n",
       "    \n",
       "        <tr style=\"background-color: hsl(120, 100.00%, 99.41%); border: none;\">\n",
       "            <td style=\"padding: 0 1em 0 0.5em; text-align: right; border: none;\">\n",
       "                0.0008\n",
       "                \n",
       "                    &plusmn; 0.0005\n",
       "                \n",
       "            </td>\n",
       "            <td style=\"padding: 0 0.5em 0 0.5em; text-align: left; border: none;\">\n",
       "                cnt_customer_cancel_log\n",
       "            </td>\n",
       "        </tr>\n",
       "    \n",
       "        <tr style=\"background-color: hsl(120, 100.00%, 99.86%); border: none;\">\n",
       "            <td style=\"padding: 0 1em 0 0.5em; text-align: right; border: none;\">\n",
       "                0.0001\n",
       "                \n",
       "                    &plusmn; 0.0001\n",
       "                \n",
       "            </td>\n",
       "            <td style=\"padding: 0 0.5em 0 0.5em; text-align: left; border: none;\">\n",
       "                invoice_day_of_y\n",
       "            </td>\n",
       "        </tr>\n",
       "    \n",
       "        <tr style=\"background-color: hsl(0, 100.00%, 100.00%); border: none;\">\n",
       "            <td style=\"padding: 0 1em 0 0.5em; text-align: right; border: none;\">\n",
       "                0\n",
       "                \n",
       "                    &plusmn; 0.0000\n",
       "                \n",
       "            </td>\n",
       "            <td style=\"padding: 0 0.5em 0 0.5em; text-align: left; border: none;\">\n",
       "                invoice_year\n",
       "            </td>\n",
       "        </tr>\n",
       "    \n",
       "    \n",
       "    </tbody>\n",
       "</table>\n",
       "    \n",
       "\n",
       "    \n",
       "\n",
       "\n",
       "    \n",
       "\n",
       "    \n",
       "\n",
       "    \n",
       "\n",
       "    \n",
       "\n",
       "    \n",
       "\n",
       "    \n",
       "\n",
       "\n",
       "\n"
      ],
      "text/plain": [
       "<IPython.core.display.HTML object>"
      ]
     },
     "execution_count": 33,
     "metadata": {},
     "output_type": "execute_result"
    }
   ],
   "source": [
    "m = XGBClassifier(**xgb_params)\n",
    "m.fit(X,y)\n",
    "\n",
    "imp = PermutationImportance(m, random_state=0).fit(X,y)\n",
    "eli5.show_weights(imp, feature_names=feats)"
   ]
  },
  {
   "cell_type": "code",
   "execution_count": 30,
   "metadata": {},
   "outputs": [
    {
     "name": "stdout",
     "output_type": "stream",
     "text": [
      "1345701.6\n"
     ]
    }
   ],
   "source": [
    "model = XGBClassifier(**xgb_params)\n",
    "model.fit(train_group[feats], train_group['is_canceled'])\n",
    "\n",
    "cv = StratifiedKFold(n_splits=3, random_state=0, shuffle=True)\n",
    "train_group['is_canceled_pred'] = cross_val_predict(model, X, y, cv=cv)\n",
    "\n",
    "train_group['total_return'] = train_group['price_total'] * train_group['is_canceled']\n",
    "train_group['total_return_pred'] = train_group['price_total'] * train_group['is_canceled_pred']\n",
    "score = mean_squared_error(train_group['total_return'], train_group['total_return_pred'])\n",
    "print(score)\n",
    "\n",
    "train_group['right_pred'] = train_group[['is_canceled', 'is_canceled_pred']].apply(lambda x: x['is_canceled'] == x['is_canceled_pred'], axis=1)"
   ]
  },
  {
   "cell_type": "code",
   "execution_count": 41,
   "metadata": {},
   "outputs": [
    {
     "data": {
      "text/plain": [
       "right_pred\n",
       "False    497.322388\n",
       "True     418.930115\n",
       "Name: price_total, dtype: float32"
      ]
     },
     "execution_count": 41,
     "metadata": {},
     "output_type": "execute_result"
    }
   ],
   "source": [
    "train_group.groupby('right_pred')['price_total'].agg(np.sum) / train_group.groupby('right_pred')['price_total'].agg(np.size)"
   ]
  },
  {
   "cell_type": "code",
   "execution_count": null,
   "metadata": {},
   "outputs": [],
   "source": [
    "plt."
   ]
  },
  {
   "cell_type": "code",
   "execution_count": 31,
   "metadata": {},
   "outputs": [
    {
     "data": {
      "text/plain": [
       "0        True\n",
       "1        True\n",
       "2        True\n",
       "3        True\n",
       "4        True\n",
       "         ... \n",
       "26809    True\n",
       "26810    True\n",
       "26811    True\n",
       "26812    True\n",
       "26813    True\n",
       "Name: right_pred, Length: 26814, dtype: bool"
      ]
     },
     "execution_count": 31,
     "metadata": {},
     "output_type": "execute_result"
    }
   ],
   "source": [
    "train_group['right_pred']"
   ]
  },
  {
   "cell_type": "code",
   "execution_count": 101,
   "metadata": {},
   "outputs": [
    {
     "data": {
      "text/plain": [
       "['invoice',\n",
       " 'customer_id',\n",
       " 'cnt_customer_orders',\n",
       " 'cnt_customer_cancel',\n",
       " 'prc_customer_cancel',\n",
       " 'invoice_year',\n",
       " 'invoice_day_of_y',\n",
       " 'cnt_product_orders',\n",
       " 'cnt_product_cancel',\n",
       " 'prc_product_cancel',\n",
       " 'stock_word_score',\n",
       " 'price_total']"
      ]
     },
     "execution_count": 101,
     "metadata": {},
     "output_type": "execute_result"
    }
   ],
   "source": [
    "feats"
   ]
  },
  {
   "cell_type": "code",
   "execution_count": null,
   "metadata": {},
   "outputs": [],
   "source": [
    "for feat in feats:\n",
    "    "
   ]
  },
  {
   "cell_type": "code",
   "execution_count": 188,
   "metadata": {},
   "outputs": [
    {
     "data": {
      "text/plain": [
       "2    0.0\n",
       "4    0.0\n",
       "Name: total_return, dtype: float32"
      ]
     },
     "execution_count": 188,
     "metadata": {},
     "output_type": "execute_result"
    }
   ],
   "source": [
    "train_group['total_return'].iloc[[2,4]]"
   ]
  },
  {
   "cell_type": "code",
   "execution_count": null,
   "metadata": {},
   "outputs": [],
   "source": [
    "train_group.columns"
   ]
  },
  {
   "cell_type": "code",
   "execution_count": 108,
   "metadata": {},
   "outputs": [
    {
     "name": "stdout",
     "output_type": "stream",
     "text": [
      "100%|██████████| 30/30 [02:00<00:00,  4.01s/trial, best loss: 0.1410998552821997]\n",
      "The best params:  {'x_colsample_bytree': 0.9791621251083934, 'x_learning_rate': 0.08414707058398958, 'x_max_depth': 8.0, 'x_min_child_weight': 5.0, 'x_reg_alpha': 2.4075819257817654, 'x_reg_lambda': 0.9215270825018709, 'x_subsample': 0.8986354204593947}\n"
     ]
    }
   ],
   "source": [
    "X, y, feats = get_feats_X_y(train_group, True)\n",
    "\n",
    "\n",
    "def objective(space):\n",
    "    \n",
    "    xgb_params = {\n",
    "        'max_depth': int(space['max_depth']),\n",
    "        'colsample_bytree': space['colsample_bytree'],\n",
    "        'learning_rate': space['learning_rate'],\n",
    "        'subsample': space['subsample'],\n",
    "        'min_child_weight': int(space['min_child_weight']),\n",
    "        'reg_alpha': space['reg_alpha'],\n",
    "        'reg_lambda': space['reg_lambda'],\n",
    "        'n_estimators': 100,\n",
    "        'objective': 'reg:squarederror',\n",
    "        'random_state':0\n",
    "    }\n",
    "\n",
    "    model = XGBClassifier(**xgb_params)\n",
    "    \n",
    "    cv = StratifiedKFold(n_splits=3, random_state=0, shuffle=True)\n",
    "    scores = cross_val_score(model, X, y, cv=cv, scoring='recall')\n",
    "    \n",
    "    final_score = 1 - np.mean(scores)\n",
    "    \n",
    "    \n",
    "#     cv = StratifiedKFold(n_splits=3, random_state=0, shuffle=True)\n",
    "    \n",
    "#     scores = []\n",
    "#     for train_idx, test_idx in cv.split(X, y):\n",
    "        \n",
    "#         model.fit(X[train_idx], y[train_idx])\n",
    "#         y_pred = model.predict(X[test_idx])\n",
    "        \n",
    "#         score = mean_squared_error(y_pred * train_group['total_return'].iloc[test_idx], train_group['total_return'].iloc[test_idx])\n",
    "#         scores.append(score)\n",
    "    \n",
    "#     final_score = np.mean(scores)\n",
    "\n",
    "    print('score: {}'.format(final_score))\n",
    "    return{'loss':final_score, 'status': STATUS_OK }\n",
    "    \n",
    "space ={\n",
    "    'max_depth': hp.quniform ('x_max_depth', 5, 20, 1),\n",
    "    'colsample_bytree': hp.uniform ('x_colsample_bytree', 0.8, 1.),\n",
    "    'learning_rate': hp.uniform ('x_learning_rate', 0.05, 0.3),\n",
    "    'subsample': hp.uniform ('x_subsample', 0.7, 1.),\n",
    "    'min_child_weight': hp.quniform ('x_min_child_weight', 1, 10, 1),\n",
    "    'reg_alpha': hp.loguniform ('x_reg_alpha', 0., 1.),\n",
    "    'reg_lambda': hp.uniform ('x_reg_lambda', 0.7, 1.),\n",
    "}\n",
    "\n",
    "\n",
    "trials = Trials()\n",
    "best_params = fmin(fn=objective,\n",
    "            space=space,\n",
    "            algo=partial(tpe.suggest, n_startup_jobs=1),\n",
    "            max_evals=30,\n",
    "            trials=trials)\n",
    "\n",
    "print(\"The best params: \", best_params)"
   ]
  },
  {
   "cell_type": "code",
   "execution_count": 111,
   "metadata": {},
   "outputs": [],
   "source": [
    "xgb_params = {'n_estimators': 100, 'x_colsample_bytree': 0.9791621251083934, 'x_learning_rate': 0.08414707058398958, 'x_max_depth': 8.0, 'x_min_child_weight': 5.0, 'x_reg_alpha': 2.4075819257817654, 'x_reg_lambda': 0.9215270825018709, 'x_subsample': 0.8986354204593947}"
   ]
  },
  {
   "cell_type": "code",
   "execution_count": 103,
   "metadata": {},
   "outputs": [],
   "source": [
    "model = XGBClassifier(**xgb_params)\n",
    "model.fit(train_group[feats], train_group['is_canceled'])\n",
    "test_group['is_canceled'] = model.predict(test_group[feats])\n",
    "\n",
    "#prepare submit\n",
    "test_group['total_return'] = test_group['price_total'] * test_group['is_canceled']\n",
    "test_group[ ['invoice', 'total_return'] ].to_csv('../../../output/xgb_and_cnt_features.csv', index=False)"
   ]
  }
 ],
 "metadata": {
  "kernelspec": {
   "display_name": "Python 3",
   "language": "python",
   "name": "python3"
  },
  "language_info": {
   "codemirror_mode": {
    "name": "ipython",
    "version": 3
   },
   "file_extension": ".py",
   "mimetype": "text/x-python",
   "name": "python",
   "nbconvert_exporter": "python",
   "pygments_lexer": "ipython3",
   "version": "3.7.4"
  }
 },
 "nbformat": 4,
 "nbformat_minor": 2
}
